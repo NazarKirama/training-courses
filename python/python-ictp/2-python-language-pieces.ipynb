{
 "cells": [
  {
   "cell_type": "markdown",
   "metadata": {
    "collapsed": true
   },
   "source": [
    "#### PYTHON FUNDAMENTALS | FROM BASICS TO ADVANCED ► PYTHON LANGUAGE PIECES\n",
    "---"
   ]
  },
  {
   "cell_type": "markdown",
   "metadata": {
    "collapsed": true
   },
   "source": [
    "### I. A slight reference to programming language spectrum\n",
    "\n",
    "The many existing languages can be classified into families based on their model of computation. The top-level division distinguishes between:\n",
    "\n",
    "* **declarative** languages, in which the focus is on **what** the computer is to do and;\n",
    "* **imperative** languages, in which the focus is on **how** the computer should do it.\n",
    "\n",
    "For instance in `SQL` (Structured Query Language) known as a declarative query language, you would specify **what** you want in that way:\n",
    "\n",
    "```\n",
    "SELECT name, age, sex\n",
    "FROM employee_table\n",
    "WHERE location=\"Trieste\"\n",
    "```\n",
    "\n",
    "In example above, you simply specify that you want `name, age, sex` columns from the `employee_table` where `location` column values is equal to `Trieste`. **Declarative** languages are in some sense \"higher level\"; they are more in tune with the programmer's view.\n",
    "\n",
    "**Imperative** languages predominate, however, mainly for performance reasons. In this family, you will find languages like `C` and `Python` among others.\n",
    "\n",
    "For more information on that wide topic, I can recommend getting a copy of that book: \"Programming Language Pragmatics\" from Michael L. Scott."
   ]
  },
  {
   "cell_type": "markdown",
   "metadata": {},
   "source": [
    "## II. The basics elements of Python"
   ]
  },
  {
   "cell_type": "markdown",
   "metadata": {},
   "source": [
    "In a very informal way, a Python program *\"do things with stuffs\"*. The \"stuffs\" are **objects** and you specify what you want to do with them using **statements**. Python provides many useful so-called built-in objects by default but you are free to create custom type of object using **classes**. "
   ]
  },
  {
   "cell_type": "markdown",
   "metadata": {},
   "source": [
    "### a. Objects\n",
    "\n",
    "Objects are essentially just pieces of memory, with values and sets of associated operations. As we'll see everything is an object in Python.\n",
    "\n",
    "For instance to create a string of characters \"internet of things\", simply write:"
   ]
  },
  {
   "cell_type": "code",
   "execution_count": 8,
   "metadata": {
    "collapsed": false
   },
   "outputs": [
    {
     "data": {
      "text/plain": [
       "'internet of things'"
      ]
     },
     "execution_count": 8,
     "metadata": {},
     "output_type": "execute_result"
    }
   ],
   "source": [
    "# A literal expression to create a string of character\n",
    "'internet of things'"
   ]
  },
  {
   "cell_type": "code",
   "execution_count": 9,
   "metadata": {
    "collapsed": false
   },
   "outputs": [
    {
     "data": {
      "text/plain": [
       "'0x10f82be88'"
      ]
     },
     "execution_count": 9,
     "metadata": {},
     "output_type": "execute_result"
    }
   ],
   "source": [
    "# This object is stored in memory at the following address\n",
    "hex(id('internet of things'))"
   ]
  },
  {
   "cell_type": "markdown",
   "metadata": {},
   "source": [
    "Every object has a **type** that defines the kinds of things that programs can do with objects of that type. `\"internet of things\"` object has type `str`."
   ]
  },
  {
   "cell_type": "code",
   "execution_count": 10,
   "metadata": {
    "collapsed": false
   },
   "outputs": [
    {
     "data": {
      "text/plain": [
       "str"
      ]
     },
     "execution_count": 10,
     "metadata": {},
     "output_type": "execute_result"
    }
   ],
   "source": [
    "type('internet of things')"
   ]
  },
  {
   "cell_type": "markdown",
   "metadata": {},
   "source": [
    "An object's type determines which operations the object support, or, in other words, which operations you can perform on the data value. For instance, objects of type `str` will support the `uppercase` operation."
   ]
  },
  {
   "cell_type": "code",
   "execution_count": 17,
   "metadata": {
    "collapsed": false
   },
   "outputs": [
    {
     "data": {
      "text/plain": [
       "'INTERNET OF THINGS'"
      ]
     },
     "execution_count": 17,
     "metadata": {},
     "output_type": "execute_result"
    }
   ],
   "source": [
    "'internet of things'.upper()"
   ]
  },
  {
   "cell_type": "markdown",
   "metadata": {},
   "source": [
    "When we say that everything is an object in Python, that's as well the case for `functions`. A `Function` object will have type `function`. Functions are **first class citizens**."
   ]
  },
  {
   "cell_type": "code",
   "execution_count": 20,
   "metadata": {
    "collapsed": false
   },
   "outputs": [
    {
     "data": {
      "text/plain": [
       "function"
      ]
     },
     "execution_count": 20,
     "metadata": {},
     "output_type": "execute_result"
    }
   ],
   "source": [
    "# Fuction declaration statement - will be covered later\n",
    "def square(x):\n",
    "    return x**2\n",
    "\n",
    "type(square)"
   ]
  },
  {
   "cell_type": "code",
   "execution_count": 22,
   "metadata": {
    "collapsed": false
   },
   "outputs": [
    {
     "data": {
      "text/plain": [
       "4"
      ]
     },
     "execution_count": 22,
     "metadata": {},
     "output_type": "execute_result"
    }
   ],
   "source": [
    "# To call the function to get the square of 2\n",
    "square(2)"
   ]
  },
  {
   "cell_type": "markdown",
   "metadata": {},
   "source": [
    "We will see how to create custom objects using classes later in the course.\n",
    "\n",
    "Now we have objects, we need to specify what to do with them."
   ]
  },
  {
   "cell_type": "markdown",
   "metadata": {},
   "source": [
    "### b. Statements"
   ]
  },
  {
   "cell_type": "code",
   "execution_count": null,
   "metadata": {
    "collapsed": true
   },
   "outputs": [],
   "source": []
  }
 ],
 "metadata": {
  "kernelspec": {
   "display_name": "Python 3",
   "language": "python",
   "name": "python3"
  },
  "language_info": {
   "codemirror_mode": {
    "name": "ipython",
    "version": 3
   },
   "file_extension": ".py",
   "mimetype": "text/x-python",
   "name": "python",
   "nbconvert_exporter": "python",
   "pygments_lexer": "ipython3",
   "version": "3.5.0"
  }
 },
 "nbformat": 4,
 "nbformat_minor": 2
}
