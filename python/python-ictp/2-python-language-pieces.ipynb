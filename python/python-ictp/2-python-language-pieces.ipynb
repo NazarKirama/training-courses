{
 "cells": [
  {
   "cell_type": "markdown",
   "metadata": {
    "collapsed": true
   },
   "source": [
    "#### PYTHON FUNDAMENTALS | FROM BASICS TO ADVANCED ► PYTHON LANGUAGE PIECES\n",
    "---"
   ]
  },
  {
   "cell_type": "code",
   "execution_count": null,
   "metadata": {
    "collapsed": true
   },
   "outputs": [],
   "source": []
  }
 ],
 "metadata": {
  "kernelspec": {
   "display_name": "Python ictp env",
   "language": "python",
   "name": "ictp"
  }
 },
 "nbformat": 4,
 "nbformat_minor": 2
}
