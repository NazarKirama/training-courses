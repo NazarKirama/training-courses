{
 "cells": [
  {
   "cell_type": "markdown",
   "metadata": {},
   "source": [
    "### PYTHON FUNDAMENTALS | BASE TYPES ▸ IF ELSE TESTS\n",
    "___\n",
    "\n",
    "This notebook provides a first very brief introduciton to `if else` tests. The topic will be covered in further details in next notebooks. \n",
    "\n",
    "To be in a position to start playing with Python, you have seen so far some built-in types, variables, for loops and functions. You just need `if else` tests and you are on track. \n",
    "\n",
    "`if else` tests simply allows to execute conditionnaly code blocks based on the value of an expression. For instance:"
   ]
  },
  {
   "cell_type": "code",
   "execution_count": 2,
   "metadata": {
    "collapsed": false
   },
   "outputs": [
    {
     "data": {
      "text/plain": [
       "False"
      ]
     },
     "execution_count": 2,
     "metadata": {},
     "output_type": "execute_result"
    }
   ],
   "source": [
    "a = 2\n",
    "b = 3\n",
    "a > b # returns False"
   ]
  },
  {
   "cell_type": "code",
   "execution_count": 5,
   "metadata": {
    "collapsed": false
   },
   "outputs": [
    {
     "name": "stdout",
     "output_type": "stream",
     "text": [
      "b is higher\n"
     ]
    }
   ],
   "source": [
    "if a > b:\n",
    "    print('a is higher')\n",
    "else:\n",
    "    print('b is higher')"
   ]
  },
  {
   "cell_type": "markdown",
   "metadata": {},
   "source": [
    "You can do all kind of tests:\n",
    "    \n",
    "```\n",
    "a > b\n",
    "a >= b\n",
    "a < b\n",
    "a <= b\n",
    "a == b\n",
    "a != b\n",
    "a in s\n",
    "a not in s\n",
    "\n",
    "```"
   ]
  },
  {
   "cell_type": "code",
   "execution_count": 11,
   "metadata": {
    "collapsed": false
   },
   "outputs": [
    {
     "name": "stdout",
     "output_type": "stream",
     "text": [
      "First code block executed\n",
      "a is in s\n"
     ]
    }
   ],
   "source": [
    "s = [1, 2, 8, 9]\n",
    "a = 9\n",
    "\n",
    "if a in s:\n",
    "    print(\"First code block executed\")\n",
    "    print('a is in s')\n",
    "else:\n",
    "    print(\"Second code block executed\")\n",
    "    print('a is not in s')"
   ]
  },
  {
   "cell_type": "markdown",
   "metadata": {},
   "source": [
    "Notice as the syntax looks natural !"
   ]
  }
 ],
 "metadata": {
  "anaconda-cloud": {},
  "kernelspec": {
   "display_name": "Python [default]",
   "language": "python",
   "name": "python2"
  },
  "language_info": {
   "codemirror_mode": {
    "name": "ipython",
    "version": 2
   },
   "file_extension": ".py",
   "mimetype": "text/x-python",
   "name": "python",
   "nbconvert_exporter": "python",
   "pygments_lexer": "ipython2",
   "version": "2.7.13"
  }
 },
 "nbformat": 4,
 "nbformat_minor": 2
}
