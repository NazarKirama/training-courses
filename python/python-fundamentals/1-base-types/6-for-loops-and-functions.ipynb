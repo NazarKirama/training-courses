{
 "cells": [
  {
   "cell_type": "markdown",
   "metadata": {},
   "source": [
    "### PYTHON FUNDAMENTALS | BASE TYPES ▸ FOR LOOPS AND FUNCTIONS\n",
    "___"
   ]
  },
  {
   "cell_type": "markdown",
   "metadata": {},
   "source": [
    "In software engineering, don't repeat yourself (DRY) is a principle of software development, aimed at reducing repetition of information of all kinds https://en.wikipedia.org/wiki/Don%27t_repeat_yourself. Decomposition, also know as **factoring**, of the problem you aim to address: breaking a complex problem or system into parts that are easier to conceive, understand, program, and maintain.\n",
    "\n",
    "`For` loops and `functions` are the first tools that will help you in that task."
   ]
  },
  {
   "cell_type": "code",
   "execution_count": 33,
   "metadata": {
    "collapsed": false
   },
   "outputs": [
    {
     "name": "stdout",
     "output_type": "stream",
     "text": [
      "1\n",
      "4\n",
      "9\n",
      "16\n"
     ]
    }
   ],
   "source": [
    "# Display the square of first 4 integers\n",
    "print(1**2)\n",
    "print(2**2)\n",
    "print(3**2)\n",
    "print(4**2)"
   ]
  },
  {
   "cell_type": "markdown",
   "metadata": {},
   "source": [
    "*Criterion*: Usually, as soon as you start copying and pasting a line more than 2 times, each time changing a single parameter, that's time for (re)factoring."
   ]
  },
  {
   "cell_type": "code",
   "execution_count": 34,
   "metadata": {
    "collapsed": false
   },
   "outputs": [
    {
     "name": "stdout",
     "output_type": "stream",
     "text": [
      "1\n",
      "4\n",
      "9\n",
      "16\n"
     ]
    }
   ],
   "source": [
    "# Using a for loop\n",
    "for x in range(1, 5):\n",
    "    # code block\n",
    "    print(x**2)"
   ]
  },
  {
   "cell_type": "markdown",
   "metadata": {},
   "source": [
    "The Python `for` statement iterates over the members of a sequence in order, executing the block each time. Here, the variable `x` will successively have the following value: 1, 2, 3, 4 and each time the `for loop` will execute the code block (here a single line)."
   ]
  },
  {
   "cell_type": "code",
   "execution_count": 35,
   "metadata": {
    "collapsed": false
   },
   "outputs": [
    {
     "name": "stdout",
     "output_type": "stream",
     "text": [
      "1\n",
      "spam\n",
      "4.5\n"
     ]
    }
   ],
   "source": [
    "# Another example\n",
    "my_list = [1, 'spam', 4.5]\n",
    "\n",
    "for x in my_list:\n",
    "    print(x)"
   ]
  },
  {
   "cell_type": "code",
   "execution_count": 36,
   "metadata": {
    "collapsed": false
   },
   "outputs": [
    {
     "name": "stdout",
     "output_type": "stream",
     "text": [
      "1\n",
      "16\n",
      "25\n",
      "49\n",
      "64\n",
      "100\n",
      "121\n",
      "1\n",
      "19.36\n",
      "25\n",
      "81\n",
      "64\n",
      "1000000\n",
      "121\n"
     ]
    }
   ],
   "source": [
    "# But now if we want to loop over different lists in different part of your code\n",
    "my_first_list = [1, 4, 5, 7, 8, 10, 11]\n",
    "for x in my_first_list:\n",
    "    print(x**2)\n",
    "    \n",
    "my_second_list = [1, 4.4, 5, 9, 8, 1000, 11]\n",
    "for x in my_second_list:\n",
    "    print(x**2)"
   ]
  },
  {
   "cell_type": "markdown",
   "metadata": {},
   "source": [
    "Again, this might be time to (re)factor your code using a `function`!"
   ]
  },
  {
   "cell_type": "code",
   "execution_count": 37,
   "metadata": {
    "collapsed": true
   },
   "outputs": [],
   "source": [
    "# We first define our function\n",
    "def f(seq):\n",
    "    for x in seq:\n",
    "        print(x**2)"
   ]
  },
  {
   "cell_type": "code",
   "execution_count": 38,
   "metadata": {
    "collapsed": false
   },
   "outputs": [
    {
     "name": "stdout",
     "output_type": "stream",
     "text": [
      "1\n",
      "16\n",
      "25\n",
      "49\n",
      "64\n",
      "100\n",
      "121\n"
     ]
    }
   ],
   "source": [
    "# Then we call it\n",
    "f(my_first_list)"
   ]
  },
  {
   "cell_type": "code",
   "execution_count": 39,
   "metadata": {
    "collapsed": false
   },
   "outputs": [
    {
     "name": "stdout",
     "output_type": "stream",
     "text": [
      "1\n",
      "19.36\n",
      "25\n",
      "81\n",
      "64\n",
      "1000000\n",
      "121\n"
     ]
    }
   ],
   "source": [
    "f(my_second_list)"
   ]
  },
  {
   "cell_type": "code",
   "execution_count": 40,
   "metadata": {
    "collapsed": false
   },
   "outputs": [
    {
     "name": "stdout",
     "output_type": "stream",
     "text": [
      "1\n",
      "16\n",
      "25\n",
      "49\n",
      "64\n",
      "100\n",
      "121\n",
      "None\n"
     ]
    }
   ],
   "source": [
    "# Functions return a value: in case below, it returns None\n",
    "print(f(my_first_list))"
   ]
  },
  {
   "cell_type": "code",
   "execution_count": 41,
   "metadata": {
    "collapsed": false
   },
   "outputs": [],
   "source": [
    "# If you want to return explicitely something\n",
    "def f(seq):\n",
    "    for x in seq:\n",
    "        print(x**2)\n",
    "    return 'Function ended'"
   ]
  },
  {
   "cell_type": "code",
   "execution_count": 42,
   "metadata": {
    "collapsed": false
   },
   "outputs": [
    {
     "name": "stdout",
     "output_type": "stream",
     "text": [
      "1\n",
      "19.36\n",
      "25\n",
      "81\n",
      "64\n",
      "1000000\n",
      "121\n",
      "Function ended\n"
     ]
    }
   ],
   "source": [
    "print(f(my_second_list))"
   ]
  }
 ],
 "metadata": {
  "kernelspec": {
   "display_name": "Python [default]",
   "language": "python",
   "name": "python2"
  },
  "language_info": {
   "codemirror_mode": {
    "name": "ipython",
    "version": 2
   },
   "file_extension": ".py",
   "mimetype": "text/x-python",
   "name": "python",
   "nbconvert_exporter": "python",
   "pygments_lexer": "ipython2",
   "version": "2.7.13"
  }
 },
 "nbformat": 4,
 "nbformat_minor": 2
}
