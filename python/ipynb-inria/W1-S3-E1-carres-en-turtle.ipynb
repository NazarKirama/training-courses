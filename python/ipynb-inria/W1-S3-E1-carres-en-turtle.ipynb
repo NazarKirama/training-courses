{
 "metadata": {
  "kernelspec": {
   "display_name": "Python 2",
   "language": "python",
   "name": "python2"
  },
  "notebookname": "Dessiner un carr\u00e9",
  "signature": "sha256:38fdc86e502a7098cb2931ce40e4f708c9016eab2fca7452f4b904d25b9c1821",
  "version": "2.0"
 },
 "nbformat": 3,
 "nbformat_minor": 0,
 "worksheets": [
  {
   "cells": [
    {
     "cell_type": "markdown",
     "metadata": {},
     "source": [
      "<span style=\"float:left;\">Licence CC BY-NC-ND</span><span style=\"float:right;\">Thierry Parmentelat &amp; Arnaud Legout,<img src=\"media/inria-25.png\" style=\"display:inline\"></span><br/>"
     ]
    },
    {
     "cell_type": "heading",
     "level": 1,
     "metadata": {},
     "source": [
      "Dessiner un carr\u00e9"
     ]
    },
    {
     "cell_type": "heading",
     "level": 2,
     "metadata": {},
     "source": [
      "Exercice - niveau interm\u00e9diaire"
     ]
    },
    {
     "cell_type": "markdown",
     "metadata": {},
     "source": [
      "Voici un tout petit programme qui dessine un carr\u00e9"
     ]
    },
    {
     "cell_type": "markdown",
     "metadata": {},
     "source": [
      "Il utilise le module `turtle`, con\u00e7u pr\u00e9cis\u00e9ment \u00e0 des fins p\u00e9dagogiques. Pour des raisons techniques, le module `turtle` n'est **pas disponible** au travers de la plateforme FUN."
     ]
    },
    {
     "cell_type": "markdown",
     "metadata": {},
     "source": [
      "Il est donc inutile d'essayer d'ex\u00e9cuter ce programme depuis le notebook; l'objectif de cet exercice est plut\u00f4t de vous entra\u00eener \u00e0 t\u00e9l\u00e9charger ce programme en utilisant le menu *\"File -> Download as -> python\"*, puis \u00e0 le charger dans votre IDLE pour l'ex\u00e9cuter sur votre machine."
     ]
    },
    {
     "cell_type": "code",
     "collapsed": false,
     "input": [
      "# we need the turtle module\n",
      "import turtle"
     ],
     "language": "python",
     "metadata": {},
     "outputs": []
    },
    {
     "cell_type": "markdown",
     "metadata": {},
     "source": [
      "On commence par d\u00e9finir une fonction qui dessine un carr\u00e9 de cot\u00e9 `length`"
     ]
    },
    {
     "cell_type": "code",
     "collapsed": false,
     "input": [
      "def square(length):\n",
      "    \"have the turtle draw a square of side <length>\"\n",
      "    for side in range(4):\n",
      "        turtle.forward(length)\n",
      "        turtle.left(90)"
     ],
     "language": "python",
     "metadata": {},
     "outputs": []
    },
    {
     "cell_type": "markdown",
     "metadata": {},
     "source": [
      "Maintenant on commence par initialiser la tortue"
     ]
    },
    {
     "cell_type": "code",
     "collapsed": false,
     "input": [
      "turtle.reset()"
     ],
     "language": "python",
     "metadata": {},
     "outputs": []
    },
    {
     "cell_type": "markdown",
     "metadata": {},
     "source": [
      "On peut alors dessiner notre carr\u00e9"
     ]
    },
    {
     "cell_type": "code",
     "collapsed": false,
     "input": [
      "square(200)"
     ],
     "language": "python",
     "metadata": {},
     "outputs": []
    },
    {
     "cell_type": "markdown",
     "metadata": {},
     "source": [
      "Et pour finir on attend que l'utilisateur clique dans la fen\u00eatre de la tortue, et alors on termine"
     ]
    },
    {
     "cell_type": "code",
     "collapsed": false,
     "input": [
      "turtle.exitonclick()"
     ],
     "language": "python",
     "metadata": {},
     "outputs": []
    },
    {
     "cell_type": "heading",
     "level": 2,
     "metadata": {},
     "source": [
      "Exercice - niveau avanc\u00e9"
     ]
    },
    {
     "cell_type": "markdown",
     "metadata": {},
     "source": [
      "Naturellement vous pouvez vous amuser \u00e0 modifier ce code pour dessiner des choses un peu plus amusantes. \n",
      "\n",
      "Dans ce cas, commencez par chercher \"module python turtle\" dans votre moteur de recherche favori, pour localiser la documentation du module [`turtle`](https://docs.python.org/2/library/turtle.html).\n",
      "\n",
      "Vous trouverez quelques exemples pour commencer ici:\n",
      " * [turtle_multi_squares.py](media/turtle_multi_squares.py) pour dessiner des carr\u00e9s \u00e0 l'emplacement de la souris en utilisant plusieurs tortues;\n",
      " * [turtle_fractal.py](media/turtle_fractal.py) pour dessiner une fractale simple;\n",
      " * [turtle_fractal_reglable.py](media/turtle_fractal_reglable.py) une variation sur la fractale, plus parametrable.\n",
      " "
     ]
    }
   ],
   "metadata": {}
  }
 ]
}