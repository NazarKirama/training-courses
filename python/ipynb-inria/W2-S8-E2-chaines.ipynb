{
 "metadata": {
  "kernelspec": {
   "display_name": "Python 2",
   "language": "python",
   "name": "python2"
  },
  "notebookname": "Les cha\u00eenes",
  "signature": "sha256:6fa0a0d759ab2a97df8afb0e15e126899288ba0a77cb78c19a733637eb33f247",
  "version": "2.0"
 },
 "nbformat": 3,
 "nbformat_minor": 0,
 "worksheets": [
  {
   "cells": [
    {
     "cell_type": "markdown",
     "metadata": {},
     "source": [
      "<span style=\"float:left;\">Licence CC BY-NC-ND</span><span style=\"float:right;\">Thierry Parmentelat &amp; Arnaud Legout,<img src=\"media/inria-25.png\" style=\"display:inline\"></span><br/>"
     ]
    },
    {
     "cell_type": "heading",
     "level": 1,
     "metadata": {},
     "source": [
      "Les cha\u00eenes de caract\u00e8res"
     ]
    },
    {
     "cell_type": "heading",
     "level": 2,
     "metadata": {},
     "source": [
      "Exercice - niveau basique"
     ]
    },
    {
     "cell_type": "heading",
     "level": 3,
     "metadata": {},
     "source": [
      "Analyse et mise en forme"
     ]
    },
    {
     "cell_type": "code",
     "collapsed": false,
     "input": [
      "# Pour charger l'exercice\n",
      "from corrections.w2s8_strings import exo_libelle"
     ],
     "language": "python",
     "metadata": {},
     "outputs": []
    },
    {
     "cell_type": "markdown",
     "metadata": {},
     "source": [
      "Un fichier contient, dans chaque ligne, des informations (champs) s\u00e9par\u00e9es par des virgules. Les espaces et tabulations pr\u00e9sents dans la ligne ne sont pas significatifs et doivent \u00eatre ignor\u00e9s. \n",
      "\n",
      "Dans cet exercice de niveau basique, on suppose que chaque ligne a exactement 3 champs, qui repr\u00e9sentent respectivement le nom, le pr\u00e9nom, et le rang d'une personne dans un classement. Une fois les espaces et tabulations ignor\u00e9s, on ne fait pas de v\u00e9rification sur le contenu des 3 champs. \n",
      "\n",
      "On vous demande d'\u00e9crire la fonction `libelle`, qui sera appel\u00e9e pour chaque ligne du fichier. Cette fonction&nbsp;:\n",
      " * prend en argument une ligne (cha\u00eene de caract\u00e8res)\n",
      " * retourne une cha\u00eene de caract\u00e8res mise en forme (voir plus bas)\n",
      " * ou bien retourne None si la ligne n'a pas pu \u00eatre analys\u00e9e, parce qu'elle ne v\u00e9rifie pas les hypoth\u00e8ses ci-dessus (c'est notamment le cas si on ne trouve pas exactement les 3 champs)\n",
      " \n"
     ]
    },
    {
     "cell_type": "markdown",
     "metadata": {},
     "source": [
      " La mise en forme consiste \u00e0 retourner \n",
      " \n",
      "    Nom.Prenom (message)\n",
      "     \n",
      " le *message* \u00e9tant lui-m\u00eame le *rang* mis en forme pour afficher '1er', '2nd' ou '*n*-eme' selon le cas. Voici quelques exemples"
     ]
    },
    {
     "cell_type": "code",
     "collapsed": false,
     "input": [
      "# voici quelques exemples de ce qui est attendu\n",
      "exo_libelle.exemple()"
     ],
     "language": "python",
     "metadata": {},
     "outputs": []
    },
    {
     "cell_type": "code",
     "collapsed": false,
     "input": [
      "# \u00e9crivez votre code ici\n",
      "def libelle(ligne):\n",
      "    \"<votre_code>\""
     ],
     "language": "python",
     "metadata": {},
     "outputs": []
    },
    {
     "cell_type": "code",
     "collapsed": false,
     "input": [
      "# pour le v\u00e9rifier\n",
      "exo_libelle.correction(libelle)"
     ],
     "language": "python",
     "metadata": {},
     "outputs": []
    },
    {
     "cell_type": "heading",
     "level": 2,
     "metadata": {},
     "source": [
      "Exercice - niveau interm\u00e9diaire"
     ]
    },
    {
     "cell_type": "heading",
     "level": 3,
     "metadata": {},
     "source": [
      "Mise au carr\u00e9"
     ]
    },
    {
     "cell_type": "code",
     "collapsed": false,
     "input": [
      "# chargement de l'exercice\n",
      "from corrections.w2s8_strings import exo_carre"
     ],
     "language": "python",
     "metadata": {},
     "outputs": []
    },
    {
     "cell_type": "markdown",
     "metadata": {},
     "source": [
      "On vous demande \u00e0 pr\u00e9sent d'\u00e9crire une fonction dans le m\u00eame esprit que ci-dessus.\n",
      "Cette fois, chaque ligne contient, s\u00e9par\u00e9s par des point-virgules, une liste d'entiers, et on veut obtenir une nouvelle cha\u00eene avec les carr\u00e9s de ces entiers, s\u00e9par\u00e9s par des deux-points.\n",
      "\n",
      "\u00c0 nouveau les lignes peuvent \u00eatre remplies de mani\u00e8re approximative, avec des espaces, des tabulations, ou m\u00eame des points-virgules en trop, que ce soit au d\u00e9but, \u00e0 la fin, ou au milieu d'une ligne."
     ]
    },
    {
     "cell_type": "code",
     "collapsed": false,
     "input": [
      "# exemples\n",
      "exo_carre.exemple()"
     ],
     "language": "python",
     "metadata": {},
     "outputs": []
    },
    {
     "cell_type": "code",
     "collapsed": false,
     "input": [
      "# \u00e9crivez votre code ici\n",
      "def carre(ligne):\n",
      "    \"<votre_code>\""
     ],
     "language": "python",
     "metadata": {},
     "outputs": []
    },
    {
     "cell_type": "code",
     "collapsed": false,
     "input": [
      "# pour corriger\n",
      "exo_carre.correction(carre)"
     ],
     "language": "python",
     "metadata": {},
     "outputs": []
    }
   ],
   "metadata": {}
  }
 ]
}