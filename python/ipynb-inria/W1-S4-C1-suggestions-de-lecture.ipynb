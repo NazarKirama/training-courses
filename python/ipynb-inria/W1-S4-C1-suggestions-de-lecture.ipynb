{
 "cells": [
  {
   "cell_type": "markdown",
   "metadata": {},
   "source": [
    "<span style=\"float:left;\">Licence CC BY-NC-ND</span><span style=\"float:right;\">Thierry Parmentelat &amp; Arnaud Legout,<img src=\"media/inria-25.png\" style=\"display:inline\"></span><br/>"
   ]
  },
  {
   "cell_type": "markdown",
   "metadata": {},
   "source": [
    "# Un peu de lecture"
   ]
  },
  {
   "cell_type": "markdown",
   "metadata": {},
   "source": [
    "## Complément - niveau basique"
   ]
  },
  {
   "cell_type": "markdown",
   "metadata": {},
   "source": [
    "### Le zen de python"
   ]
  },
  {
   "cell_type": "markdown",
   "metadata": {},
   "source": [
    "Vous pouvez lire le zen de python à partir de python en important le module `this` comme ceci (n'oubliez pas d'évaluer cette cellule dans votre notebook)"
   ]
  },
  {
   "cell_type": "code",
   "execution_count": 1,
   "metadata": {
    "collapsed": false
   },
   "outputs": [
    {
     "name": "stdout",
     "output_type": "stream",
     "text": [
      "The Zen of Python, by Tim Peters\n",
      "\n",
      "Beautiful is better than ugly.\n",
      "Explicit is better than implicit.\n",
      "Simple is better than complex.\n",
      "Complex is better than complicated.\n",
      "Flat is better than nested.\n",
      "Sparse is better than dense.\n",
      "Readability counts.\n",
      "Special cases aren't special enough to break the rules.\n",
      "Although practicality beats purity.\n",
      "Errors should never pass silently.\n",
      "Unless explicitly silenced.\n",
      "In the face of ambiguity, refuse the temptation to guess.\n",
      "There should be one-- and preferably only one --obvious way to do it.\n",
      "Although that way may not be obvious at first unless you're Dutch.\n",
      "Now is better than never.\n",
      "Although never is often better than *right* now.\n",
      "If the implementation is hard to explain, it's a bad idea.\n",
      "If the implementation is easy to explain, it may be a good idea.\n",
      "Namespaces are one honking great idea -- let's do more of those!\n"
     ]
    }
   ],
   "source": [
    "import this"
   ]
  },
  {
   "cell_type": "markdown",
   "metadata": {},
   "source": [
    "Vous remarquerez que si vous évaluez cette cellule une deuxième fois, le texte disparaît; c'est le comportement normal de `import` comme on le verra en semaine 3. Redémarrez l'interpréteur python du notebook (*Kernel -> Restart*) pour revenir à l'état de départ, et évaluez la cellule à nouveau."
   ]
  },
  {
   "cell_type": "markdown",
   "metadata": {},
   "source": [
    "### Documentation"
   ]
  },
  {
   "cell_type": "markdown",
   "metadata": {},
   "source": [
    " * On peut commencer par citer l'[article de wikipedia sur python en français](http://fr.wikipedia.org/wiki/Python_%28langage%29)\n",
    "\n",
    " * La [page sur le langage en français](https://wiki.python.org/moin/FrenchLanguage)\n",
    " \n",
    " * La [documentation originale](https://docs.python.org/2.7/) de python-2.7 - donc, en anglais - est un très bon point d'entrée lorsqu'on cherche un sujet particulier, mais (beaucoup) trop abondante pour être lue d'un seul trait. Pour chercher de la documentation sur un module particulier: le plus simple est encore d'utiliser google - ou votre moteur de recherche favori - qui vous redirigera dans la grande majorité des cas vers la page qui va bien dans, précisément, la documentation python."
   ]
  },
  {
   "cell_type": "markdown",
   "metadata": {},
   "source": [
    "### Historique et survol"
   ]
  },
  {
   "cell_type": "markdown",
   "metadata": {},
   "source": [
    " * L'article de wikipedia (en anglais) sur l'[historique du langage](http://en.wikipedia.org/wiki/History_of_Python)\n",
    " * Sur wikipédia, un article (en anglais) sur [la syntaxe et la sémantique de python](http://en.wikipedia.org/wiki/Python_syntax_and_semantics) "
   ]
  },
  {
   "cell_type": "markdown",
   "metadata": {},
   "source": [
    "### Un peu de folklore"
   ]
  },
  {
   "cell_type": "markdown",
   "metadata": {},
   "source": [
    " * Le [discours de Guido van Rossum à PyCon 2014](https://www.youtube.com/watch?v=EBRMq2Ioxsc)\n",
    " * Sur youtube: le [sketch des monty python](https://www.youtube.com/watch?v=anwy2MPT5RE) d'où provient les termes `spam`, `eggs` et autres `beans` qu'on utilise traditionnellement dans les exemples en python plutôt que `foo` et `bar`\n",
    " * et l'[article wikipedia correspondant](http://en.wikipedia.org/wiki/Spam_%28Monty_Python%29), qui cite le langage python"
   ]
  },
  {
   "cell_type": "markdown",
   "metadata": {},
   "source": [
    "## Complément - niveau intermédiaire"
   ]
  },
  {
   "cell_type": "markdown",
   "metadata": {},
   "source": [
    "### Licence"
   ]
  },
  {
   "cell_type": "markdown",
   "metadata": {},
   "source": [
    "* La [licence d'utilisation est disponible ici](https://docs.python.org/2/license.html). Vous remarquerez qu'elle a été modifiée récemment pour la 2.7.8\n",
    "* La page de la [Python Software Foundation](https://www.python.org/psf/), qui est une entité légale similaire à nos associations de 1901, à but non lucratif; elle possède les droits sur le langage"
   ]
  },
  {
   "cell_type": "markdown",
   "metadata": {},
   "source": [
    "### Le processus de développement"
   ]
  },
  {
   "cell_type": "markdown",
   "metadata": {},
   "source": [
    " * Discussion sur les choix de conception du langage\n",
    "   * http://python-history.blogspot.com\n",
    " * Comment les choix d'évolution sont proposés et discutés, au travers des PEP (Python Enhacement Proposal)\n",
    "   * http://en.wikipedia.org/wiki/Python_(programming_language)#Development\n",
    " * Le premier PEP décrit en détail .. le cycle de vie des PEPs\n",
    "   * http://legacy.python.org/dev/peps/pep-0001/\n",
    " * L'index de tous les PEPs\n",
    "   * http://legacy.python.org/dev/peps/        "
   ]
  }
 ],
 "metadata": {
  "kernelspec": {
   "display_name": "Python 2",
   "language": "python",
   "name": "python2"
  },
  "language_info": {
   "codemirror_mode": {
    "name": "ipython",
    "version": 2
   },
   "file_extension": ".py",
   "mimetype": "text/x-python",
   "name": "python",
   "nbconvert_exporter": "python",
   "pygments_lexer": "ipython2",
   "version": "2.7.11"
  },
  "notebookname": "De la lecture",
  "version": "2.0"
 },
 "nbformat": 4,
 "nbformat_minor": 0
}
