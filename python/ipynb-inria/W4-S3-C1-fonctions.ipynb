{
 "metadata": {
  "kernelspec": {
   "display_name": "Python 2",
   "language": "python",
   "name": "python2"
  },
  "notebookname": "Prog. fonctionnelle",
  "signature": "sha256:a000c9565a7d51da30eb7372ba2be16cd62fa3f67351a338d30c4a94d5a9cbe4",
  "version": "2.0"
 },
 "nbformat": 3,
 "nbformat_minor": 0,
 "worksheets": [
  {
   "cells": [
    {
     "cell_type": "markdown",
     "metadata": {},
     "source": [
      "<span style=\"float:left;\">Licence CC BY-NC-ND</span><span style=\"float:right;\">Thierry Parmentelat &amp; Arnaud Legout,<img src=\"media/inria-25.png\" style=\"display:inline\"></span><br/>"
     ]
    },
    {
     "cell_type": "heading",
     "level": 1,
     "metadata": {},
     "source": [
      "Programmation fonctionnelle"
     ]
    },
    {
     "cell_type": "heading",
     "level": 2,
     "metadata": {},
     "source": [
      "Compl\u00e9ment - niveau basique"
     ]
    },
    {
     "cell_type": "heading",
     "level": 3,
     "metadata": {},
     "source": [
      "Pour r\u00e9sumer"
     ]
    },
    {
     "cell_type": "markdown",
     "metadata": {},
     "source": [
      "La notion de programmation fonctionnelle consiste essentiellement \u00e0 pouvoir manipuler les fonctions comme des objets \u00e0 part enti\u00e8re, et \u00e0 les passer en argument \u00e0 d'autres fonctions, comme cela est illustr\u00e9 dans la vid\u00e9o."
     ]
    },
    {
     "cell_type": "markdown",
     "metadata": {},
     "source": [
      "On peut cr\u00e9er une fonction par l'interm\u00e9diaire de\n",
      " * l'*expression* `lambda:`, on obtient alors une fonction *anonyme*,\n",
      " * ou de l'*instruction* `def`.\n",
      "\n",
      "Pour des raisons de syntaxe surtout, on a davantage de puissance avec `def`."
     ]
    },
    {
     "cell_type": "markdown",
     "metadata": {},
     "source": [
      "On peut calculer la liste des r\u00e9sultats d'une fonction sur une liste d'entr\u00e9es par\n",
      " * `map`, \u00e9ventuellement combin\u00e9 \u00e0 `filter`\n",
      " * ou par une compr\u00e9hension de liste, \u00e9ventuellement assortie d'un `if`.\n",
      "\n",
      "Nous allons revoir les compr\u00e9hensions de listes dans la prochaine vid\u00e9o."
     ]
    },
    {
     "cell_type": "heading",
     "level": 2,
     "metadata": {},
     "source": [
      "Compl\u00e9ment - niveau interm\u00e9diaire"
     ]
    },
    {
     "cell_type": "markdown",
     "metadata": {},
     "source": [
      "Voici \u00e0 pr\u00e9sent quelques autres constructions classiques en programmation fonctionnelle"
     ]
    },
    {
     "cell_type": "heading",
     "level": 3,
     "metadata": {},
     "source": [
      "`reduce`"
     ]
    },
    {
     "cell_type": "markdown",
     "metadata": {},
     "source": [
      "La fonction `reduce` permet d'appliquer une op\u00e9ration associative \u00e0 une liste d'entr\u00e9es. Pour faire simple, \u00e9tant donn\u00e9 un op\u00e9rateur binaire $\\otimes$ on veut pouvoir calculer\n",
      "\n",
      " $x_1 \\otimes x_2 ... \\otimes x_n$\n",
      "\n",
      "De mani\u00e8re un peu moins abstraite, on suppose qu'on dispose d'une **fonction binaire** `f` qui impl\u00e9mente l'op\u00e9rateur $\\otimes$, et alors \n",
      "\n",
      "   `reduce` $( f, [x_1, .. x_n] ) = f ( ... f(f(x_1,x_2), x_3), .. , x_n)$"
     ]
    },
    {
     "cell_type": "markdown",
     "metadata": {},
     "source": [
      "En fait `reduce` accepte un troisi\u00e8me argument - qu'il faut comprendre comme l'\u00e9l\u00e9ment neutre de l'op\u00e9rateur/fonction en question - et qui est retourn\u00e9 lorsque la liste en entr\u00e9e est vide."
     ]
    },
    {
     "cell_type": "markdown",
     "metadata": {},
     "source": [
      "Par exemple voici - encore - une autre impl\u00e9mentation possible de la fonction `factoriel`.\n",
      "\n",
      "On utilise ici [le module `operator`](https://docs.python.org/2/library/operator.html), qui fournit sous forme de fonctions la plupart des op\u00e9rateurs du langage, et notamment, dans notre cas, `operator.mul`; cette fonction retourne tout simplement le produit de ses deux arguments."
     ]
    },
    {
     "cell_type": "code",
     "collapsed": false,
     "input": [
      "# la multiplication, mais sous forme de fonction et non d'operateur\n",
      "from operator import mul\n",
      "\n",
      "def factoriel(n):\n",
      "    return reduce(mul, range(1, n+1), 1)\n",
      "\n",
      "# ceci fonctionne aussi pour factoriel (0)\n",
      "for i in range(5):\n",
      "    print i, '->', factoriel(i)"
     ],
     "language": "python",
     "metadata": {},
     "outputs": []
    },
    {
     "cell_type": "heading",
     "level": 5,
     "metadata": {},
     "source": [
      "Cas fr\u00e9quents de `reduce`"
     ]
    },
    {
     "cell_type": "markdown",
     "metadata": {},
     "source": [
      "Par commodit\u00e9, python fournit des fonctions built-in qui correspondent en fait \u00e0 des `reduce` fr\u00e9quents comme la somme et les op\u00e9rations `min` et `max`:"
     ]
    },
    {
     "cell_type": "code",
     "collapsed": false,
     "input": [
      "entrees = [8, 5, 12, 4, 45, 7]\n",
      "\n",
      "print 'sum', sum(entrees)\n",
      "print 'min', min(entrees)\n",
      "print 'max', max(entrees)"
     ],
     "language": "python",
     "metadata": {},
     "outputs": []
    },
    {
     "cell_type": "heading",
     "level": 3,
     "metadata": {},
     "source": [
      "apply"
     ]
    },
    {
     "cell_type": "markdown",
     "metadata": {},
     "source": [
      "Citons enfin, \u00e0 titre de curiosit\u00e9 historique, la fonction `apply` qui est un lointain descendant de Lisp, comme `map`, `filter` et `reduce`. "
     ]
    },
    {
     "cell_type": "markdown",
     "metadata": {},
     "source": [
      "L'id\u00e9e est simplement que\n",
      "\n",
      "`apply` $(f, [x_1, ... x_n]) \\Longleftrightarrow f (x_1, ... x_n)$"
     ]
    },
    {
     "cell_type": "markdown",
     "metadata": {},
     "source": [
      "Ainsi par exemple"
     ]
    },
    {
     "cell_type": "code",
     "collapsed": false,
     "input": [
      "def composite(a, b, c):\n",
      "    return \"{}+{}*{}\".format(a, b, c)\n",
      "\n",
      "mon_triplet = ['spam', 'bacon', 'eggs']\n",
      "apply(composite, mon_triplet)"
     ],
     "language": "python",
     "metadata": {},
     "outputs": []
    },
    {
     "cell_type": "markdown",
     "metadata": {},
     "source": [
      "Cette fonction est toutefois tr\u00e8s rarement utilis\u00e9e, et a m\u00eame \u00e9t\u00e9 supprim\u00e9e en python3. Nous verrons tr\u00e8s bient\u00f4t que le m\u00e9canisme g\u00e9n\u00e9ral de passage d'arguments en python permet de r\u00e9aliser nativement l'\u00e9quivalent de `apply`. Ceci sera abord\u00e9 dans la derni\u00e8re vid\u00e9o de cette semaine, mais pour vous en donner un avant-go\u00fbt, on peut remplacer `apply` par l'appel suivant qui est \u00e0 favoriser en python moderne"
     ]
    },
    {
     "cell_type": "code",
     "collapsed": false,
     "input": [
      "composite(*mon_triplet)"
     ],
     "language": "python",
     "metadata": {},
     "outputs": []
    }
   ],
   "metadata": {}
  }
 ]
}