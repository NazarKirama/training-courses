{
 "metadata": {
  "kernelspec": {
   "display_name": "Python 2",
   "language": "python",
   "name": "python2"
  },
  "notebookname": "break et continue",
  "signature": "sha256:b0421095927fe7889c24c5dadd8664cad2f8febb636575eed3cecada01a12497",
  "version": "2.0"
 },
 "nbformat": 3,
 "nbformat_minor": 0,
 "worksheets": [
  {
   "cells": [
    {
     "cell_type": "markdown",
     "metadata": {},
     "source": [
      "<span style=\"float:left;\">Licence CC BY-NC-ND</span><span style=\"float:right;\">Thierry Parmentelat &amp; Arnaud Legout,<img src=\"media/inria-25.png\" style=\"display:inline\"></span><br/>"
     ]
    },
    {
     "cell_type": "heading",
     "level": 1,
     "metadata": {},
     "source": [
      "Les instructions `break` et `continue`"
     ]
    },
    {
     "cell_type": "heading",
     "level": 2,
     "metadata": {},
     "source": [
      "Compl\u00e9ment - niveau basique"
     ]
    },
    {
     "cell_type": "heading",
     "level": 3,
     "metadata": {},
     "source": [
      "`break` et `continue`\n"
     ]
    },
    {
     "cell_type": "markdown",
     "metadata": {},
     "source": [
      "python propose deux instructions tr\u00e8s pratiques permettant de contr\u00f4ler l'ex\u00e9cution \u00e0 l'int\u00e9rieur des boucles de r\u00e9p\u00e9tition (`for` ou `while`)\n",
      "\n",
      " * `continue` : pour abandonner l'it\u00e9ration courante et passer \u00e0 la suivante\n",
      " * `break` : pour abandonner compl\u00e8tement la boucle\n",
      " \n",
      "Voici un exemple simple d'utilisation de ces deux instructions"
     ]
    },
    {
     "cell_type": "code",
     "collapsed": false,
     "input": [
      "for entier in range(1000):\n",
      "    # on ignore les nombres non multiples de 10\n",
      "    if entier % 10 != 0:\n",
      "        continue\n",
      "    print \"On traite l'entier {}\".format(entier)\n",
      "    # on s'arr\u00eate \u00e0 50\n",
      "    if entier >= 50:\n",
      "        break\n",
      "print \"on est sorti de la boucle\"    "
     ],
     "language": "python",
     "metadata": {},
     "outputs": []
    },
    {
     "cell_type": "markdown",
     "metadata": {},
     "source": [
      "Pour aller plus loin, vous pouvez lire [cette documentation](https://docs.python.org/2.7/tutorial/controlflow.html?highlight=break#break-and-continue-statements-and-else-clauses-on-loops)."
     ]
    }
   ],
   "metadata": {}
  }
 ]
}