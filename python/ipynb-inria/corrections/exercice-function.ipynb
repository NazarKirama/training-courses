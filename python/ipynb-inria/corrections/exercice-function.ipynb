{
 "metadata": {
  "notebookname": "NO HEADING 1 found",
  "signature": "sha256:e14b9323f40511d20ecd28d1d6817702710cc60c7ba0e8d9f2b12a84605078d8",
  "version": "1.0"
 },
 "nbformat": 3,
 "nbformat_minor": 0,
 "worksheets": [
  {
   "cells": [
    {
     "cell_type": "markdown",
     "metadata": {},
     "source": [
      "Je simule un exercice d\u00e9bile, on demande aux \u00e9tudiants d'\u00e9crire une fonction\n",
      "\n",
      "$ curve (a,b) \\Longrightarrow a^2 + 3ab + 12 $"
     ]
    },
    {
     "cell_type": "markdown",
     "metadata": {},
     "source": [
      "L'\u00e9tudiant est invit\u00e9 \u00e0 \u00e9crire son code dans la fonction `curve`;\n",
      "\n",
      "On lui propose en arrivant une cellule vide comme ceci"
     ]
    },
    {
     "cell_type": "code",
     "collapsed": false,
     "input": [
      "def curve (a,b):\n",
      "    \"<...>\""
     ],
     "language": "python",
     "metadata": {},
     "outputs": []
    },
    {
     "cell_type": "markdown",
     "metadata": {},
     "source": [
      "Il la modifie, imaginons que \u00e7a donne cela"
     ]
    },
    {
     "cell_type": "code",
     "collapsed": false,
     "input": [
      "# cette fonction est cass\u00e9e expr\u00e8s ...\n",
      "def curve (a, b):\n",
      "    return a ** 2 + 3 * a * b + 12 if (a+b)%4 != 0 else False"
     ],
     "language": "python",
     "metadata": {},
     "outputs": []
    },
    {
     "cell_type": "markdown",
     "metadata": {},
     "source": [
      "Et voici la cellule pour corriger "
     ]
    },
    {
     "cell_type": "code",
     "collapsed": false,
     "input": [
      "from corrections.ww_function import exo_curve\n",
      "exo_curve.correction (curve)"
     ],
     "language": "python",
     "metadata": {},
     "outputs": []
    },
    {
     "cell_type": "markdown",
     "metadata": {},
     "source": [
      "On peut aussi montrer d'abord un exemple"
     ]
    },
    {
     "cell_type": "code",
     "collapsed": false,
     "input": [
      "exo_curve.exemple()"
     ],
     "language": "python",
     "metadata": {},
     "outputs": []
    },
    {
     "cell_type": "markdown",
     "metadata": {},
     "source": [
      "******"
     ]
    },
    {
     "cell_type": "markdown",
     "metadata": {},
     "source": [
      "On peut affiner pas mal de trucs, par exemple la pr\u00e9sentation de la premi\u00e8re colonne avec `render_name=True`\n"
     ]
    },
    {
     "cell_type": "code",
     "collapsed": false,
     "input": [
      "from corrections.ww_function import exo_curve_name\n",
      "exo_curve_name.correction(curve)"
     ],
     "language": "python",
     "metadata": {},
     "outputs": []
    },
    {
     "cell_type": "markdown",
     "metadata": {},
     "source": [
      "*********"
     ]
    },
    {
     "cell_type": "markdown",
     "metadata": {},
     "source": [
      "Voir le fichier `ww_function.py` voir voir comment la correction est \u00e9crite"
     ]
    },
    {
     "cell_type": "markdown",
     "metadata": {},
     "source": [
      "Remarquez \n",
      "Les lignes depuis `# @BEG@ 0 0 curve` \u00e0 `# @END@` servent \u00e0 l'outil qui extrait les corrig\u00e9s. \n",
      "\n",
      "Voir `tools/corriges.py`\n"
     ]
    },
    {
     "cell_type": "markdown",
     "metadata": {},
     "source": [
      "******"
     ]
    },
    {
     "cell_type": "heading",
     "level": 1,
     "metadata": {},
     "source": [
      "rawnbconvert"
     ]
    },
    {
     "cell_type": "markdown",
     "metadata": {},
     "source": [
      "Voici \u00e0 pr\u00e9sent une section sur le rendu des cellules de type rawnbconvert. Au d\u00e9but j'ai beaucoup utilis\u00e9 \u00e7a pour les indications de texte sur une ou plusieurs lignes s\u00e9par\u00e9es, car le rendu sous le notebook \u00e9tait sympa. Mais \u00e0 l'usage ce type de cellules est tr\u00e8s p\u00e9nible. Notamment le jour o\u00f9 on a voulu publier les notebooks au format PDF \u00e0 l'intention des \u00e9tudiants qui ne pouvaient pas utiliser les notebooks en ligne. "
     ]
    },
    {
     "cell_type": "markdown",
     "metadata": {},
     "source": [
      "Aussi dans un deuxi\u00e8me temps j'ai compl\u00e8tement enlev\u00e9 toute utilisation de `rawnbconvert` et je les ai remplac\u00e9es par du markdown en mode *code*, ce qui donne avec des backquotes `par exemple ceci`, ou encore \n",
      "\n",
      "    dans un bloc \u00e0 part indent\u00e9 avec 4 espaces"
     ]
    },
    {
     "cell_type": "markdown",
     "metadata": {},
     "source": [
      "Pour retrouver le m\u00eame rendu html qu'avec rawnbconvert j'ai simplement eu besoin d'\u00e9crire un tout petit css `custom.css` qui es trouve sous git dans le r\u00e9pertoire `html/custom.css`"
     ]
    },
    {
     "cell_type": "markdown",
     "metadata": {},
     "source": [
      "Si on adopte cette convention, on peut alors facilement g\u00e9n\u00e9rer pour chaque notebook un html qui peut \u00eatre lu localement (sans possibilit\u00e9 d'\u00e9valuation naturellement) comme ceci\n",
      "\n",
      "    ipython nbconvert --to html foo.ipynb\n",
      "\n",
      "Il faut juste penser \u00e0 publier aussi `custom.css`. "
     ]
    },
    {
     "cell_type": "markdown",
     "metadata": {},
     "source": [
      "******"
     ]
    }
   ],
   "metadata": {}
  }
 ]
}