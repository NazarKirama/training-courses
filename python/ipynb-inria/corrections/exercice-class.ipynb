{
 "metadata": {
  "notebookname": "NO HEADING 1 found",
  "signature": "sha256:589fb61c6d2ca0caf783ce391c1aaae4a1310b30836bea4a753e37427c3c2a57",
  "version": "1.0"
 },
 "nbformat": 3,
 "nbformat_minor": 0,
 "worksheets": [
  {
   "cells": [
    {
     "cell_type": "markdown",
     "metadata": {},
     "source": [
      "Je simule un exercice d\u00e9bile, on demande aux \u00e9tudiants d'\u00e9crire une classe `Fifo`\n",
      "    \n",
      "qui impl\u00e9mente \n",
      "* un constructeur `Fifo()`\n",
      "* une m\u00e9thode `incoming(obj)`\n",
      "* une m\u00e9thode `outgoing()`\n",
      "\n",
      "qui rende simplement les objets dans le m\u00eame ordre o\u00f9 ils ont \u00e9t\u00e9 rang\u00e9s"
     ]
    },
    {
     "cell_type": "markdown",
     "metadata": {},
     "source": [
      "L'\u00e9tudiant est invit\u00e9 \u00e0 \u00e9crire son code dans la class `Fifo`;\n",
      "\n",
      "On lui propose en arrivant une cellule vide comme ceci"
     ]
    },
    {
     "cell_type": "code",
     "collapsed": false,
     "input": [
      "class Fifo(object):\n",
      "    def __init__(self):\n",
      "        pass\n",
      "    def incoming(self, obj):\n",
      "        pass\n",
      "    def outgoing(self):\n",
      "        pass"
     ],
     "language": "python",
     "metadata": {},
     "outputs": []
    },
    {
     "cell_type": "markdown",
     "metadata": {},
     "source": [
      "Il la modifie, imaginons que \u00e7a donne cela"
     ]
    },
    {
     "cell_type": "code",
     "collapsed": false,
     "input": [
      "# cette classe est cass\u00e9e expr\u00e8s ...\n",
      "class Fifo(object):\n",
      "    def __init__(self):\n",
      "        self.items = []\n",
      "    def incoming(self, obj):\n",
      "        self.items.append(obj)\n",
      "    def outgoing(self):\n",
      "        if len(self.items)%2 == 0:\n",
      "            raise Exception(\"even length ->{}\".format(self.items.pop()))\n",
      "        return self.items.pop()\n",
      "    # et en option pour le debug\n",
      "    def __repr__(self):\n",
      "        return \"<StudentFifo [{}]>\".format(\" \".join([\"{}\".format(i) for i in self.items]))"
     ],
     "language": "python",
     "metadata": {},
     "outputs": []
    },
    {
     "cell_type": "markdown",
     "metadata": {},
     "source": [
      "Et voici la cellule pour corriger "
     ]
    },
    {
     "cell_type": "code",
     "collapsed": false,
     "input": [
      "from corrections.ww_class import exo_fifo\n",
      "exo_fifo.correction(Fifo)"
     ],
     "language": "python",
     "metadata": {},
     "outputs": []
    },
    {
     "cell_type": "code",
     "collapsed": false,
     "input": [
      "exo_fifo.exemple()"
     ],
     "language": "python",
     "metadata": {},
     "outputs": []
    },
    {
     "cell_type": "markdown",
     "metadata": {},
     "source": [
      "*********"
     ]
    }
   ],
   "metadata": {}
  }
 ]
}