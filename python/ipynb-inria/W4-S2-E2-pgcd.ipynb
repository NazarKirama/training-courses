{
 "metadata": {
  "kernelspec": {
   "display_name": "Python 2",
   "language": "python",
   "name": "python2"
  },
  "notebookname": "PGCD",
  "signature": "sha256:a00ec33fb641cd5b0eb7aea97c945000a15c135510b3284b2ba390feafd1e9b3",
  "version": "2.0"
 },
 "nbformat": 3,
 "nbformat_minor": 0,
 "worksheets": [
  {
   "cells": [
    {
     "cell_type": "markdown",
     "metadata": {},
     "source": [
      "<span style=\"float:left;\">Licence CC BY-NC-ND</span><span style=\"float:right;\">Thierry Parmentelat &amp; Arnaud Legout,<img src=\"media/inria-25.png\" style=\"display:inline\"></span><br/>"
     ]
    },
    {
     "cell_type": "heading",
     "level": 1,
     "metadata": {},
     "source": [
      "Calculer le PGCD"
     ]
    },
    {
     "cell_type": "heading",
     "level": 2,
     "metadata": {},
     "source": [
      "Exercice - niveau basique"
     ]
    },
    {
     "cell_type": "code",
     "collapsed": false,
     "input": [
      "# chargement de l'exercice\n",
      "from corrections.w4s2_pgcd import exo_pgcd"
     ],
     "language": "python",
     "metadata": {},
     "outputs": []
    },
    {
     "cell_type": "markdown",
     "metadata": {},
     "source": [
      "On vous demande d'\u00e9crire une fonction qui calcule le pgcd de deux entiers, en utilisant [l'algorithme d'Euclide](http://fr.wikipedia.org/wiki/Algorithme_d'Euclide)."
     ]
    },
    {
     "cell_type": "code",
     "collapsed": false,
     "input": [
      "def pgcd(a, b):\n",
      "    \"<votre code>\""
     ],
     "language": "python",
     "metadata": {},
     "outputs": []
    },
    {
     "cell_type": "code",
     "collapsed": false,
     "input": [
      "# pour v\u00e9rifier votre code\n",
      "exo_pgcd.correction(pgcd)"
     ],
     "language": "python",
     "metadata": {},
     "outputs": []
    },
    {
     "cell_type": "markdown",
     "metadata": {},
     "source": [
      "**Remarque** on peut tout \u00e0 fait utiliser une fonction r\u00e9cursive pour impl\u00e9menter l'algorithme d'Euclide. Par exemple cette version de `pgcd` fonctionne tr\u00e8s bien aussi (en supposant a>=b)\n",
      "\n",
      "    def pgcd(a, b):\n",
      "       \"Le pgcd avec une fonction r\u00e9cursive\"\n",
      "       if not b:\n",
      "           return a\n",
      "       return pgcd(b, a % b)\n",
      "   \n",
      "Cependant, il vous est demand\u00e9 ici d'utiliser une boucle `while`, qui est le sujet de la s\u00e9quence, pour impl\u00e9menter `pgcd`.\n"
     ]
    }
   ],
   "metadata": {}
  }
 ]
}