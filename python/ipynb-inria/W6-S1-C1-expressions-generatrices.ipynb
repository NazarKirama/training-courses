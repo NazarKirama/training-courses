{
 "metadata": {
  "kernelspec": {
   "display_name": "Python 2",
   "language": "python",
   "name": "python2"
  },
  "notebookname": "Exp. g\u00e9n\u00e9ratrices",
  "signature": "sha256:f5f30fcbf5ea9f7cbae2c48a3844550f0d12c59dc328dcb608394632cb6bb7e0",
  "version": "2.0"
 },
 "nbformat": 3,
 "nbformat_minor": 0,
 "worksheets": [
  {
   "cells": [
    {
     "cell_type": "markdown",
     "metadata": {},
     "source": [
      "<span style=\"float:left;\">Licence CC BY-NC-ND</span><span style=\"float:right;\">Thierry Parmentelat &amp; Arnaud Legout,<img src=\"media/inria-25.png\" style=\"display:inline\"></span><br/>"
     ]
    },
    {
     "cell_type": "heading",
     "level": 1,
     "metadata": {},
     "source": [
      "Expressions g\u00e9n\u00e9ratrices"
     ]
    },
    {
     "cell_type": "heading",
     "level": 2,
     "metadata": {},
     "source": [
      "Compl\u00e9ment - niveau basique"
     ]
    },
    {
     "cell_type": "heading",
     "level": 3,
     "metadata": {},
     "source": [
      "Comment transformer une compr\u00e9hension de liste en it\u00e9rateur&nbsp;?"
     ]
    },
    {
     "cell_type": "markdown",
     "metadata": {},
     "source": [
      "Nous venons de voir les fonctions g\u00e9n\u00e9ratrices qui sont un puissant outil pour cr\u00e9er facilement des it\u00e9rateurs. Nous verrons prochainement comment utiliser ces fonctions g\u00e9n\u00e9ratrices pour tranformer en quelques lignes de code vos propres objets en it\u00e9rateurs. \n",
      "\n",
      "Vous savez maintenant qu'en python on favorise la notion d'it\u00e9rateurs puisqu'ils se manipulent comme des objets it\u00e9rables et qu'ils sont en g\u00e9n\u00e9ral beaucoup plus compacts en m\u00e9moire que l'it\u00e9rable correspondant. \n",
      "\n",
      "Comme les compr\u00e9hensions de listes sont fr\u00e9quemment utilis\u00e9es en python, mais qu'elles sont des it\u00e9rables potentiellement gourmands en ressources m\u00e9moire, on souhaiterait pouvoir cr\u00e9er un it\u00e9rateur directement \u00e0 partir d'une compr\u00e9hension de liste. C'est possible et tr\u00e8s facile en python. Il suffit de remplacer les crochets par des parenth\u00e8ses, regardons cela."
     ]
    },
    {
     "cell_type": "code",
     "collapsed": false,
     "input": [
      "# c'est une compr\u00e9hension de liste\n",
      "comprehension = [x**2 for x in xrange(100) if x%17==0] \n",
      "print comprehension"
     ],
     "language": "python",
     "metadata": {},
     "outputs": []
    },
    {
     "cell_type": "code",
     "collapsed": false,
     "input": [
      "# c'est une expression g\u00e9n\u00e9ratrice\n",
      "generator = (x**2 for x in xrange(100) if x%17==0) \n",
      "print generator"
     ],
     "language": "python",
     "metadata": {},
     "outputs": []
    },
    {
     "cell_type": "markdown",
     "metadata": {},
     "source": [
      "Ensuite pour utiliser une expression g\u00e9n\u00e9ratrice, c'est tr\u00e8s simple, on l'utilise comme n'importe quel it\u00e9rateur."
     ]
    },
    {
     "cell_type": "code",
     "collapsed": false,
     "input": [
      "generator is iter(generator) # generator est bien un it\u00e9rateur"
     ],
     "language": "python",
     "metadata": {},
     "outputs": []
    },
    {
     "cell_type": "code",
     "collapsed": false,
     "input": [
      "# affiche les 6 premiers carr\u00e9s des multiples de 17\n",
      "for count, carre in enumerate(generator):\n",
      "    print 'Contenu de generator apr\u00e8s {} it\u00e9rations : {}'.format(count+1, carre)"
     ],
     "language": "python",
     "metadata": {},
     "outputs": []
    },
    {
     "cell_type": "markdown",
     "metadata": {},
     "source": [
      "Avec une expression g\u00e9n\u00e9ratrice on n'est plus limit\u00e9 comme avec les compr\u00e9hensions par le nombre d'\u00e9l\u00e9ments&nbsp;:"
     ]
    },
    {
     "cell_type": "code",
     "collapsed": false,
     "input": [
      "# trop grand pour une compr\u00e9hension,\n",
      "# mais on peut cr\u00e9er le g\u00e9n\u00e9rateur sans souci\n",
      "generator = (x**2 for x in xrange(10**18) if x%17==0) \n",
      "\n",
      "# et utiliser le d\u00e9but, on ne paie que ce qu'on utilise\n",
      "mon_set = set([])\n",
      "for x in generator:\n",
      "    if x > 10**10:\n",
      "        break\n",
      "    elif str(x)[-4:] == '1316':\n",
      "        mon_set.add(x)\n",
      "print len(mon_set)"
     ],
     "language": "python",
     "metadata": {},
     "outputs": []
    },
    {
     "cell_type": "heading",
     "level": 2,
     "metadata": {},
     "source": [
      "Compl\u00e9ment - niveau avanc\u00e9"
     ]
    },
    {
     "cell_type": "markdown",
     "metadata": {},
     "source": [
      "Il est important de comprendre que l'objet expression g\u00e9n\u00e9ratrice se comporte comme une fonction, notamment vis-\u00e0-vis des espaces de nommage et de la port\u00e9e des variables. C'est donc un objet tr\u00e8s diff\u00e9rent des compr\u00e9hensions. Regardons un exemple."
     ]
    },
    {
     "cell_type": "code",
     "collapsed": false,
     "input": [
      "class Comprehension:\n",
      "    increment = 10\n",
      "    liste = [a + increment for a in range(10)]"
     ],
     "language": "python",
     "metadata": {},
     "outputs": []
    },
    {
     "cell_type": "markdown",
     "metadata": {},
     "source": [
      "Il n'y a pas de difficult\u00e9s particuli\u00e8res ici, on peut regarder l'attribut liste de l'objet classe `Comprehension`."
     ]
    },
    {
     "cell_type": "code",
     "collapsed": false,
     "input": [
      "print Comprehension.liste"
     ],
     "language": "python",
     "metadata": {},
     "outputs": []
    },
    {
     "cell_type": "markdown",
     "metadata": {},
     "source": [
      "Rempla\u00e7ons maintenant la compr\u00e9hension par une expression g\u00e9n\u00e9ratrice."
     ]
    },
    {
     "cell_type": "code",
     "collapsed": false,
     "input": [
      "class Generator:\n",
      "    increment = 10\n",
      "    liste = (a + increment for a in range(10))"
     ],
     "language": "python",
     "metadata": {},
     "outputs": []
    },
    {
     "cell_type": "code",
     "collapsed": false,
     "input": [
      "print Generator.liste"
     ],
     "language": "python",
     "metadata": {},
     "outputs": []
    },
    {
     "cell_type": "markdown",
     "metadata": {},
     "source": [
      "Cela fonctionne toujours. Que se passe-t-il si l'on transforme maintenant imm\u00e9diatement notre expression g\u00e9n\u00e9tratrice en liste (notons que lorsque l'expression g\u00e9n\u00e9ratrice est pass\u00e9e \u00e0 une fonction, on peut omettre les parenth\u00e8ses autour de l'expression). "
     ]
    },
    {
     "cell_type": "code",
     "collapsed": false,
     "input": [
      "class Mixed:\n",
      "    increment = 10\n",
      "    liste = list(a + increment for a in range(10))"
     ],
     "language": "python",
     "metadata": {},
     "outputs": []
    },
    {
     "cell_type": "markdown",
     "metadata": {},
     "source": [
      "On obtient ici une exception qui nous dit que la variable globale `increment` n'est pas d\u00e9finie. Quelles sont les diff\u00e9rences entre les classes `Comprehension`, `Generator` et `Mixed` ?\n",
      "Je vous rappelle que les objets classe et fonction sont cr\u00e9\u00e9s au moment du chargement du module (ici, au moment de l'\u00e9valuation de la cellule), mais que le corps de la fonction (donc aussi des expressions g\u00e9n\u00e9ratrices) n'est \u00e9valu\u00e9 qu'au moment de l'appel.\n",
      "\n",
      "Dans le cas de la classe `Comprehension`, la compr\u00e9hension de liste est \u00e9valu\u00e9e au moment de la cr\u00e9ation de l'objet classe `Comprehension`, lorsque l'on arrive sur la compr\u00e9hension, la variable `increment` est d\u00e9finie et vaut 10. \n",
      "\n",
      "Dans le cas de la classe `Generator`, on a remplac\u00e9 la compr\u00e9hension par une expression g\u00e9n\u00e9ratrice. Cela a deux impacts&nbsp;: l'expression g\u00e9n\u00e9ratrice ne sera \u00e9valu\u00e9e qu'\u00e0 son premier appel, l'expression g\u00e9n\u00e9ratrice \u00e9tant une fonction, elle ne peut pas acc\u00e9der \u00e0 l'espace de nommage de la classe. Donc, l'objet classe `Generator` a bien \u00e9t\u00e9 cr\u00e9\u00e9, mais l'appel de la fonction g\u00e9n\u00e9tratrice devrait \u00e9chouer parqu'elle ne peut pas avoir acc\u00e8s \u00e0 l'attribut `increment` de la classe. V\u00e9rifions cela"
     ]
    },
    {
     "cell_type": "code",
     "collapsed": false,
     "input": [
      "Generator.liste.next()"
     ],
     "language": "python",
     "metadata": {},
     "outputs": []
    },
    {
     "cell_type": "markdown",
     "metadata": {},
     "source": [
      "Effectivement, on obtient bien une exception. Dans le cas de `Mixed`, on a imm\u00e9diatement une exception parce que dans la classe on transforme imm\u00e9diatement la compr\u00e9hension en liste avec le contructeur `list`. C'est donc un appel \u00e0 l'expression g\u00e9n\u00e9ratrice qui force l'\u00e9valuation de son code au moment de la cr\u00e9ation de la classe. \n",
      "\n",
      "Mais alors, comment peut-on faire marcher ce code ? On pourrait utiliser `Mixed.val` dans l'expression, regardons cela."
     ]
    },
    {
     "cell_type": "code",
     "collapsed": false,
     "input": [
      "class Mixed:\n",
      "    increment = 10\n",
      "    liste = list(a + Mixed.increment for a in range(10))"
     ],
     "language": "python",
     "metadata": {},
     "outputs": []
    },
    {
     "cell_type": "markdown",
     "metadata": {},
     "source": [
      "\u00c7a ne fonctionne toujours pas avec une erreur \u00e9trange... Le nom global `Mixed` n'existe pas lorsque l'on fait `Mixed.increment`. En y r\u00e9fl\u00e9chissant, c'est tout \u00e0 fait normal. L'objet classe `Mixed` ne sera cr\u00e9\u00e9 qu'\u00e0 la fin de l'\u00e9valuation de son bloc de code, or lorsque l'on appel `Mixed.increment`, on est toujours en cours d'\u00e9valuation du bloc de code de la classe. \n",
      "\n",
      "Comment s'en sortir alors ? Il y a de nombreuses possibilit\u00e9s. Par exemple, on peut utiliser la construction avec une compr\u00e9hension de liste qui, comme on l'a vu avec la classe `Comprehension`, fonctionne bien. On peut aussi mettre notre expression g\u00e9n\u00e9ratrice \u00e0 l'int\u00e9rieur d'une fonction que l'on appelera plus tard apr\u00e8s la cr\u00e9ation de l'objet classe. "
     ]
    },
    {
     "cell_type": "heading",
     "level": 3,
     "metadata": {},
     "source": [
      "Pour aller plus loin"
     ]
    },
    {
     "cell_type": "markdown",
     "metadata": {},
     "source": [
      "Vous pouvez regarder [cette int\u00e9ressante discussion de Guido van Rossum](http://python-history.blogspot.fr/2010/06/from-list-comprehensions-to-generator.html ) sur les compr\u00e9hensions et les expressions g\u00e9n\u00e9ratrices."
     ]
    }
   ],
   "metadata": {}
  }
 ]
}