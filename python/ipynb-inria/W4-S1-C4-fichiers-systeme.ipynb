{
 "metadata": {
  "kernelspec": {
   "display_name": "Python 2",
   "language": "python",
   "name": "python2"
  },
  "notebookname": "Fichiers syst\u00e8mes",
  "signature": "sha256:76a26f6fcae1daf3c53018d3734f70de25282d08d673c11619c9e3111a498a30",
  "version": "2.0"
 },
 "nbformat": 3,
 "nbformat_minor": 0,
 "worksheets": [
  {
   "cells": [
    {
     "cell_type": "markdown",
     "metadata": {},
     "source": [
      "<span style=\"float:left;\">Licence CC BY-NC-ND</span><span style=\"float:right;\">Thierry Parmentelat &amp; Arnaud Legout,<img src=\"media/inria-25.png\" style=\"display:inline\"></span><br/>"
     ]
    },
    {
     "cell_type": "heading",
     "level": 1,
     "metadata": {},
     "source": [
      "Fichiers syst\u00e8mes"
     ]
    },
    {
     "cell_type": "heading",
     "level": 2,
     "metadata": {},
     "source": [
      "Compl\u00e9ment - niveau avanc\u00e9"
     ]
    },
    {
     "cell_type": "markdown",
     "metadata": {},
     "source": [
      "Dans ce compl\u00e9ment, nous allons voir comment un programme python interagit avec ce qu'il est convenu d'appeler le syst\u00e8me d'entr\u00e9es-sorties standard du syst\u00e8me d'exploitation."
     ]
    },
    {
     "cell_type": "heading",
     "level": 3,
     "metadata": {},
     "source": [
      "Introduction"
     ]
    },
    {
     "cell_type": "markdown",
     "metadata": {},
     "source": [
      "Dans un ordinateur, le syst\u00e8me d'exploitation (Windows, Linux, ou MacOS) est un logiciel  (*kernel*) qui a l'exclusivit\u00e9  pour interagir physiquement avec le mat\u00e9riel (CPU, m\u00e9moire, disques, p\u00e9riph\u00e9riques, etc.); il offre aux programmes utilisateur (*userspace*) des abstractions pour interagir avec ce mat\u00e9riel.\n",
      "\n",
      "La notion de fichier, telle qu'on l'a vue dans la vid\u00e9o, correspond \u00e0 une de ces abstractions; elle repose principalement sur les 4 op\u00e9rations \u00e9l\u00e9mentaires \n",
      " * open\n",
      " * close\n",
      " * read\n",
      " * write\n",
      "\n",
      "\n",
      "\n",
      "\n",
      " "
     ]
    },
    {
     "cell_type": "markdown",
     "metadata": {},
     "source": [
      "Parmi les autres conventions d'interaction entre le syst\u00e8me (pour \u00eatre pr\u00e9cis: le [*shell*](http://fr.wikipedia.org/wiki/Interface_syst\u00e8me)) et une application, il y a les notions de\n",
      " * entr\u00e9e standard (*standard input*, en abr\u00e9g\u00e9 `stdin`)\n",
      " * sortie standard (*standard output*, en abr\u00e9g\u00e9 `stdout`)\n",
      " * erreur standard (*standard error*, en abr\u00e9g\u00e9 `stderr`)\n",
      "\n",
      "Ceci est principalement pertinent dans le contexte d'un terminal. L'id\u00e9e c'est qu'on a envie de pouvoir [*rediriger* les entr\u00e9es-sorties](http://en.wikipedia.org/wiki/Redirection_%28computing%29) d'un programme sans avoir \u00e0 le modifier. De la sorte, on peut \u00e9galement *cha\u00eener* des traitements [\u00e0 l'aide de *pipes*](http://en.wikipedia.org/wiki/Redirection_%28computing%29#Piping), sans avoir besoin de sauver les r\u00e9sultats interm\u00e9diaires sur disque."
     ]
    },
    {
     "cell_type": "markdown",
     "metadata": {},
     "source": [
      "Ainsi par exemple lorsqu'on \u00e9crit\n",
      "\n",
      "    $ monprogramme < fichier_entree > fichier_sortie\n",
      "\n",
      "les deux fichiers en question sont ouverts par le *shell*, et pass\u00e9s \u00e0 `monprogramme` - que celui-ci soit \u00e9crit en C, en python ou en Java - sous la forme des fichiers `stdin` et `stdout` respectivement, et donc **d\u00e9j\u00e0 ouverts**."
     ]
    },
    {
     "cell_type": "heading",
     "level": 3,
     "metadata": {},
     "source": [
      "Le module `sys`"
     ]
    },
    {
     "cell_type": "markdown",
     "metadata": {},
     "source": [
      "L'interpr\u00e9teur python vous expose ces trois fichiers sous la forme d'attributs du module `sys`"
     ]
    },
    {
     "cell_type": "code",
     "collapsed": false,
     "input": [
      "import sys\n",
      "for channel in (sys.stdin, sys.stdout, sys.stderr):\n",
      "    print channel"
     ],
     "language": "python",
     "metadata": {},
     "outputs": []
    },
    {
     "cell_type": "markdown",
     "metadata": {},
     "source": [
      "Dans le contexte du notebook vous pouvez constater que les deux flux de sortie sont impl\u00e9ment\u00e9s comme des classes sp\u00e9cifiques \u00e0 IPython. Si vous ex\u00e9cutez ce code localement dans votre ordinateur vous allez sans doute obtenir quelque chose comme\n",
      "\n",
      "    <open file '<stdin>', mode 'r' at 0x10c3b40c0>\n",
      "    <open file '<stdout>', mode 'w' at 0x10c3b4150>\n",
      "    <open file '<stderr>', mode 'w' at 0x10c3b41e0>"
     ]
    },
    {
     "cell_type": "markdown",
     "metadata": {},
     "source": [
      "On n'a pas extr\u00eamement souvent besoin d'utiliser ces variables en r\u00e8gle g\u00e9n\u00e9rale, mais elles peuvent s'av\u00e9rer utiles dans des contextes sp\u00e9cifiques. Par exemple, l'instruction `print` \u00e9crit dans `sys.stdout` (c'est-\u00e0-dire la sortie standard). Mais comme `sys.stdout` est une variable (plus exactement `stdout` est une variable dans le module `sys`) et qu'elle r\u00e9f\u00e9rence un objet fichier, on peut lui faire r\u00e9f\u00e9rencer un autre objet fichier et ainsi rediriger depuis notre programme tous les sorties sur le terminal vers un fichier"
     ]
    },
    {
     "cell_type": "code",
     "collapsed": false,
     "input": [
      "import sys\n",
      "autre_stdout = open('ma_sortie.txt', 'w')\n",
      "tmp = sys.stdout  # on garde un lien vers le fichier sortie standard, pour le r\u00e9cup\u00e9rer plus tard si besoin. \n",
      "print 'sur le terminal'\n",
      "sys.stdout = autre_stdout\n",
      "print 'dans le fichier'\n",
      "sys.stdout = tmp\n",
      "print 'de nouveau sur le terminal'"
     ],
     "language": "python",
     "metadata": {},
     "outputs": []
    }
   ],
   "metadata": {}
  }
 ]
}