{
 "metadata": {
  "kernelspec": {
   "display_name": "Python 2",
   "language": "python",
   "name": "python2"
  },
  "notebookname": "Pr\u00e9cisions sur l'importation",
  "signature": "sha256:3f389963238e7157c804dd91f4ab98c01a6ffc285e0243f3b4ca23b471500cb8",
  "version": "2.0"
 },
 "nbformat": 3,
 "nbformat_minor": 0,
 "worksheets": [
  {
   "cells": [
    {
     "cell_type": "markdown",
     "metadata": {},
     "source": [
      "<span style=\"float:left;\">Licence CC BY-NC-ND</span><span style=\"float:right;\">Thierry Parmentelat &amp; Arnaud Legout,<img src=\"media/inria-25.png\" style=\"display:inline\"></span><br/>"
     ]
    },
    {
     "cell_type": "heading",
     "level": 1,
     "metadata": {},
     "source": [
      "Pr\u00e9cisions sur l'importation"
     ]
    },
    {
     "cell_type": "heading",
     "level": 2,
     "metadata": {},
     "source": [
      "Compl\u00e9ment - niveau basique"
     ]
    },
    {
     "cell_type": "heading",
     "level": 3,
     "metadata": {},
     "source": [
      "Importations multiples - rechargement"
     ]
    },
    {
     "cell_type": "heading",
     "level": 5,
     "metadata": {},
     "source": [
      "Un module n'est charg\u00e9 qu'une fois"
     ]
    },
    {
     "cell_type": "markdown",
     "metadata": {},
     "source": [
      "De mani\u00e8re g\u00e9n\u00e9rale, \u00e0 l'int\u00e9rieur d'un interpr\u00e9teur python, un module donn\u00e9 n'est charg\u00e9 qu'une seule fois. L'id\u00e9e est naturellement que si plusieurs modules diff\u00e9rents importent le m\u00eame module, (ou si un m\u00eame module en importe un autre plusieurs fois) on ne paie le prix du chargement du module qu'une seule fois.\n",
      "\n",
      "Voyons cela sur un exemple simpliste, importons un module pour la premi\u00e8re fois"
     ]
    },
    {
     "cell_type": "code",
     "collapsed": false,
     "input": [
      "import multiple_import"
     ],
     "language": "python",
     "metadata": {},
     "outputs": []
    },
    {
     "cell_type": "markdown",
     "metadata": {},
     "source": [
      "Ce module est tr\u00e8s simple, comme vous pouvez le voir"
     ]
    },
    {
     "cell_type": "code",
     "collapsed": false,
     "input": [
      "from modtools import show_module\n",
      "show_module(multiple_import )"
     ],
     "language": "python",
     "metadata": {},
     "outputs": []
    },
    {
     "cell_type": "markdown",
     "metadata": {},
     "source": [
      "Si on le charge une deuxi\u00e8me fois (peu importe o\u00f9, dans le m\u00eame module, un autre module, une fonction..), vous remarquez qu'il ne produit aucune impression"
     ]
    },
    {
     "cell_type": "code",
     "collapsed": false,
     "input": [
      "import multiple_import "
     ],
     "language": "python",
     "metadata": {},
     "outputs": []
    },
    {
     "cell_type": "markdown",
     "metadata": {},
     "source": [
      "Ce qui confirme que le module a d\u00e9j\u00e0 \u00e9t\u00e9 charg\u00e9, donc cette instruction `import` n'a aucun effet autre qu'affecter la variable `multiple_import` de nouveau \u00e0 l'objet module d\u00e9j\u00e0 charg\u00e9. En r\u00e9sum\u00e9, l'instruction `import` fait l'op\u00e9ration d'affectation autant de fois qu'on appelle `import`, mais elle ne charge le module qu'une seule fois \u00e0 la premi\u00e8re importation. "
     ]
    },
    {
     "cell_type": "heading",
     "level": 5,
     "metadata": {},
     "source": [
      "Les raisons de ce choix"
     ]
    },
    {
     "cell_type": "markdown",
     "metadata": {},
     "source": [
      "Le choix de ne charger le module qu'une seule fois est motiv\u00e9 par plusieurs consid\u00e9rations."
     ]
    },
    {
     "cell_type": "markdown",
     "metadata": {},
     "source": [
      "D'une part, et principalement, cela permet \u00e0 deux modules de d\u00e9pendre l'un de l'autre (ou plus g\u00e9n\u00e9ralement \u00e0 avoir des cycles de d\u00e9pendances), sans avoir \u00e0 prendre de pr\u00e9caution particuli\u00e8re. Pour ceux qui pratiquent C/C++, ceci \u00e9vite d'avoir \u00e0 recourir \u00e0 une pratique comme \n",
      "\n",
      "    #ifndef _STDLIB_H_\n",
      "    #define _STDLIB_H_\n",
      "    <...>\n",
      "    #endif /* _STDLIB_H_ */"
     ]
    },
    {
     "cell_type": "markdown",
     "metadata": {},
     "source": [
      "D'autre part, naturellement, cette strat\u00e9gie am\u00e9liore les performances."
     ]
    },
    {
     "cell_type": "markdown",
     "metadata": {},
     "source": [
      "Marginalement, `import` est une instruction comme une autre, et vous trouverez occasionnellement un avantage \u00e0 l'utiliser \u00e0 l'int\u00e9rieur d'une fonction, **sans aucun surco\u00fbt** puisque vous ne payez le prix de l'import qu'au premier appel et non \u00e0 chaque appel de la fonction.\n",
      "\n",
      "    def ma_fonction():\n",
      "        import un_module_improbable\n",
      "        ....\n",
      "        \n",
      "Cet usage n'est pas recommand\u00e9 en g\u00e9n\u00e9ral, mais de temps en temps peut s'av\u00e9rer tr\u00e8s pratique pour all\u00e9ger les d\u00e9pendances entre modules dans des contextes particuliers, comme du code multi-plateformes. "
     ]
    },
    {
     "cell_type": "heading",
     "level": 5,
     "metadata": {},
     "source": [
      "Les inconv\u00e9nients de ce choix - la fonction `reload`"
     ]
    },
    {
     "cell_type": "markdown",
     "metadata": {},
     "source": [
      "L'inconv\u00e9nient majeur de cette strat\u00e9gie de chargement unique est perceptible dans l'interpr\u00e9teur interactif pendant le d\u00e9veloppement. Nous avons vu comment IDLE traite le probl\u00e8me en remettant l'interpr\u00e9teur dans un \u00e9tat vierge lorsqu'on utilise la touche F5. Mais dans l'interpr\u00e9teur syntaxique \"de base\" on n'a pas cette possibilit\u00e9."
     ]
    },
    {
     "cell_type": "markdown",
     "metadata": {},
     "source": [
      "Pour cette raison, python fournit une fonction `reload`, qui permet comme son nom l'indique de forcer le rechargement d'un module, comme ceci"
     ]
    },
    {
     "cell_type": "code",
     "collapsed": false,
     "input": [
      "reload(multiple_import)"
     ],
     "language": "python",
     "metadata": {},
     "outputs": []
    },
    {
     "cell_type": "markdown",
     "metadata": {},
     "source": [
      "Remarquez bien que `reload` est une fonction et non une instruction comme `import` - d'o\u00f9 la syntaxe avec les parenth\u00e8ses qui n'est pas celle de `import`."
     ]
    },
    {
     "cell_type": "heading",
     "level": 2,
     "metadata": {},
     "source": [
      "Compl\u00e9ment - niveau avanc\u00e9"
     ]
    },
    {
     "cell_type": "markdown",
     "metadata": {},
     "source": [
      "Signalons enfin, pour ceux qui sont int\u00e9ress\u00e9s par les d\u00e9tails, les deux variables suivantes."
     ]
    },
    {
     "cell_type": "heading",
     "level": 3,
     "metadata": {},
     "source": [
      "`sys.modules`"
     ]
    },
    {
     "cell_type": "markdown",
     "metadata": {},
     "source": [
      "L'interpr\u00e9teur utilise cette variable pour conserver la trace des modules actuellement charg\u00e9s. "
     ]
    },
    {
     "cell_type": "code",
     "collapsed": false,
     "input": [
      "import sys\n",
      "\n",
      "import math\n",
      "math is sys.modules['math']"
     ],
     "language": "python",
     "metadata": {},
     "outputs": []
    },
    {
     "cell_type": "markdown",
     "metadata": {},
     "source": [
      "La [documentation sur cette variable](https://docs.python.org/2/library/sys.html#sys.modules) indique qu'il est possible de forcer le rechargement d'un module en l'enlevant de cette `sys.modules."
     ]
    },
    {
     "cell_type": "code",
     "collapsed": false,
     "input": [
      "del sys.modules['multiple_import']\n",
      "import multiple_import"
     ],
     "language": "python",
     "metadata": {},
     "outputs": []
    },
    {
     "cell_type": "markdown",
     "metadata": {},
     "source": [
      "Notez enfin qu'on y trouve des modules \u00e9crits en C aussi bien qu'en python. Pour trouver le fichier python charg\u00e9 par l'import du module, on peut utiliser la variable `__file__` sur le module. Notez que les modules \u00e9crits en C, comme le module `math`, [n'ont pas une telle variable (chercher la discussion sur les modules dans la documentation)](https://docs.python.org/2.7/reference/datamodel.html#the-standard-type-hierarchy)."
     ]
    },
    {
     "cell_type": "code",
     "collapsed": false,
     "input": [
      "math.__file__"
     ],
     "language": "python",
     "metadata": {},
     "outputs": []
    },
    {
     "cell_type": "code",
     "collapsed": false,
     "input": [
      "multiple_import.__file__"
     ],
     "language": "python",
     "metadata": {},
     "outputs": []
    },
    {
     "cell_type": "heading",
     "level": 3,
     "metadata": {},
     "source": [
      "`sys.builtin_module_names`"
     ]
    },
    {
     "cell_type": "markdown",
     "metadata": {},
     "source": [
      "Signalons enfin [cette variable](https://docs.python.org/2/library/sys.html#sys.builtin_module_names) qui contient le nom des modules, comme par exemple le garbage collector `gc`, qui sont impl\u00e9ment\u00e9s en C et font partie int\u00e9grante de l'interpr\u00e9teur."
     ]
    },
    {
     "cell_type": "code",
     "collapsed": false,
     "input": [
      "'gc' in sys.builtin_module_names"
     ],
     "language": "python",
     "metadata": {},
     "outputs": []
    },
    {
     "cell_type": "heading",
     "level": 3,
     "metadata": {},
     "source": [
      "Pour en savoir plus"
     ]
    },
    {
     "cell_type": "markdown",
     "metadata": {},
     "source": [
      "Pour aller plus loin, vous pouvez lire [la documentation sur l'instruction `import`](https://docs.python.org/2/reference/simple_stmts.html#the-import-statement)"
     ]
    }
   ],
   "metadata": {}
  }
 ]
}