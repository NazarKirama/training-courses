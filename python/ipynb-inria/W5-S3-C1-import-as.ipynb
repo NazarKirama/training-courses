{
 "metadata": {
  "kernelspec": {
   "display_name": "Python 2",
   "language": "python",
   "name": "python2"
  },
  "notebookname": "La clause `import as`",
  "signature": "sha256:d7d94d629569965e016bd0e36fb2d15907e2c4211cb3f70f913bdabc3debd7ca",
  "version": "2.0"
 },
 "nbformat": 3,
 "nbformat_minor": 0,
 "worksheets": [
  {
   "cells": [
    {
     "cell_type": "markdown",
     "metadata": {},
     "source": [
      "<span style=\"float:left;\">Licence CC BY-NC-ND</span><span style=\"float:right;\">Thierry Parmentelat &amp; Arnaud Legout,<img src=\"media/inria-25.png\" style=\"display:inline\"></span><br/>"
     ]
    },
    {
     "cell_type": "heading",
     "level": 1,
     "metadata": {},
     "source": [
      "La clause `import as`"
     ]
    },
    {
     "cell_type": "heading",
     "level": 2,
     "metadata": {},
     "source": [
      "Compl\u00e9ment - niveau interm\u00e9diaire"
     ]
    },
    {
     "cell_type": "heading",
     "level": 3,
     "metadata": {},
     "source": [
      "Rappel"
     ]
    },
    {
     "cell_type": "markdown",
     "metadata": {},
     "source": [
      "Jusqu'ici nous avons vu les formes d'importation suivantes (rappel de la 3\u00e8me semaine):"
     ]
    },
    {
     "cell_type": "heading",
     "level": 5,
     "metadata": {},
     "source": [
      "Importer tout un module sous son nom canonique"
     ]
    },
    {
     "cell_type": "markdown",
     "metadata": {},
     "source": [
      "D'abord pour importer tout un module"
     ]
    },
    {
     "cell_type": "markdown",
     "metadata": {},
     "source": [
      "    import un_module"
     ]
    },
    {
     "cell_type": "markdown",
     "metadata": {},
     "source": [
      "qui est pour simplifier \u00e9quivalent \u00e0"
     ]
    },
    {
     "cell_type": "markdown",
     "metadata": {},
     "source": [
      "    un_module = __import__('un_module')"
     ]
    },
    {
     "cell_type": "heading",
     "level": 5,
     "metadata": {},
     "source": [
      "Importer un symbole dans un module, sous son nom canonique"
     ]
    },
    {
     "cell_type": "markdown",
     "metadata": {},
     "source": [
      "Et dans la vid\u00e9o nous venons de voir qu'on peut aussi faire"
     ]
    },
    {
     "cell_type": "markdown",
     "metadata": {},
     "source": [
      "    from un_module import un_symbole"
     ]
    },
    {
     "cell_type": "markdown",
     "metadata": {},
     "source": [
      "qui est grosso-modo \u00e9quivalent \u00e0 "
     ]
    },
    {
     "cell_type": "markdown",
     "metadata": {},
     "source": [
      "    temporaire = __import__('un_module')\n",
      "    un_symbole = temporaire.un_symbole\n",
      "    del temporaire"
     ]
    },
    {
     "cell_type": "markdown",
     "metadata": {},
     "source": [
      "Pour m\u00e9moire, le langage permet de faire aussi des `import *`, qui est d'un usage d\u00e9conseill\u00e9 en dehors de l'interpr\u00e9teur interactif \u00e0 cause du risque de collisions non controll\u00e9es des espaces de nommage. "
     ]
    },
    {
     "cell_type": "heading",
     "level": 3,
     "metadata": {},
     "source": [
      "`import`  `as`"
     ]
    },
    {
     "cell_type": "heading",
     "level": 5,
     "metadata": {},
     "source": [
      "Tout un module"
     ]
    },
    {
     "cell_type": "markdown",
     "metadata": {},
     "source": [
      "Dans chacun de ces deux cas, on n'a pas le choix du nom de l'entit\u00e9 import\u00e9e, et cela pose parfois probl\u00e8me.\n",
      "\n",
      "Il peut arriver d'\u00e9crire un module sous un nom qui semble bien choisi, mais on se rend compte au bout d'un moment qu'il entre en conflit avec un autre symbole.\n",
      "\n",
      "Par exemple, vous \u00e9crirez un module dans un fichier `globals.py` et vous l'importez dans votre code"
     ]
    },
    {
     "cell_type": "markdown",
     "metadata": {},
     "source": [
      "    import globals"
     ]
    },
    {
     "cell_type": "markdown",
     "metadata": {},
     "source": [
      "Puis un moment apr\u00e8s pour d\u00e9bugger vous voulez utiliser la fonction *builtin* `globals`. Sauf que, en vertu de la r\u00e8gle LEG, le symbole `globals` se trouve d\u00e9signer votre module, et non la fonction."
     ]
    },
    {
     "cell_type": "markdown",
     "metadata": {},
     "source": [
      "\u00c0 ce stade \u00e9videmment vous pouvez (devriez) renommer votre module, mais cela peut prendre du temps parce qu'il y a de nombreuses d\u00e9pendances. En attendant vous pouvez tirer profit de la clause `import as` dont la forme g\u00e9n\u00e9rale est"
     ]
    },
    {
     "cell_type": "markdown",
     "metadata": {},
     "source": [
      "    import un_module as mon_nom_de_module"
     ]
    },
    {
     "cell_type": "markdown",
     "metadata": {},
     "source": [
      "ce qui, toujours \u00e0 la grosse louche, est \u00e9quivalent \u00e0"
     ]
    },
    {
     "cell_type": "markdown",
     "metadata": {},
     "source": [
      "    mon_nom_de_module = __import__('un_module')"
     ]
    },
    {
     "cell_type": "heading",
     "level": 5,
     "metadata": {},
     "source": [
      "Un symbole dans un module"
     ]
    },
    {
     "cell_type": "markdown",
     "metadata": {},
     "source": [
      "On peut de m\u00eame importer un symbole sp\u00e9cifique d'un module, sous un autre nom que celui qu'il a dans le module. Ainsi"
     ]
    },
    {
     "cell_type": "markdown",
     "metadata": {},
     "source": [
      "    from un_module import un_symbole as mon_nom_de_symbole"
     ]
    },
    {
     "cell_type": "markdown",
     "metadata": {},
     "source": [
      "qui fait quelque chose comme"
     ]
    },
    {
     "cell_type": "markdown",
     "metadata": {},
     "source": [
      "    temporaire = __import__('un_module')\n",
      "    mon_nom_de_symbole = temporaire.un_symbole\n",
      "    del temporaire"
     ]
    },
    {
     "cell_type": "heading",
     "level": 3,
     "metadata": {},
     "source": [
      "Quelques exemples"
     ]
    },
    {
     "cell_type": "markdown",
     "metadata": {},
     "source": [
      "Vous vous souvenez que nous avons dans notre environnement les modules \n",
      " * `un_deux`\n",
      " * `un_deux_trois`\n",
      " * `un_deux_trois_quatre`\n",
      " \n",
      "qui d\u00e9finissent les symboles `un`, `deux`, `trois` et `quatre`"
     ]
    },
    {
     "cell_type": "code",
     "collapsed": false,
     "input": [
      "import un_deux as autre_module\n",
      "autre_module.un()"
     ],
     "language": "python",
     "metadata": {},
     "outputs": []
    },
    {
     "cell_type": "code",
     "collapsed": false,
     "input": [
      "from un_deux_trois import un as autre_fonction\n",
      "autre_fonction()"
     ],
     "language": "python",
     "metadata": {},
     "outputs": []
    },
    {
     "cell_type": "code",
     "collapsed": false,
     "input": [
      "from un_deux_trois_quatre import un as u, deux, trois as t"
     ],
     "language": "python",
     "metadata": {},
     "outputs": []
    },
    {
     "cell_type": "code",
     "collapsed": false,
     "input": [
      "u()\n",
      "deux()\n",
      "t()"
     ],
     "language": "python",
     "metadata": {},
     "outputs": []
    },
    {
     "cell_type": "heading",
     "level": 3,
     "metadata": {},
     "source": [
      "Pour en savoir plus"
     ]
    },
    {
     "cell_type": "markdown",
     "metadata": {},
     "source": [
      "Vous pouvez vous reporter \u00e0 [la section sur l'instruction `import`](https://docs.python.org/2.7/reference/simple_stmts.html#the-import-statement) dans la documentation python."
     ]
    }
   ],
   "metadata": {}
  }
 ]
}