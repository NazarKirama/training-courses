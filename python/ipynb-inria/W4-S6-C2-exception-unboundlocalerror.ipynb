{
 "metadata": {
  "kernelspec": {
   "display_name": "Python 2",
   "language": "python",
   "name": "python2"
  },
  "notebookname": "UnboundLocalError",
  "signature": "sha256:160f0c2f38e47147d93576d6875135202d77d85cacf11b332a7b53d891f2cddc",
  "version": "2.0"
 },
 "nbformat": 3,
 "nbformat_minor": 0,
 "worksheets": [
  {
   "cells": [
    {
     "cell_type": "markdown",
     "metadata": {},
     "source": [
      "<span style=\"float:left;\">Licence CC BY-NC-ND</span><span style=\"float:right;\">Thierry Parmentelat &amp; Arnaud Legout,<img src=\"media/inria-25.png\" style=\"display:inline\"></span><br/>"
     ]
    },
    {
     "cell_type": "heading",
     "level": 1,
     "metadata": {},
     "source": [
      "L'exception `UnboundLocalError`"
     ]
    },
    {
     "cell_type": "heading",
     "level": 2,
     "metadata": {},
     "source": [
      "Compl\u00e9ment - niveau interm\u00e9diaire"
     ]
    },
    {
     "cell_type": "markdown",
     "metadata": {},
     "source": [
      "Nous r\u00e9sumons ici quelques cas simples de port\u00e9e de variables"
     ]
    },
    {
     "cell_type": "heading",
     "level": 3,
     "metadata": {},
     "source": [
      "Variable locale"
     ]
    },
    {
     "cell_type": "markdown",
     "metadata": {},
     "source": [
      "Les **arguments** attendus par la fonction sont consid\u00e9r\u00e9s comme des variables **locales**. \n",
      "\n",
      "Pour d\u00e9finir une autre variable locale, il suffit de la d\u00e9finir (l'affecter), elle devient alors accessible en lecture"
     ]
    },
    {
     "cell_type": "code",
     "collapsed": false,
     "input": [
      "def ma_fonction():\n",
      "    variable1 = \"locale\"\n",
      "    print variable1\n",
      "ma_fonction()"
     ],
     "language": "python",
     "metadata": {},
     "outputs": []
    },
    {
     "cell_type": "markdown",
     "metadata": {},
     "source": [
      "et ceci que l'on ait ou non une variable globale de m\u00eame nom"
     ]
    },
    {
     "cell_type": "code",
     "collapsed": false,
     "input": [
      "variable2 = \"globale\"\n",
      "\n",
      "def ma_fonction():\n",
      "    variable2 = \"locale\"\n",
      "    print variable2\n",
      "ma_fonction()"
     ],
     "language": "python",
     "metadata": {},
     "outputs": []
    },
    {
     "cell_type": "heading",
     "level": 3,
     "metadata": {},
     "source": [
      "Variable globale"
     ]
    },
    {
     "cell_type": "markdown",
     "metadata": {},
     "source": [
      "On peut acc\u00e9der **en lecture**  \u00e0 une variable globale sans pr\u00e9caution particuli\u00e8re"
     ]
    },
    {
     "cell_type": "code",
     "collapsed": false,
     "input": [
      "variable3 = \"globale\"\n",
      "def ma_fonction():\n",
      "    print variable3\n",
      "ma_fonction()"
     ],
     "language": "python",
     "metadata": {},
     "outputs": []
    },
    {
     "cell_type": "heading",
     "level": 3,
     "metadata": {},
     "source": [
      "Mais il faut choisir !"
     ]
    },
    {
     "cell_type": "markdown",
     "metadata": {},
     "source": [
      "Par contre on ne **peut pas** faire la chose suivante dans une fonction. On ne peut pas utiliser **d'abord** une variable comme une variable **globale**, **puis** essayer de l'affecter localement - ce qui signifie la d\u00e9clarer comme une **locale**:"
     ]
    },
    {
     "cell_type": "code",
     "collapsed": false,
     "input": [
      "# cet exemple ne fonctionne pas et leve UnboundLocalError\n",
      "variable4 = \"globale\"\n",
      "def ma_fonction():\n",
      "    # on r\u00e9f\u00e9rence la variable globale\n",
      "    print variable4\n",
      "    # et maintenant on cr\u00e9e un variable locale\n",
      "    variable4 = \"locale\"\n",
      "\n",
      "# on \"attrape\" l'exception\n",
      "try:\n",
      "    ma_fonction()\n",
      "except Exception as e:\n",
      "    print type(e)\n",
      "    print e"
     ],
     "language": "python",
     "metadata": {},
     "outputs": []
    },
    {
     "cell_type": "heading",
     "level": 3,
     "metadata": {},
     "source": [
      "Comment faire alors ?"
     ]
    },
    {
     "cell_type": "markdown",
     "metadata": {},
     "source": [
      "L'int\u00e9r\u00eat de cette erreur est d'interdire de m\u00e9langer des variables locales et globales de m\u00eame nom dans une m\u00eame fonction. On comprend bien que \u00e7a serait vite incompr\u00e9hensible. Donc une variable dans une fonction peut \u00eatre soit locale si elle est affect\u00e9e dans la fonction ou sinon globale, mais jamais les deux \u00e0 la fois. Si vous avez une erreur `UnboundLocalError` c'est forc\u00e9ment que vous avez fait cette confusion. \n",
      "\n",
      "Vous vous demandez peut-\u00eatre \u00e0 ce stade, mais comment fait-on alors pour modifier une variable globale depuis une fonction ?"
     ]
    },
    {
     "cell_type": "markdown",
     "metadata": {},
     "source": [
      "Pour cela il faut utiliser l'instruction `global` comme ceci"
     ]
    },
    {
     "cell_type": "code",
     "collapsed": false,
     "input": [
      "# Pour r\u00e9soudre ce conflit il faut explicitement\n",
      "# d\u00e9clarer la variable  comme globale\n",
      "variable5 = \"globale\"\n",
      "def ma_fonction():\n",
      "    global variable5\n",
      "    # on r\u00e9f\u00e9rence la variable globale\n",
      "    print \"dans la fonction\", variable5\n",
      "    # et maintenant on cr\u00e9e un variable locale\n",
      "    variable5 = \"chang\u00e9e localement\"\n",
      "\n",
      "ma_fonction()\n",
      "print \"apr\u00e8s la fonction\", variable5"
     ],
     "language": "python",
     "metadata": {},
     "outputs": []
    },
    {
     "cell_type": "markdown",
     "metadata": {},
     "source": [
      "Nous reviendrons longuement sur l'instruction `global` dans la prochaine vid\u00e9o."
     ]
    },
    {
     "cell_type": "heading",
     "level": 3,
     "metadata": {},
     "source": [
      "Bonnes pratiques"
     ]
    },
    {
     "cell_type": "markdown",
     "metadata": {},
     "source": [
      "Cela \u00e9tant dit, l'utilisation de variables globales est g\u00e9n\u00e9ralement consid\u00e9r\u00e9e comme une mauvaise pratique. \n",
      "\n",
      "Le fait d'utiliser une variable globale en *lecture seule* peut rester acceptable, lorsqu'il s'agit de mat\u00e9rialiser une constante qu'il est facile de changer. Mais dans une application aboutie, ces constantes elles-m\u00eames peuvent \u00eatre modifi\u00e9es par l'utilisateur via un syst\u00e8me de configuration, donc on pr\u00e9f\u00e9rera passer en argument un objet *config*.\n",
      "\n",
      "Et dans les cas o\u00f9 votre code doit recourir \u00e0 l'utilisation de l'instruction `global`, c'est tr\u00e8s probablement que quelque chose peut \u00eatre am\u00e9lior\u00e9 au niveau de la conception de votre code.\n",
      "\n",
      "Il est recommand\u00e9, au contraire, de passer en argument \u00e0 une fonction tout le contexte dont elle a besoin pour travailler; et \u00e0 l'inverse d'utiliser le r\u00e9sultat d'une fonction plut\u00f4t que de modifier une variable globale."
     ]
    }
   ],
   "metadata": {}
  }
 ]
}