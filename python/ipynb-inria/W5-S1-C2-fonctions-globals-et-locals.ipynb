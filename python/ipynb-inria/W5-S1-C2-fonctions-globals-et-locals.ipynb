{
 "metadata": {
  "kernelspec": {
   "display_name": "Python 2",
   "language": "python",
   "name": "python2"
  },
  "notebookname": "globals et locals",
  "signature": "sha256:a43c6d9c79698871ee8ebbeeab1a64ea078efdcc19c4883ac76cf326704ac5c3",
  "version": "2.0"
 },
 "nbformat": 3,
 "nbformat_minor": 0,
 "worksheets": [
  {
   "cells": [
    {
     "cell_type": "markdown",
     "metadata": {},
     "source": [
      "<span style=\"float:left;\">Licence CC BY-NC-ND</span><span style=\"float:right;\">Thierry Parmentelat &amp; Arnaud Legout,<img src=\"media/inria-25.png\" style=\"display:inline\"></span><br/>"
     ]
    },
    {
     "cell_type": "heading",
     "level": 1,
     "metadata": {},
     "source": [
      "Les fonctions `globals` et `locals`"
     ]
    },
    {
     "cell_type": "heading",
     "level": 2,
     "metadata": {},
     "source": [
      "Compl\u00e9ment - niveau interm\u00e9diaire"
     ]
    },
    {
     "cell_type": "heading",
     "level": 3,
     "metadata": {},
     "source": [
      "Un exemple"
     ]
    },
    {
     "cell_type": "markdown",
     "metadata": {},
     "source": [
      "python fournit un acc\u00e8s \u00e0 la liste des noms et valeurs des variables visibles \u00e0 cet endroit du code. Dans le jargon des langages de programmation on appelle ceci **l'environnement**.\n",
      "\n",
      "Cela est fait gr\u00e2ce aux fonctions *builtin* `globals` et `locals`, que nous allons commencer par essayer sur quelques exemples. Nous avons pour cela \u00e9crit un module d\u00e9di\u00e9:"
     ]
    },
    {
     "cell_type": "code",
     "collapsed": false,
     "input": [
      "import env_locals_globals"
     ],
     "language": "python",
     "metadata": {},
     "outputs": []
    },
    {
     "cell_type": "markdown",
     "metadata": {},
     "source": [
      "-----\n",
      "\n",
      "Dont voici le code"
     ]
    },
    {
     "cell_type": "code",
     "collapsed": false,
     "input": [
      "from modtools import show_module\n",
      "show_module(env_locals_globals)"
     ],
     "language": "python",
     "metadata": {},
     "outputs": []
    },
    {
     "cell_type": "markdown",
     "metadata": {},
     "source": [
      "-----\n",
      "\n",
      "et voici ce qu'on obtient lorsqu'on appelle "
     ]
    },
    {
     "cell_type": "code",
     "collapsed": false,
     "input": [
      "env_locals_globals.temoin(10)"
     ],
     "language": "python",
     "metadata": {},
     "outputs": []
    },
    {
     "cell_type": "heading",
     "level": 3,
     "metadata": {},
     "source": [
      "Interpr\u00e9tation"
     ]
    },
    {
     "cell_type": "markdown",
     "metadata": {},
     "source": [
      "Que nous montre cet exemple ?\n",
      "\n",
      "D'une part la fonction **`globals`** nous donne la liste des symboles d\u00e9finis au niveau de **l'espace de noms du module**. Il s'agit \u00e9videmment du module dans lequel est d\u00e9finie la fonction, pas celui dans lequel elle est appel\u00e9e. Vous remarquerez que ceci englobe **tous** les symboles du modules et non pas seulement ceux d\u00e9finis avant `temoin`, c'est-\u00e0-dire la variable `globale`, les deux fonctions, et la classe `Foo`. \n",
      "\n",
      "D'autre part **`locals`** nous donne les variables locales qui sont accessibles **\u00e0 cet endroit du code**, comme le montre ce second exemple qui se concentre sur `locals` \u00e0 diff\u00e9rents points d'une m\u00eame fonction. "
     ]
    },
    {
     "cell_type": "code",
     "collapsed": false,
     "input": [
      "import env_locals\n",
      "\n",
      "# le code de ce module \n",
      "show_module(env_locals)"
     ],
     "language": "python",
     "metadata": {},
     "outputs": []
    },
    {
     "cell_type": "code",
     "collapsed": false,
     "input": [
      "env_locals.temoin(10)"
     ],
     "language": "python",
     "metadata": {},
     "outputs": []
    },
    {
     "cell_type": "heading",
     "level": 3,
     "metadata": {},
     "source": [
      "Usage pour le formatage de cha\u00eenes"
     ]
    },
    {
     "cell_type": "markdown",
     "metadata": {},
     "source": [
      "Ces deux fonctions ne sont pas d'une utilisation tr\u00e8s fr\u00e9quente. Elles peuvent cependant \u00eatre utiles dans le contexte du formatage de cha\u00eenes, comme ou peut le voir dans les deux exemples ci-dessous."
     ]
    },
    {
     "cell_type": "heading",
     "level": 5,
     "metadata": {},
     "source": [
      "Avec `format`"
     ]
    },
    {
     "cell_type": "markdown",
     "metadata": {},
     "source": [
      "On peut utiliser `format` qui s'attend \u00e0 quelque chose comme "
     ]
    },
    {
     "cell_type": "code",
     "collapsed": false,
     "input": [
      "\"{nom}\".format(nom=\"Dupont\")"
     ],
     "language": "python",
     "metadata": {},
     "outputs": []
    },
    {
     "cell_type": "markdown",
     "metadata": {},
     "source": [
      "que l'on peut obtenir de mani\u00e8re \u00e9quivalente, avec le passage d'arguments en `**`, comme on l'a vu en fin de semaine pass\u00e9e:"
     ]
    },
    {
     "cell_type": "code",
     "collapsed": false,
     "input": [
      "\"{nom}\".format(**{'nom': 'Dupont'})"
     ],
     "language": "python",
     "metadata": {},
     "outputs": []
    },
    {
     "cell_type": "markdown",
     "metadata": {},
     "source": [
      "En versant la fonction `locals` dans cette formule on obtient une forme relativement \u00e9l\u00e9gante"
     ]
    },
    {
     "cell_type": "code",
     "collapsed": false,
     "input": [
      "def format_et_locals(nom, prenom, civilite, telephone):\n",
      "    return \"{civilite} {prenom} {nom} : Poste {telephone}\".format(**locals())\n",
      "\n",
      "format_et_locals('Dupont', 'Jean', 'Mr', '7748')"
     ],
     "language": "python",
     "metadata": {},
     "outputs": []
    },
    {
     "cell_type": "heading",
     "level": 5,
     "metadata": {},
     "source": [
      "Avec l'op\u00e9rateur `%`"
     ]
    },
    {
     "cell_type": "markdown",
     "metadata": {},
     "source": [
      "De mani\u00e8re similaire, avec l'op\u00e9rateur `%` - dont nous rappelons qu'il est obsol\u00e8te - on peut \u00e9crire"
     ]
    },
    {
     "cell_type": "code",
     "collapsed": false,
     "input": [
      "def pourcent_et_locals(nom, prenom, civilite, telephone):\n",
      "    return \"%(civilite)s %(prenom)s %(nom)s : Poste %(telephone)s\"%locals()\n",
      "\n",
      "pourcent_et_locals('Dupont', 'Jean', 'Mr', '7748')"
     ],
     "language": "python",
     "metadata": {},
     "outputs": []
    }
   ],
   "metadata": {}
  }
 ]
}