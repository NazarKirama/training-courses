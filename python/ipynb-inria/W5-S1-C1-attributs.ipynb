{
 "metadata": {
  "kernelspec": {
   "display_name": "Python 2",
   "language": "python",
   "name": "python2"
  },
  "notebookname": "Les attributs",
  "signature": "sha256:af40ac367cad127636fc41f135867e602afe85e224b6b5f6353182b00c274551",
  "version": "2.0"
 },
 "nbformat": 3,
 "nbformat_minor": 0,
 "worksheets": [
  {
   "cells": [
    {
     "cell_type": "markdown",
     "metadata": {},
     "source": [
      "<span style=\"float:left;\">Licence CC BY-NC-ND</span><span style=\"float:right;\">Thierry Parmentelat &amp; Arnaud Legout,<img src=\"media/inria-25.png\" style=\"display:inline\"></span><br/>"
     ]
    },
    {
     "cell_type": "heading",
     "level": 1,
     "metadata": {},
     "source": [
      "Les attributs"
     ]
    },
    {
     "cell_type": "heading",
     "level": 2,
     "metadata": {},
     "source": [
      "Compl\u00e9ments - niveau basique"
     ]
    },
    {
     "cell_type": "heading",
     "level": 3,
     "metadata": {},
     "source": [
      "La notation `.` et les attributs"
     ]
    },
    {
     "cell_type": "markdown",
     "metadata": {},
     "source": [
      "La notation `module.variable` que nous avons vue dans la vid\u00e9o est un cas particulier de la notion d'attribut, qui permet d'\u00e9tendre un objet, ou si on pr\u00e9f\u00e8re de lui accrocher des annotations.\n",
      "\n",
      "Nous avons d\u00e9j\u00e0 rencontr\u00e9 ceci plusieurs fois, c'est exactement le m\u00eame m\u00e9canisme d'attribut qui est utilis\u00e9 \u00e9galement pour les m\u00e9thodes; pour le syst\u00e8me d'attribut il n'y a pas de diff\u00e9rence entre `module.variable`, `module.fonction`, `objet.classe`, etc.. \n",
      "\n",
      "Nous verrons tr\u00e8s bient\u00f4t que ce m\u00e9canisme est massivement utilis\u00e9 \u00e9galement dans les instances de classe."
     ]
    },
    {
     "cell_type": "heading",
     "level": 3,
     "metadata": {},
     "source": [
      "Les fonctions de gestion des attributs"
     ]
    },
    {
     "cell_type": "markdown",
     "metadata": {},
     "source": [
      "Pour acc\u00e9der programmativement aux attributs d'un objet, on dispose des 3 fonctions *builtin* `getattr`, `setattr`, et `hasattr`, que nous allons illustrer tout de suite"
     ]
    },
    {
     "cell_type": "heading",
     "level": 5,
     "metadata": {},
     "source": [
      "Lire un attribut"
     ]
    },
    {
     "cell_type": "code",
     "collapsed": false,
     "input": [
      "import math\n",
      "# la forme la plus simple\n",
      "math.pi"
     ],
     "language": "python",
     "metadata": {},
     "outputs": []
    },
    {
     "cell_type": "markdown",
     "metadata": {},
     "source": [
      "La [fonction *builtin* `getattr`](https://docs.python.org/2/library/functions.html#getattr) permet de lire un attribut programmativement"
     ]
    },
    {
     "cell_type": "code",
     "collapsed": false,
     "input": [
      "# si on part d'une cha\u00eene qui d\u00e9signe le nom de l'attribut\n",
      "# la formule \u00e9quivalente est alors\n",
      "getattr(math, 'pi')"
     ],
     "language": "python",
     "metadata": {},
     "outputs": []
    },
    {
     "cell_type": "code",
     "collapsed": false,
     "input": [
      "# on peut utiliser les attributs avec la plupart des objets\n",
      "# ici nous allons le faire sur une fonction\n",
      "def foo() : \n",
      "    \"une fonction vide\"\n",
      "    pass\n",
      "\n",
      "# on a d\u00e9j\u00e0 vu certains attributs des fonctions\n",
      "print 'nom', foo.__name__, 'docstring', foo.__doc__"
     ],
     "language": "python",
     "metadata": {},
     "outputs": []
    },
    {
     "cell_type": "code",
     "collapsed": false,
     "input": [
      "# on peut pr\u00e9ciser une valeur pour d\u00e9faut pour le cas o\u00f9 l'attribut\n",
      "# n'existe pas\n",
      "getattr(foo, \"attribut_inexistant\", 'valeur_par_defaut')"
     ],
     "language": "python",
     "metadata": {},
     "outputs": []
    },
    {
     "cell_type": "heading",
     "level": 5,
     "metadata": {},
     "source": [
      "\u00c9crire un attribut"
     ]
    },
    {
     "cell_type": "code",
     "collapsed": false,
     "input": [
      "# on peut ajouter un attribut arbitraire (toujours sur l'objet fonction)\n",
      "foo.hauteur = 100\n",
      "\n",
      "foo.hauteur"
     ],
     "language": "python",
     "metadata": {},
     "outputs": []
    },
    {
     "cell_type": "markdown",
     "metadata": {},
     "source": [
      "Comme pour la lecture on peut \u00e9crire un attribut programativement avec la [fonction *builtin* `setattr`](https://docs.python.org/2/library/functions.html#setattr)"
     ]
    },
    {
     "cell_type": "code",
     "collapsed": false,
     "input": [
      "setattr(foo, \"largeur\", 200 )\n",
      "\n",
      "getattr(foo, \"largeur\")"
     ],
     "language": "python",
     "metadata": {},
     "outputs": []
    },
    {
     "cell_type": "heading",
     "level": 5,
     "metadata": {},
     "source": [
      "Liste des attributs"
     ]
    },
    {
     "cell_type": "markdown",
     "metadata": {},
     "source": [
      "La [fonction *builtin* `hasattr`](https://docs.python.org/2/library/functions.html#hasattr) permet de savoir si un objet poss\u00e8de ou pas un attribut:"
     ]
    },
    {
     "cell_type": "code",
     "collapsed": false,
     "input": [
      "# pour savoir si un attribut existe\n",
      "hasattr(math, 'pi')"
     ],
     "language": "python",
     "metadata": {},
     "outputs": []
    },
    {
     "cell_type": "markdown",
     "metadata": {},
     "source": [
      "Ce qui peut aussi \u00eatre retrouv\u00e9 autrement, avec la [fonction *builtin* `vars`](https://docs.python.org/2/library/functions.html#vars)"
     ]
    },
    {
     "cell_type": "code",
     "collapsed": false,
     "input": [
      "vars(foo)"
     ],
     "language": "python",
     "metadata": {},
     "outputs": []
    },
    {
     "cell_type": "heading",
     "level": 3,
     "metadata": {},
     "source": [
      "Sur quels objets"
     ]
    },
    {
     "cell_type": "markdown",
     "metadata": {},
     "source": [
      "Il n'est pas possible d'ajouter des attributs sur les types de base"
     ]
    },
    {
     "cell_type": "code",
     "collapsed": false,
     "input": [
      "for builtin_type in (int, str, float, long, complex, tuple, dict, set, frozenset):\n",
      "    obj = builtin_type()\n",
      "    try: \n",
      "        obj.foo = 'bar'\n",
      "    except AttributeError as e: \n",
      "        print \"type\", builtin_type.__name__, \"exception\", e"
     ],
     "language": "python",
     "metadata": {},
     "outputs": []
    },
    {
     "cell_type": "markdown",
     "metadata": {},
     "source": [
      "Il est par contre disponible sur virtuellement tout le reste, et notamment l\u00e0 o\u00f9 il est tr\u00e8s utile, c'est-\u00e0-dire pour ce qui nous concerne:\n",
      " * modules\n",
      " * packages\n",
      " * fonctions\n",
      " * classes\n",
      " * instances"
     ]
    },
    {
     "cell_type": "heading",
     "level": 2,
     "metadata": {},
     "source": [
      "Compl\u00e9ments - niveau avanc\u00e9"
     ]
    },
    {
     "cell_type": "markdown",
     "metadata": {},
     "source": [
      "Vous pouvez vous demander pourquoi il n'est pas possible d'ajouter des attributs \u00e0 un objet *builtin*. Le probl\u00e8me n'est pas tant d'ajouter des attributs que de modifier des attributs existants. On comprend ais\u00e9ment que modifier un objet *builtin* risque de corrompre le fonctionnement non seulement de votre programme d'une mani\u00e8re difficile \u00e0 pr\u00e9voir, mais aussi de tous les modules que vous utilisez. Dit autrement, les objets *builtin* sont la base de python et si vous les modifiez, vous modifiez le fonctionnement de python. "
     ]
    },
    {
     "cell_type": "markdown",
     "metadata": {},
     "source": [
      "Pour rendre impossible la modification d'un objet *builtin*, python utilise, au lieu d'un dictionnaire classique pour son espace de nommage, un proxy \u00e0 ce dictionnaire, appel\u00e9 *dictproxy* qui interdit les modifications. On rappelle que l'espace de nommage d'un objet est presque toujours r\u00e9f\u00e9renc\u00e9 par l'attribut `__dict__`. Regardons alors le type de l'espace de nommage pour la fonction `foo`"
     ]
    },
    {
     "cell_type": "code",
     "collapsed": false,
     "input": [
      "type(foo.__dict__)"
     ],
     "language": "python",
     "metadata": {},
     "outputs": []
    },
    {
     "cell_type": "markdown",
     "metadata": {},
     "source": [
      "mais le type de l'espace de nommage pour l'objet *builtin* `int` est"
     ]
    },
    {
     "cell_type": "code",
     "collapsed": false,
     "input": [
      "type(int.__dict__)"
     ],
     "language": "python",
     "metadata": {},
     "outputs": []
    }
   ],
   "metadata": {}
  }
 ]
}