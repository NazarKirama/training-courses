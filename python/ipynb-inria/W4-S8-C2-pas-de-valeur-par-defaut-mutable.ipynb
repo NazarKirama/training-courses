{
 "metadata": {
  "kernelspec": {
   "display_name": "Python 2",
   "language": "python",
   "name": "python2"
  },
  "notebookname": "Un pi\u00e8ge courant",
  "signature": "sha256:e0fc348d45bea55a35a7f72472893ab08c7e24fa1ab1d32fbc42b41a81f70717",
  "version": "2.0"
 },
 "nbformat": 3,
 "nbformat_minor": 0,
 "worksheets": [
  {
   "cells": [
    {
     "cell_type": "markdown",
     "metadata": {},
     "source": [
      "<span style=\"float:left;\">Licence CC BY-NC-ND</span><span style=\"float:right;\">Thierry Parmentelat &amp; Arnaud Legout,<img src=\"media/inria-25.png\" style=\"display:inline\"></span><br/>"
     ]
    },
    {
     "cell_type": "heading",
     "level": 1,
     "metadata": {},
     "source": [
      "Un pi\u00e8ge courant"
     ]
    },
    {
     "cell_type": "heading",
     "level": 2,
     "metadata": {},
     "source": [
      "Compl\u00e9ment - niveau basique"
     ]
    },
    {
     "cell_type": "heading",
     "level": 3,
     "metadata": {},
     "source": [
      "N'utilisez pas d'objet mutable pour les valeurs par d\u00e9faut"
     ]
    },
    {
     "cell_type": "markdown",
     "metadata": {},
     "source": [
      "En python il existe un pi\u00e8ge dans lequel il est tr\u00e8s facile de tomber. Aussi si vous voulez aller \u00e0 l'essentiel: **n'utilisez pas d'objet mutable pour les valeurs par d\u00e9faut**.\n",
      "\n",
      "Si vous avez besoin d'\u00e9crire une fonction qui prend en argument par d\u00e9faut une liste ou un dictionnaire vide, voici comment faire"
     ]
    },
    {
     "cell_type": "code",
     "collapsed": false,
     "input": [
      "# ne faites SURTOUT PAS \u00e7a\n",
      "def ne_faites_pas_ca(options={}):\n",
      "    \"faire quelque chose\""
     ],
     "language": "python",
     "metadata": {},
     "outputs": []
    },
    {
     "cell_type": "code",
     "collapsed": false,
     "input": [
      "# mais plut\u00f4t comme ceci\n",
      "def mais_plutot_ceci(options=None):\n",
      "    if options is None: \n",
      "        options = {}\n",
      "    \"faire quelque chose\""
     ],
     "language": "python",
     "metadata": {},
     "outputs": []
    },
    {
     "cell_type": "heading",
     "level": 2,
     "metadata": {},
     "source": [
      "Compl\u00e9ment - niveau interm\u00e9diaire"
     ]
    },
    {
     "cell_type": "heading",
     "level": 3,
     "metadata": {},
     "source": [
      "Que se passe-t-il si on le fait ?"
     ]
    },
    {
     "cell_type": "markdown",
     "metadata": {},
     "source": [
      "Pour exhiber l'exemple le plus simple possible, prenons le cas d'une fonction qui calcule une valeur - ici un entier al\u00e9atoire entre 0 et 10 -, et l'ajoute \u00e0 une liste pass\u00e9e par l'appelant. \n",
      "\n",
      "Et pour rendre la vie de l'appelant plus facile, on se dit qu'il peut \u00eatre utile de faire en sorte que si l'appelant n'a pas de liste sous la main, on va cr\u00e9er pour lui une liste vide. Et pour \u00e7a on fait"
     ]
    },
    {
     "cell_type": "code",
     "collapsed": false,
     "input": [
      "import random\n",
      "# l'intention ici est: si l'appelant ne fournit pas \n",
      "# la liste en entr\u00e9e on cr\u00e9e pour lui une liste vide\n",
      "def ajouter_un_aleatoire(resultats=[]):\n",
      "    resultats.append(random.randint(0,10))\n",
      "    return resultats"
     ],
     "language": "python",
     "metadata": {},
     "outputs": []
    },
    {
     "cell_type": "markdown",
     "metadata": {},
     "source": [
      "Si on appelle cette fonction une premi\u00e8re fois, tout semble bien aller"
     ]
    },
    {
     "cell_type": "code",
     "collapsed": false,
     "input": [
      "ajouter_un_aleatoire()"
     ],
     "language": "python",
     "metadata": {},
     "outputs": []
    },
    {
     "cell_type": "markdown",
     "metadata": {},
     "source": [
      "Sauf que, si on appelle la fonction une deuxi\u00e8me fois, on a une surprise"
     ]
    },
    {
     "cell_type": "code",
     "collapsed": false,
     "input": [
      "ajouter_un_aleatoire()"
     ],
     "language": "python",
     "metadata": {},
     "outputs": []
    },
    {
     "cell_type": "heading",
     "level": 3,
     "metadata": {},
     "source": [
      "Pourquoi ?"
     ]
    },
    {
     "cell_type": "markdown",
     "metadata": {},
     "source": [
      "Le probl\u00e8me ici est qu'une valeur par d\u00e9faut - ici l'expression `[]` - est \u00e9valu\u00e9e **une fois** au moment de la **d\u00e9finition** de la fonction. \n",
      "\n",
      "Toutes les fois o\u00f9 la fonction est appel\u00e9e avec cet argument manquant, on va utiliser le m\u00eame objet, qui la premi\u00e8re fois est bien une liste vide, mais qui se fait modifier par le premier appel. \n",
      "\n",
      "Si bien que la deuxi\u00e8me fois on r\u00e9utilise la m\u00eame liste **qui n'est plus vide**. Pour aller plus loin, vous pouvez regarder la documentation python sur [ce probl\u00e8me](https://docs.python.org/2/faq/programming.html#why-are-default-values-shared-between-objects)."
     ]
    }
   ],
   "metadata": {}
  }
 ]
}