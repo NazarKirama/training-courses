{
 "metadata": {
  "kernelspec": {
   "display_name": "Python 2",
   "language": "python",
   "name": "python2"
  },
  "notebookname": "Fichiers",
  "signature": "sha256:cfb5bc54265b13184a8fafa363b0686ed552e28318d11a26d68904c2e0f8e82d",
  "version": "2.0"
 },
 "nbformat": 3,
 "nbformat_minor": 0,
 "worksheets": [
  {
   "cells": [
    {
     "cell_type": "markdown",
     "metadata": {},
     "source": [
      "<span style=\"float:left;\">Licence CC BY-NC-ND</span><span style=\"float:right;\">Thierry Parmentelat &amp; Arnaud Legout,<img src=\"media/inria-25.png\" style=\"display:inline\"></span><br/>"
     ]
    },
    {
     "cell_type": "heading",
     "level": 1,
     "metadata": {},
     "source": [
      "Fichiers"
     ]
    },
    {
     "cell_type": "heading",
     "level": 2,
     "metadata": {},
     "source": [
      "Exercice - niveau basique"
     ]
    },
    {
     "cell_type": "heading",
     "level": 3,
     "metadata": {},
     "source": [
      "Calcul du nombre de lignes, de mots et de caract\u00e8res"
     ]
    },
    {
     "cell_type": "code",
     "collapsed": false,
     "input": [
      "# chargement de l'exercice\n",
      "from corrections.w4s1_files import exo_comptage"
     ],
     "language": "python",
     "metadata": {},
     "outputs": []
    },
    {
     "cell_type": "markdown",
     "metadata": {},
     "source": [
      "On se propose d'\u00e9crire une * moulinette* qui annote un fichier avec des nombres de lignes, de mots et de caract\u00e8res.\n",
      "\n",
      "Le but de l'exercice est d'\u00e9crire une fonction `comptage`:\n",
      " * qui prenne en argument un nom de fichier d'entr\u00e9e (on suppose qu'il existe) et un nom de fichier de sortie (on suppose qu'on a le droit de l'\u00e9crire);\n",
      " * le fichier d'entr\u00e9e est laiss\u00e9 intact;\n",
      " *  pour chaque ligne en entr\u00e9e, le fichier de sortie comporte une ligne qui donne le num\u00e9ro de ligne, le nombre de mots (**s\u00e9par\u00e9s par des espaces**), le nombre de caract\u00e8res (y compris la fin de ligne), et la ligne d'origine;\n",
      " * et enfin le fichier de sortie comporte une derni\u00e8re ligne avec les nombres totaux de lignes, de mots et de caract\u00e8res, **suivi d'une derni\u00e8re fin de ligne**.\n",
      " \n",
      "Dans sa version simple, cet exercice ne s'occupe que de **fichiers sans caract\u00e8res accentu\u00e9s**."
     ]
    },
    {
     "cell_type": "code",
     "collapsed": false,
     "input": [
      "# un exemple de ce qui est attendu\n",
      "exo_comptage.exemple()"
     ],
     "language": "python",
     "metadata": {},
     "outputs": []
    },
    {
     "cell_type": "code",
     "collapsed": false,
     "input": [
      "# votre code\n",
      "def comptage(in_filename, out_filename):\n",
      "#    print 'in',in_filename\n",
      "#    print 'out',out_filename\n",
      "    \"<votre_code>\""
     ],
     "language": "python",
     "metadata": {},
     "outputs": []
    },
    {
     "cell_type": "markdown",
     "metadata": {},
     "source": [
      "**N'oubliez pas de v\u00e9rifier** que vous ajoutez bien la **derni\u00e8re fin de ligne**."
     ]
    },
    {
     "cell_type": "code",
     "collapsed": false,
     "input": [
      "# pour v\u00e9rifier votre code\n",
      "\n",
      "exo_comptage.correction(comptage)"
     ],
     "language": "python",
     "metadata": {},
     "outputs": []
    },
    {
     "cell_type": "markdown",
     "metadata": {},
     "source": [
      "La m\u00e9thode `debug` applique votre fonction au premier fichier d'entr\u00e9e, et affiche le r\u00e9sultat comme dans l'exemple ci-dessus. "
     ]
    },
    {
     "cell_type": "code",
     "collapsed": false,
     "input": [
      "# debugging\n",
      "exo_comptage.debug(comptage)"
     ],
     "language": "python",
     "metadata": {},
     "outputs": []
    },
    {
     "cell_type": "heading",
     "level": 3,
     "metadata": {},
     "source": [
      "Acc\u00e8s aux fichiers d'exemples"
     ]
    },
    {
     "cell_type": "markdown",
     "metadata": {},
     "source": [
      "Vous pouvez t\u00e9l\u00e9charger les fichiers d'exemples&nbsp;:\n",
      " * [Romeo and Juliet](data/romeo_and_juliet.txt)\n",
      " * [Lorem Ipsum](data/lorem_ipsum.txt)\n",
      "\n",
      "Ainsi que pour les courageux, des fichiers avec accents&nbsp;:\n",
      " * [\"Une charogne\" en Unicode](data/une_charogne_unicode.txt)\n",
      " * [\"Une charogne\" en Iso-latin-15](data/une_charogne_iso15.txt)\n",
      "\n",
      "\u00c0 nouveau ces deux fichiers ne sont pas \u00e0 prendre en compte dans la version basique de l'exercice. Vous pourrez m\u00eame vous rendre compte qu'avec python-2, il est assez compliqu\u00e9 d'\u00e9crire une fonction `comptage` qui fonctionne correctement avec des entr\u00e9es mixtes (c'est-\u00e0-dire indiff\u00e9remment avec un fichier unicode ou isolatin) en ce qui concerne le nombre de caract\u00e8res."
     ]
    }
   ],
   "metadata": {}
  }
 ]
}