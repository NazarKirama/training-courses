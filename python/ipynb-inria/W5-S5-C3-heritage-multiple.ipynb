{
 "metadata": {
  "kernelspec": {
   "display_name": "Python 2",
   "language": "python",
   "name": "python2"
  },
  "notebookname": "H\u00e9ritage multiple",
  "signature": "sha256:57b088bd5a72052477f1f81e14ef549fc5d744e2dce46d9885068c9fba3589d0",
  "version": "2.0"
 },
 "nbformat": 3,
 "nbformat_minor": 0,
 "worksheets": [
  {
   "cells": [
    {
     "cell_type": "markdown",
     "metadata": {},
     "source": [
      "<span style=\"float:left;\">Licence CC BY-NC-ND</span><span style=\"float:right;\">Thierry Parmentelat &amp; Arnaud Legout,<img src=\"media/inria-25.png\" style=\"display:inline\"></span><br/>"
     ]
    },
    {
     "cell_type": "heading",
     "level": 1,
     "metadata": {},
     "source": [
      "H\u00e9ritage multiple"
     ]
    },
    {
     "cell_type": "heading",
     "level": 2,
     "metadata": {},
     "source": [
      "Compl\u00e9ment - niveau avanc\u00e9"
     ]
    },
    {
     "cell_type": "heading",
     "level": 3,
     "metadata": {},
     "source": [
      "Avertissement - toutes les classes concern\u00e9es sont *new-style*"
     ]
    },
    {
     "cell_type": "markdown",
     "metadata": {},
     "source": [
      "Toutes les classes consid\u00e9r\u00e9es dans ce compl\u00e9ment sont suppos\u00e9es *new-style*. Pour les classes classiques, le m\u00e9canisme d'h\u00e9ritage multiple est plus rudimentaire, vous en trouverez le d\u00e9tail dans la r\u00e9f\u00e9rence au blog de Guido van Rossum (voir derni\u00e8re section). \n",
      "\n",
      "Il est, \u00e0 nouveau, tr\u00e8s fortement **conseill\u00e9 d'utiliser des classes *new-style*** si vous \u00e9crivez du nouveau code, car c'est la seule sorte de classe qui reste disponible en python3."
     ]
    },
    {
     "cell_type": "heading",
     "level": 3,
     "metadata": {},
     "source": [
      "Rappels"
     ]
    },
    {
     "cell_type": "markdown",
     "metadata": {},
     "source": [
      "L'h\u00e9ritage en python consiste principalement en l'algorithme de recherche d'un attribut d'une instance; celui-ci regarde :\n",
      "1. d'abord dans l'instance,\n",
      "1. ensuite dans la classe,\n",
      "1. ensuite dans les super-classes."
     ]
    },
    {
     "cell_type": "heading",
     "level": 3,
     "metadata": {},
     "source": [
      "Le probl\u00e8me"
     ]
    },
    {
     "cell_type": "markdown",
     "metadata": {},
     "source": [
      "Les deux premiers points ne posent pas de probl\u00e8me de d\u00e9finition, puisque l'objet lui-m\u00eame et sa classe sont **d\u00e9finis de mani\u00e8re unique**. \n",
      "\n",
      "Par contre, lorsqu'on utilise l'h\u00e9ritage multiple, on peut imaginer trouver l'attribut recherch\u00e9 dans **plusieurs superclasses**. Il est donc important de pr\u00e9ciser, dans le cas o\u00f9 plusieurs superclasses poss\u00e8dent l'attribut recherch\u00e9, quel est celui qui doit \u00eatre retenu. "
     ]
    },
    {
     "cell_type": "heading",
     "level": 3,
     "metadata": {},
     "source": [
      "Ordre sur les superclasses"
     ]
    },
    {
     "cell_type": "markdown",
     "metadata": {},
     "source": [
      "Le probl\u00e8me revient donc \u00e0 d\u00e9finir un **ordre** sur l'ensemble des **super-classes**. On parle bien, naturellement, de **toutes** les super-classes, pas seulement celles dont on h\u00e9rite directement - en termes savants on dirait qu'on s'int\u00e9resse \u00e0 la fermeture transitive de la relation d'h\u00e9ritage ou \u00e0 l'arbre de recouvrement du graphe d'h\u00e9ritage.\n",
      "\n",
      "Apr\u00e8s quelques errements (d\u00e9crits dans la premi\u00e8re r\u00e9f\u00e9rence de la derni\u00e8re section, \"Pour en savoir plus\"), l'algorithme qui a \u00e9t\u00e9 choisi pour d\u00e9terminer l'ordre des superclasses, qui est en service depuis la version 2.3, est connu sous le nom de **lin\u00e9arisation C3**. Cet algorithme n'est pas propre \u00e0 python, comme vous pourrez le lire dans les r\u00e9f\u00e9rences cit\u00e9es dans la derni\u00e8re section.\n",
      "\n",
      "Nous ne d\u00e9crirons pas ici l'algorithme lui-m\u00eame dans le d\u00e9tail&nbsp;; par contre nous allons&nbsp;:\n",
      " * dans un premier temps r\u00e9sumer **les raisons** qui ont guid\u00e9 ce choix, en d\u00e9crivant les bonnes propri\u00e9t\u00e9s que l'on attend, ainsi que les **limitations** qui en d\u00e9coulent;\n",
      " * puis voir l'ordre obtenu sur quelques exemples concrets de hi\u00e9rarchies de classes.\n",
      " \n",
      "Vous trouverez dans les r\u00e9f\u00e9rences (voir ci-dessous la derni\u00e8re section, \"Pour en savoir plus\") des liens vers des documents plus techniques si vous souhaitez creuser le sujet."
     ]
    },
    {
     "cell_type": "heading",
     "level": 3,
     "metadata": {},
     "source": [
      "Les bonnes propri\u00e9t\u00e9s attendues"
     ]
    },
    {
     "cell_type": "markdown",
     "metadata": {},
     "source": [
      "Il y a un certain nombre de bonnes propri\u00e9t\u00e9s que l'on attend de cet algorithme."
     ]
    },
    {
     "cell_type": "heading",
     "level": 5,
     "metadata": {},
     "source": [
      "Priorit\u00e9 au sp\u00e9cifique"
     ]
    },
    {
     "cell_type": "markdown",
     "metadata": {},
     "source": [
      "Lorsqu'une classe A h\u00e9rite d'une classe B, on s'attend \u00e0 ce que les m\u00e9thodes d\u00e9finies sur A, qui sont en principe plus sp\u00e9cifiques, soient utilis\u00e9es de pr\u00e9f\u00e9rence \u00e0 celles d\u00e9finies sur B."
     ]
    },
    {
     "cell_type": "heading",
     "level": 5,
     "metadata": {},
     "source": [
      "Priorit\u00e9 \u00e0 gauche"
     ]
    },
    {
     "cell_type": "markdown",
     "metadata": {},
     "source": [
      "Lorsqu'on utilise l'h\u00e9ritage multiple, on mentionne les classes m\u00e8res dans un certain ordre, qui n'est pas anodin. Les classes mentionn\u00e9es en premier sont bien entendu celles desquelles on veut h\u00e9riter en priorit\u00e9."
     ]
    },
    {
     "cell_type": "heading",
     "level": 5,
     "metadata": {},
     "source": [
      "De mani\u00e8re un peu plus formelle"
     ]
    },
    {
     "cell_type": "markdown",
     "metadata": {},
     "source": [
      "Pour reformuler les deux points ci-dessus d'une mani\u00e8re un peu plus formelle&nbsp;:\n",
      " * on se donne un objet *o* de la classe *O*\n",
      " * on consid\u00e8re l'ensemble $\\cal{S}$ des superclasses de *O* (qui contient *O*), \n",
      " * et on cherche \u00e0 construire la MRO (Method Resolution Order), c'est-\u00e0-dire la liste $\\cal{MRO}$ ordonn\u00e9e des \u00e9l\u00e9ments de $\\cal{S}$ dans lesquelles chercher les attributs de *o*."
     ]
    },
    {
     "cell_type": "markdown",
     "metadata": {},
     "source": [
      "Les deux r\u00e8gles ci-dessus s'\u00e9crivent alors comme ceci&nbsp;:\n",
      "\n",
      " * $\\forall A,B \\in \\cal{S}$,  A h\u00e9rite de B $\\Rightarrow$ A est avant B dans $\\cal{MRO}$\n",
      " * $\\forall B,C,D \\in \\cal{S}$, B h\u00e9rite de C puis de D $\\Rightarrow$ B est avant C qui est avant D dans $\\cal{MRO}$\n",
      " \n",
      "La formule \"B h\u00e9rite de C puis de D\" est \u00e0 prendre ici au sens large; B peut h\u00e9riter de plus de deux classes, tout ce qui est demand\u00e9 est que C  apparaisse avant D dans la liste des classes m\u00e8res.\n"
     ]
    },
    {
     "cell_type": "heading",
     "level": 5,
     "metadata": {},
     "source": [
      "Limitations : toutes les hi\u00e9rarchies ne peuvent pas \u00eatre trait\u00e9es"
     ]
    },
    {
     "cell_type": "markdown",
     "metadata": {},
     "source": [
      "L'algorithme C3 permet de calculer un ordre sur $\\cal{S}$ qui respecte toutes ces contraintes, lorsqu'il en existe un. En effet, dans certains cas on ne peut pas trouver un tel ordre. Nous en verrons un exemple vers la fin de ce document&nbsp;; comme vous le verrez on peut exhiber de tels exemples qui restent relativement simples. Cependant, dans la pratique, il est relativement rare de tomber sur de tels cas pathologiques&nbsp;; et lorsque cela se produit c'est en g\u00e9n\u00e9ral le signe d'erreurs de conception plus profondes."
     ]
    },
    {
     "cell_type": "heading",
     "level": 3,
     "metadata": {},
     "source": [
      "Un exemple tr\u00e8s simple"
     ]
    },
    {
     "cell_type": "markdown",
     "metadata": {},
     "source": [
      "On se donne la hi\u00e9rarchie suivante."
     ]
    },
    {
     "cell_type": "code",
     "collapsed": false,
     "input": [
      "class LeftTop(object):\n",
      "    def attribut(self): \n",
      "        return \"attribut(LeftTop)\"\n",
      "    \n",
      "class LeftMiddle(LeftTop): \n",
      "    pass\n",
      "\n",
      "class Left(LeftMiddle): \n",
      "    pass\n",
      "\n",
      "class Middle(object): \n",
      "    pass\n",
      "\n",
      "class Right(object):\n",
      "    def attribut(self): \n",
      "        return \"attribut(Right)\"\n",
      "\n",
      "class Class(Left, Middle, Right): \n",
      "    pass\n",
      "\n",
      "instance = Class()"
     ],
     "language": "python",
     "metadata": {},
     "outputs": []
    },
    {
     "cell_type": "markdown",
     "metadata": {},
     "source": [
      "qui donne en version dessin\u00e9e, avec les deux points repr\u00e9sentant les deux d\u00e9finitions de la m\u00e9thode `attribut`:\n",
      "\n",
      "<img src=\"media/heritage-multiple01.png\" height=\"40\">"
     ]
    },
    {
     "cell_type": "markdown",
     "metadata": {},
     "source": [
      "Les deux r\u00e8gles, telles que nous les avons \u00e9nonc\u00e9es en premier lieu (priorit\u00e9 \u00e0 gauche, priorit\u00e9 au sp\u00e9cifique) sont un peu contradictoires ici. En fait, c'est la m\u00e9thode de `LeftTop` qui est h\u00e9rit\u00e9e dans `Class`, comme on le voit ici&nbsp;:"
     ]
    },
    {
     "cell_type": "code",
     "collapsed": false,
     "input": [
      "print instance.attribut() == \"attribut(LeftTop)\""
     ],
     "language": "python",
     "metadata": {},
     "outputs": []
    },
    {
     "cell_type": "markdown",
     "metadata": {},
     "source": [
      "**Exercice** Remarquez qu'ici `Right` a elle-m\u00eame un h\u00e9ritage tr\u00e8s simple. \u00c0 titre d'exercice, modifiez le code ci-dessus pour remplacer dans l'h\u00e9ritage de `Right` la classe `object` par `LeftMiddle`; de quelle classe d'apr\u00e8s vous est-ce que `Class` h\u00e9rite `attribut` dans cette configuration ?"
     ]
    },
    {
     "cell_type": "heading",
     "level": 5,
     "metadata": {},
     "source": [
      "Si cela ne vous convient pas"
     ]
    },
    {
     "cell_type": "markdown",
     "metadata": {},
     "source": [
      "C'est une \u00e9vidence, mais cela va peut-\u00eatre mieux en le rappelant&nbsp;: si la m\u00e9thode que vous obtenez \"gratuitement\" avec l'h\u00e9ritage n'est pas celle qui vous convient, vous avez naturellement toujours la possibilit\u00e9 de la red\u00e9finir, et ainsi d'en **choisir** une autre. Ainsi dans notre exemple si on pr\u00e9f\u00e8re la m\u00e9thode impl\u00e9ment\u00e9e dans `Right`, on d\u00e9finira plut\u00f4t la classe `Class` comme ceci&nbsp;:"
     ]
    },
    {
     "cell_type": "code",
     "collapsed": false,
     "input": [
      "class Class(Left, Middle, Right):\n",
      "    def attribut(*args, **kwds):\n",
      "        return Right.attribut(*args, **kwds)\n",
      "    \n",
      "instance2 = Class()\n",
      "instance2.attribut()"
     ],
     "language": "python",
     "metadata": {},
     "outputs": []
    },
    {
     "cell_type": "markdown",
     "metadata": {},
     "source": [
      "Ou encore bien entendu, si dans votre contexte vous devez appelez **les deux** m\u00e9thodes dont vous pourriez h\u00e9riter et les combiner, vous pouvez le faire aussi, par exemple comme ceci&nbsp;:"
     ]
    },
    {
     "cell_type": "code",
     "collapsed": false,
     "input": [
      "class Class(Left, Middle, Right):\n",
      "    def attribut(*args, **kwds):\n",
      "        return LeftTop.attribut(*args, **kwds) + \" ** \" + Right.attribut(*args, **kwds) \n",
      "    \n",
      "instance3 = Class()\n",
      "instance3.attribut()"
     ],
     "language": "python",
     "metadata": {},
     "outputs": []
    },
    {
     "cell_type": "heading",
     "level": 3,
     "metadata": {},
     "source": [
      "Un exemple un peu plus compliqu\u00e9"
     ]
    },
    {
     "cell_type": "markdown",
     "metadata": {},
     "source": [
      "Voici un exemple tir\u00e9 de la deuxi\u00e8me r\u00e9f\u00e9rence (voir ci-dessous la derni\u00e8re section, \"Pour en savoir plus\")."
     ]
    },
    {
     "cell_type": "code",
     "collapsed": false,
     "input": [
      "O = object\n",
      "class F(O): pass\n",
      "class E(O): pass\n",
      "class D(O): pass\n",
      "class C(D, F): pass\n",
      "class B(E, D): pass\n",
      "class A(B, C): pass"
     ],
     "language": "python",
     "metadata": {},
     "outputs": []
    },
    {
     "cell_type": "markdown",
     "metadata": {},
     "source": [
      "Cette hi\u00e9rarchie nous donne, en partant de A, l'ordre suivant"
     ]
    },
    {
     "cell_type": "markdown",
     "metadata": {},
     "source": [
      "                               6\n",
      "                              ---\n",
      "    Level 3                  | O |\n",
      "                           /  ---  \\\n",
      "                          /    |    \\\n",
      "                         /     |     \\\n",
      "                        /      |      \\\n",
      "                      ---     ---    ---\n",
      "    Level 2        2 | E | 4 | D |  | F | 5\n",
      "                      ---     ---    ---\n",
      "                       \\      / \\     /\n",
      "                        \\    /   \\   /\n",
      "                         \\  /     \\ /\n",
      "                          ---     ---\n",
      "    Level 1            1 | B |   | C | 3\n",
      "                          ---     ---\n",
      "                           \\       /\n",
      "                            \\     /\n",
      "                              ---\n",
      "    Level 0                0 | A |\n",
      "                              ---\n",
      "    "
     ]
    },
    {
     "cell_type": "markdown",
     "metadata": {},
     "source": [
      "Que l'on peut calculer, sous l'interpr\u00e9teur python, avec la m\u00e9thode `mro` sur la classe de d\u00e9part&nbsp;:"
     ]
    },
    {
     "cell_type": "code",
     "collapsed": false,
     "input": [
      "A.mro()"
     ],
     "language": "python",
     "metadata": {},
     "outputs": []
    },
    {
     "cell_type": "heading",
     "level": 3,
     "metadata": {},
     "source": [
      "Un exemple qui ne peut pas \u00eatre trait\u00e9"
     ]
    },
    {
     "cell_type": "markdown",
     "metadata": {},
     "source": [
      "Voici enfin un exemple de hi\u00e9rarchie pour laquelle on ne **peut pas trouver d'ordre** qui respecte les bonnes propri\u00e9t\u00e9s que l'on a vues tout \u00e0 l'heure, et qui pour cette raison sera **rejet\u00e9e par l'interpr\u00e9teur python**. D'abord en version dessin\u00e9e\n",
      "\n",
      "<img src=\"media/heritage-multiple02.png\">"
     ]
    },
    {
     "cell_type": "code",
     "collapsed": false,
     "input": [
      "# en version code\n",
      "class X(object): pass\n",
      "class Y(object): pass\n",
      "class XY(X, Y): pass\n",
      "class YX(Y, X): pass\n",
      "\n",
      "# on essaie de cr\u00e9er une sous-classe de XY et YX\n",
      "try:\n",
      "    class Class(XY,YX): pass \n",
      "# mais ce n'est pas possible\n",
      "except Exception as e:\n",
      "    print \"On ne peut pas cr\u00e9er Class\"\n",
      "    print e\n"
     ],
     "language": "python",
     "metadata": {},
     "outputs": []
    },
    {
     "cell_type": "heading",
     "level": 3,
     "metadata": {},
     "source": [
      "Pour en savoir plus"
     ]
    },
    {
     "cell_type": "markdown",
     "metadata": {},
     "source": [
      " 1. Un [blog de Guido Van Rossum](http://python-history.blogspot.fr/2010/06/method-resolution-order.html\n",
      ") qui retrace l'historique des diff\u00e9rents essais qui ont \u00e9t\u00e9 faits avant de converger sur le mod\u00e8le actuel.\n",
      " 1. Un [article technique](https://www.python.org/download/releases/2.3/mro/) qui d\u00e9crit le fonctionnement de l'algorithme de calcul de la MRO, et donne des exemples.\n",
      " 1. L'[article de wikipedia](http://en.wikipedia.org/wiki/C3_linearization) sur l'algorithme C3."
     ]
    }
   ],
   "metadata": {}
  }
 ]
}