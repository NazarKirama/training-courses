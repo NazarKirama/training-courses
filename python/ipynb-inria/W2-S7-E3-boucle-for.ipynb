{
 "metadata": {
  "kernelspec": {
   "display_name": "Python 2",
   "language": "python",
   "name": "python2"
  },
  "notebookname": "Les boucles `for`",
  "signature": "sha256:f7980be6947d22e181313b9957d1314dd374bd6678c025e15776901873b78c73",
  "version": "2.0"
 },
 "nbformat": 3,
 "nbformat_minor": 0,
 "worksheets": [
  {
   "cells": [
    {
     "cell_type": "markdown",
     "metadata": {},
     "source": [
      "<span style=\"float:left;\">Licence CC BY-NC-ND</span><span style=\"float:right;\">Thierry Parmentelat &amp; Arnaud Legout,<img src=\"media/inria-25.png\" style=\"display:inline\"></span><br/>"
     ]
    },
    {
     "cell_type": "heading",
     "level": 1,
     "metadata": {},
     "source": [
      "Les boucles `for`"
     ]
    },
    {
     "cell_type": "heading",
     "level": 2,
     "metadata": {},
     "source": [
      "Exercice - niveau basique"
     ]
    },
    {
     "cell_type": "heading",
     "level": 3,
     "metadata": {},
     "source": [
      "Liste des valeurs d'une fonction"
     ]
    },
    {
     "cell_type": "code",
     "collapsed": false,
     "input": [
      "# Pour charger l'exercice\n",
      "from corrections.w2s7_for import exo_liste_P"
     ],
     "language": "python",
     "metadata": {},
     "outputs": []
    },
    {
     "cell_type": "markdown",
     "metadata": {},
     "source": [
      "On se donne une fonction polynomiale\n",
      "\n",
      "$P(x) = 2x^2 -3x -2$"
     ]
    },
    {
     "cell_type": "markdown",
     "metadata": {},
     "source": [
      "On vous demande d'\u00e9crire une fonction `liste_P` qui prend en argument une liste de nombres r\u00e9els $x$ et qui retourne la liste des valeurs $P(x)$."
     ]
    },
    {
     "cell_type": "code",
     "collapsed": false,
     "input": [
      "# voici un exemple de ce qui est attendu\n",
      "exo_liste_P.exemple()"
     ],
     "language": "python",
     "metadata": {},
     "outputs": []
    },
    {
     "cell_type": "markdown",
     "metadata": {},
     "source": [
      "\u00c9crivez votre code dans la cellule suivante (*On vous sugg\u00e8re d'\u00e9crire une fonction P qui impl\u00e9mente le poyn\u00f4me mais \u00e7a n'est pas strictement indispensable, seul le r\u00e9sultat de `liste_P` compte*):"
     ]
    },
    {
     "cell_type": "code",
     "collapsed": false,
     "input": [
      "def P(x):\n",
      "    \"<votre code>\"\n",
      "\n",
      "def liste_P(liste_x): \n",
      "    \"<votre_code>\""
     ],
     "language": "python",
     "metadata": {},
     "outputs": []
    },
    {
     "cell_type": "markdown",
     "metadata": {},
     "source": [
      "Et vous pouvez le v\u00e9rifier en \u00e9valuant cette cellule:"
     ]
    },
    {
     "cell_type": "code",
     "collapsed": false,
     "input": [
      "# pour v\u00e9rifier votre code\n",
      "exo_liste_P.correction(liste_P)"
     ],
     "language": "python",
     "metadata": {},
     "outputs": []
    },
    {
     "cell_type": "markdown",
     "metadata": {},
     "source": [
      "******"
     ]
    },
    {
     "cell_type": "heading",
     "level": 2,
     "metadata": {},
     "source": [
      "Exercice - niveau basique"
     ]
    },
    {
     "cell_type": "heading",
     "level": 3,
     "metadata": {},
     "source": [
      "Tri de plusieurs listes"
     ]
    },
    {
     "cell_type": "code",
     "collapsed": false,
     "input": [
      "# pour charger l'exercice\n",
      "from corrections.w2s7_for import exo_multi_tri"
     ],
     "language": "python",
     "metadata": {},
     "outputs": []
    },
    {
     "cell_type": "markdown",
     "metadata": {},
     "source": [
      "\u00c9crivez une fonction qui\n",
      " * accepte en argument une liste de listes,\n",
      " * et qui retourne **la m\u00eame liste**, mais avec toutes les sous-listes **tri\u00e9es en place**."
     ]
    },
    {
     "cell_type": "code",
     "collapsed": false,
     "input": [
      "# voici un exemple de ce qui est attendu\n",
      "exo_multi_tri.exemple()"
     ],
     "language": "python",
     "metadata": {},
     "outputs": []
    },
    {
     "cell_type": "markdown",
     "metadata": {},
     "source": [
      "\u00c9crivez votre code ici"
     ]
    },
    {
     "cell_type": "code",
     "collapsed": false,
     "input": [
      "def multi_tri(listes): \n",
      "    \"<votre_code>\""
     ],
     "language": "python",
     "metadata": {},
     "outputs": []
    },
    {
     "cell_type": "code",
     "collapsed": false,
     "input": [
      "# pour v\u00e9rifier votre code\n",
      "exo_multi_tri.correction(multi_tri)"
     ],
     "language": "python",
     "metadata": {},
     "outputs": []
    },
    {
     "cell_type": "heading",
     "level": 2,
     "metadata": {},
     "source": [
      "Exercice - niveau interm\u00e9diaire"
     ]
    },
    {
     "cell_type": "heading",
     "level": 3,
     "metadata": {},
     "source": [
      "Tri de plusieurs listes, dans des directions diff\u00e9rentes"
     ]
    },
    {
     "cell_type": "code",
     "collapsed": false,
     "input": [
      "# pour charger l'exercice\n",
      "from corrections.w2s7_for import exo_multi_tri_reverse"
     ],
     "language": "python",
     "metadata": {},
     "outputs": []
    },
    {
     "cell_type": "markdown",
     "metadata": {},
     "source": [
      "Modifiez votre code pour qu'il accepte cette fois **deux** arguments listes que l'on suppose de tailles \u00e9gales. \n",
      "\n",
      "Comme tout \u00e0 l'heure le premier argument est une liste de listes \u00e0 trier.\n",
      "\n",
      "\u00c0 pr\u00e9sent le second argument est une liste (ou un tuple) de bool\u00e9ens, de m\u00eame cardinal que le premier argument, et qui indiquent l'ordre dans lequel on veut trier la liste d'entr\u00e8e de m\u00eame rang. `True` signifie un tri descendant, `False` un tri ascendant.\n",
      "\n",
      "Comme dans l'exercice `multi_tri`, il s'agit de modifier en place les donn\u00e9es en entr\u00e9e, et de retourner la liste de d\u00e9part."
     ]
    },
    {
     "cell_type": "code",
     "collapsed": false,
     "input": [
      "# Pour \u00eatre un peu plus clair, voici \u00e0 quoi on s'attend\n",
      "exo_multi_tri_reverse.exemple()"
     ],
     "language": "python",
     "metadata": {},
     "outputs": []
    },
    {
     "cell_type": "markdown",
     "metadata": {},
     "source": [
      "\u00c0 vous de jouer"
     ]
    },
    {
     "cell_type": "code",
     "collapsed": false,
     "input": [
      "def multi_tri_reverse(listes, reverses):\n",
      "    \"<votre_code>\" "
     ],
     "language": "python",
     "metadata": {},
     "outputs": []
    },
    {
     "cell_type": "code",
     "collapsed": false,
     "input": [
      "# et pour v\u00e9rifier votre code\n",
      "exo_multi_tri_reverse.correction(multi_tri_reverse)"
     ],
     "language": "python",
     "metadata": {},
     "outputs": []
    },
    {
     "cell_type": "markdown",
     "metadata": {},
     "source": [
      "******"
     ]
    },
    {
     "cell_type": "heading",
     "level": 2,
     "metadata": {},
     "source": [
      "Exercice - niveau interm\u00e9diaire"
     ]
    },
    {
     "cell_type": "heading",
     "level": 3,
     "metadata": {},
     "source": [
      "Produit scalaire"
     ]
    },
    {
     "cell_type": "code",
     "collapsed": false,
     "input": [
      "# Pour charger l'exercice\n",
      "from corrections.w2s7_for import exo_produit_scalaire"
     ],
     "language": "python",
     "metadata": {},
     "outputs": []
    },
    {
     "cell_type": "markdown",
     "metadata": {},
     "source": [
      "On veut \u00e9crire une fonction qui retourne le produit scalaire de deux vecteurs. Pour ceci on va mat\u00e9rialiser les deux vecteurs en entr\u00e9e par deux listes que l'on suppose de m\u00eame taille. Cela est tout \u00e0 fait possible avec le bagage que nous avons appris jusqu'ici - bien que nous verrons plus tard d'autres techniques pour faire ceci de mani\u00e8re plus \u00e9l\u00e9gante.\n",
      "\n",
      "On rappelle que le produit de X et Y vaut\n",
      "\n",
      "$\\sum_{i} X_i * Y_i$\n",
      "\n",
      "On posera que le produit scalaire de deux listes vides vaut `0`."
     ]
    },
    {
     "cell_type": "code",
     "collapsed": false,
     "input": [
      "# un petit exemple\n",
      "exo_produit_scalaire.exemple()"
     ],
     "language": "python",
     "metadata": {},
     "outputs": []
    },
    {
     "cell_type": "markdown",
     "metadata": {},
     "source": [
      "Vous devez donc \u00e9crire"
     ]
    },
    {
     "cell_type": "code",
     "collapsed": false,
     "input": [
      "def produit_scalaire(X,Y): \n",
      "    \"\"\"retourne le produit scalaire de deux listes de m\u00eame taille\"\"\"\n",
      "    \"<votre_code>\""
     ],
     "language": "python",
     "metadata": {},
     "outputs": []
    },
    {
     "cell_type": "code",
     "collapsed": false,
     "input": [
      "# pour v\u00e9rifier votre code\n",
      "exo_produit_scalaire.correction(produit_scalaire)"
     ],
     "language": "python",
     "metadata": {},
     "outputs": []
    },
    {
     "cell_type": "markdown",
     "metadata": {},
     "source": [
      "*****"
     ]
    },
    {
     "cell_type": "heading",
     "level": 2,
     "metadata": {},
     "source": [
      "R\u00e9cr\u00e9ation"
     ]
    },
    {
     "cell_type": "markdown",
     "metadata": {},
     "source": [
      "Si vous avez correctement impl\u00e9ment\u00e9 la fonction `liste_P` telle que demand\u00e9 dans le premier exercice, vous pouvez visualiser le polyn\u00f4me `P` en utilisant `matplotlib` avec le code suivant&nbsp;:"
     ]
    },
    {
     "cell_type": "code",
     "collapsed": false,
     "input": [
      "from pylab import arange, plot\n",
      "\n",
      "# on prend les X de -10 \u00e0 10 par pas de 1/2 \n",
      "x = arange (-10., 10., 0.5)\n",
      "# on calcule la valeur de P sur chaque point\n",
      "y = liste_P(x)\n",
      "# et on peut plotter avec pylab\n",
      "plot (x, y)"
     ],
     "language": "python",
     "metadata": {},
     "outputs": []
    }
   ],
   "metadata": {}
  }
 ]
}