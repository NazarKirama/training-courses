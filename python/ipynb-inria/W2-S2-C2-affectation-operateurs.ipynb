{
 "metadata": {
  "kernelspec": {
   "display_name": "Python 2",
   "language": "python",
   "name": "python2"
  },
  "notebookname": "+= et autres",
  "signature": "sha256:d264d70b41cc9727e8ff1ae3ca0ea151ad7276a2386a4a749b07b1ba116e7638",
  "version": "2.0"
 },
 "nbformat": 3,
 "nbformat_minor": 0,
 "worksheets": [
  {
   "cells": [
    {
     "cell_type": "markdown",
     "metadata": {},
     "source": [
      "<span style=\"float:left;\">Licence CC BY-NC-ND</span><span style=\"float:right;\">Thierry Parmentelat &amp; Arnaud Legout,<img src=\"media/inria-25.png\" style=\"display:inline\"></span><br/>"
     ]
    },
    {
     "cell_type": "heading",
     "level": 1,
     "metadata": {},
     "source": [
      "Affectations & Op\u00e9rations (\u00e0 la +=)"
     ]
    },
    {
     "cell_type": "heading",
     "level": 2,
     "metadata": {},
     "source": [
      "Compl\u00e9ment - niveau interm\u00e9diaire"
     ]
    },
    {
     "cell_type": "markdown",
     "metadata": {},
     "source": [
      "Il existe en python toute une famille d'op\u00e9rateurs d\u00e9riv\u00e9s de l'affectation, qui permettent de faire en une fois une op\u00e9ration et une affectation. En voici quelques exemples."
     ]
    },
    {
     "cell_type": "heading",
     "level": 3,
     "metadata": {},
     "source": [
      "Incr\u00e9mentation"
     ]
    },
    {
     "cell_type": "markdown",
     "metadata": {},
     "source": [
      "On peut facilement augmenter la valeur d'une variable num\u00e9rique comme ceci"
     ]
    },
    {
     "cell_type": "code",
     "collapsed": false,
     "input": [
      "entier = 10\n",
      "\n",
      "entier += 2\n",
      "print 'entier', entier"
     ],
     "language": "python",
     "metadata": {},
     "outputs": []
    },
    {
     "cell_type": "markdown",
     "metadata": {},
     "source": [
      "Comme on le devine peut-\u00eatre, ceci est \u00e9quivalent \u00e0 "
     ]
    },
    {
     "cell_type": "code",
     "collapsed": false,
     "input": [
      "entier = entier + 2\n",
      "print 'entier', entier"
     ],
     "language": "python",
     "metadata": {},
     "outputs": []
    },
    {
     "cell_type": "heading",
     "level": 3,
     "metadata": {},
     "source": [
      "Autres op\u00e9rateurs courants"
     ]
    },
    {
     "cell_type": "markdown",
     "metadata": {},
     "source": [
      "Cette forme, qui combine op\u00e9ration sur une variable, et r\u00e9affectation du r\u00e9sultat \u00e0 la m\u00eame variable, est disponible avec tous les op\u00e9rateurs courants"
     ]
    },
    {
     "cell_type": "code",
     "collapsed": false,
     "input": [
      "entier -= 4\n",
      "print 'apr\u00e8s d\u00e9cr\u00e9ment', entier\n",
      "entier *= 2\n",
      "print 'apr\u00e8s doublement', entier\n",
      "entier /= 2\n",
      "print 'mis \u00e0 moiti\u00e9', entier\n"
     ],
     "language": "python",
     "metadata": {},
     "outputs": []
    },
    {
     "cell_type": "heading",
     "level": 3,
     "metadata": {},
     "source": [
      "Types non num\u00e9riques"
     ]
    },
    {
     "cell_type": "markdown",
     "metadata": {},
     "source": [
      "En r\u00e9alit\u00e9 cette construction est disponible sur tous les types qui supportent l'op\u00e9rateur en question. Par exemple les listes (que nous verrons bient\u00f4t) peuvent \u00eatre additionn\u00e9es entre elles:"
     ]
    },
    {
     "cell_type": "code",
     "collapsed": false,
     "input": [
      "liste = range(3)\n",
      "print 'liste', liste\n",
      "\n",
      "liste += ['a', 'b']\n",
      "print 'apr\u00e9s ajout', liste"
     ],
     "language": "python",
     "metadata": {},
     "outputs": []
    },
    {
     "cell_type": "markdown",
     "metadata": {},
     "source": [
      "Beaucoup de types supportent l'op\u00e9rateur +, qui est sans doute de loin celui qui est le plus utilis\u00e9 avec cette construction."
     ]
    },
    {
     "cell_type": "heading",
     "level": 3,
     "metadata": {},
     "source": [
      "Op\u00e9rateurs plus abscons"
     ]
    },
    {
     "cell_type": "markdown",
     "metadata": {},
     "source": [
      "Signalons enfin qu'on trouve cette construction aussi avec d'autres op\u00e9rateurs moins fr\u00e9quents, par exemple"
     ]
    },
    {
     "cell_type": "code",
     "collapsed": false,
     "input": [
      "entier = 2\n",
      "print 'entier:', entier\n",
      "entier **= 10\n",
      "print '\u00e0 la puissance dix:', entier\n",
      "entier %= 5\n",
      "print 'modulo 5:', entier\n",
      "entier <<= 2\n",
      "print 'double d\u00e9calage gauche:', entier"
     ],
     "language": "python",
     "metadata": {},
     "outputs": []
    }
   ],
   "metadata": {}
  }
 ]
}