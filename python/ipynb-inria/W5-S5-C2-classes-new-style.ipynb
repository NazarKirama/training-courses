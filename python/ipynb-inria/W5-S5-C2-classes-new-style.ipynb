{
 "metadata": {
  "kernelspec": {
   "display_name": "Python 2",
   "language": "python",
   "name": "python2"
  },
  "notebookname": "Classes new style",
  "signature": "sha256:60bce540a5cbde3b849b8bdbb1c1b24e6b794550afe8568391431c43fe48f8b3",
  "version": "2.0"
 },
 "nbformat": 3,
 "nbformat_minor": 0,
 "worksheets": [
  {
   "cells": [
    {
     "cell_type": "markdown",
     "metadata": {},
     "source": [
      "<span style=\"float:left;\">Licence CC BY-NC-ND</span><span style=\"float:right;\">Thierry Parmentelat &amp; Arnaud Legout,<img src=\"media/inria-25.png\" style=\"display:inline\"></span><br/>"
     ]
    },
    {
     "cell_type": "heading",
     "level": 1,
     "metadata": {},
     "source": [
      "Classes \"new style\""
     ]
    },
    {
     "cell_type": "heading",
     "level": 2,
     "metadata": {},
     "source": [
      "Compl\u00e9ment - niveau interm\u00e9diaire"
     ]
    },
    {
     "cell_type": "heading",
     "level": 3,
     "metadata": {},
     "source": [
      "La classe `object`"
     ]
    },
    {
     "cell_type": "markdown",
     "metadata": {},
     "source": [
      "Vous pouvez trouver du code dans lequel les classes h\u00e9ritent de la classe `object`, comme dans cet exemple tir\u00e9 du module standard `zipfile` :"
     ]
    },
    {
     "cell_type": "code",
     "collapsed": false,
     "input": [
      "from modtools import show_module\n",
      "import zipfile\n",
      "show_module(zipfile, beg='class ZipFile(', end=\"file:\")"
     ],
     "language": "python",
     "metadata": {},
     "outputs": []
    },
    {
     "cell_type": "markdown",
     "metadata": {},
     "source": [
      "Ceci nous donne l'occasion de citer le module `zipfile`, qui permet de lire ou \u00e9crire, de mani\u00e8re transparente, des fichiers compress\u00e9s au format `zip`. "
     ]
    },
    {
     "cell_type": "heading",
     "level": 3,
     "metadata": {},
     "source": [
      "Les classes *new-style*"
     ]
    },
    {
     "cell_type": "markdown",
     "metadata": {},
     "source": [
      "Mais le sujet de ce compl\u00e9ment est d'expliquer pourquoi la classe `ZipFile` h\u00e9rite de la classe `object`. Voici ce qu'il faut en retenir en version courte.\n",
      "\n",
      "Aux alentours de la version 2.2 - 2.3 de python, le langage a \u00e9t\u00e9 am\u00e9lior\u00e9 pour r\u00e9gler quelques probl\u00e8mes qui existaient dans le syst\u00e8me de types. En substance, et pour rester synth\u00e9tique :\n",
      "\n",
      " * Il n'\u00e9tait pas possible dans les anciennes versions de sp\u00e9cialiser un type pr\u00e9d\u00e9fini. Par exemple, si vous vous souvenez de la classe `collections.OrderedDict`, il s'agit d'une sp\u00e9cialisation du type *builtin* `dict`. Il n'aurait pas \u00e9t\u00e9 possible d'impl\u00e9menter cette classe avec les anciennes versions du langage.\n",
      " \n",
      " * Dans l'ancien mod\u00e8le mental, les classes et les types jouent un r\u00f4le diff\u00e9rent. Or dans la logique d'un langage orient\u00e9 objet, le type d'une instance, c'est sa classe. Nous allons y revenir avec des exemples."
     ]
    },
    {
     "cell_type": "markdown",
     "metadata": {},
     "source": [
      "Pour am\u00e9liorer le langage, la notion de classe *new-style* a alors \u00e9t\u00e9 introduite, et pour\n",
      "**ne pas casser la compatibilit\u00e9 ascendante**, il a \u00e9t\u00e9 convenu que pour qu'une classe soit ***new-style***, il faut qu'elle **h\u00e9rite** - directement ou indirectement - de la classe *builtin* `object`. Les classes qui n'h\u00e9ritent pas d'`object` sont appel\u00e9es les *classes classiques*. \n",
      "\n",
      "Nous reviendrons largement sur ces notions de types, de *classes classiques* et de classes *new-style* en semaine 7. Il faut retenir pour le moment qu'il y a en python 2 deux types diff\u00e9rents de classes, les classes *new-style* et les *classes classiques* qui sont incompatibles. Cependant, pour la majorit\u00e9 des usages, le comportement de ces deux types de classes est le m\u00eame. Les classes *new-style* sont utiles pour des usages avanc\u00e9s, comme l'h\u00e9ritage multiple sur lequel nous allons revenir dans un prochain compl\u00e9ment, et n\u00e9cessaires pour, par exemple, l'extension des types de bases. \n",
      "\n",
      "Vous pouvez alors vous demander quand utiliser les classes *new-style* et les *classe classiques*. La r\u00e9ponse est simple&nbsp;: les classes *new-style* sont sup\u00e9rieures aux *classes classiques*, les classes *new-style* doivent donc \u00eatre utilis\u00e9es pour tous vos nouveaux programmes. D'ailleurs, en python 3, toutes les classes sont maintenant *new-style* par d\u00e9faut (on n'a donc plus besoin d'h\u00e9riter explicitement d'`object`) et les *classes classiques* n'existent plus. Attention cependant si vous travaillez avec du code python 2 existant qui utilise des *classes classiques*, il est recommand\u00e9 dans ce cas de continuer \u00e0 utiliser les classes classiques. En effet, m\u00eame si pour la majorit\u00e9 des usages, les classes classiques et *new-style* ont le m\u00eame comportement, dans certains cas avanc\u00e9s, elles ont un comportement incompatible. "
     ]
    },
    {
     "cell_type": "markdown",
     "metadata": {},
     "source": [
      "Toutes les classes de la librairie standard python sont des classes *new-style*, c'est pourquoi la classe `ZipFile` h\u00e9rite de `object`."
     ]
    },
    {
     "cell_type": "heading",
     "level": 3,
     "metadata": {},
     "source": [
      "Illustration"
     ]
    },
    {
     "cell_type": "markdown",
     "metadata": {},
     "source": [
      "Une instance d'une *classe classique* a pour type le type `instance` :"
     ]
    },
    {
     "cell_type": "code",
     "collapsed": false,
     "input": [
      "# une classe classique\n",
      "class OldStyle: \n",
      "    pass\n",
      "# une instance\n",
      "old_style = OldStyle()\n",
      "# son type est juste 'instance'\n",
      "type(old_style)"
     ],
     "language": "python",
     "metadata": {},
     "outputs": []
    },
    {
     "cell_type": "markdown",
     "metadata": {},
     "source": [
      "Par contre, une instance d'une classe *new-style* a pour type la classe qu'on a utilis\u00e9e pour cr\u00e9er l'objet :"
     ]
    },
    {
     "cell_type": "code",
     "collapsed": false,
     "input": [
      "# une classe new-style : elle h\u00e9rite de 'object'\n",
      "class NewStyle(object): \n",
      "    pass\n",
      "# une instance\n",
      "new_style = NewStyle()\n",
      "# le type de l'instance est bien la classe\n",
      "type(new_style) is NewStyle"
     ],
     "language": "python",
     "metadata": {},
     "outputs": []
    },
    {
     "cell_type": "heading",
     "level": 2,
     "metadata": {},
     "source": [
      "Compl\u00e9ment - niveau avanc\u00e9"
     ]
    },
    {
     "cell_type": "heading",
     "level": 3,
     "metadata": {},
     "source": [
      "Pour en savoir plus"
     ]
    },
    {
     "cell_type": "markdown",
     "metadata": {},
     "source": [
      "Si ce sujet vous int\u00e9resse, vous pouvez commencer par [l'article initial de Guido Van Rossum](https://www.python.org/download/releases/2.2.3/descrintro) au sujet de la nouvelle impl\u00e9mentation. \n",
      "\n",
      "D'autres liens pertinents sont aussi donn\u00e9s [ici dans la documentation python](https://www.python.org/doc/newstyle/)."
     ]
    }
   ],
   "metadata": {}
  }
 ]
}