{
 "metadata": {
  "kernelspec": {
   "display_name": "Python 2",
   "language": "python",
   "name": "python2"
  },
  "notebookname": "Web crawler",
  "signature": "sha256:3de118e8109cdcf15d72e890c769530a21783cd8c46cd95343938930570b2ef5",
  "version": "2.0"
 },
 "nbformat": 3,
 "nbformat_minor": 0,
 "worksheets": [
  {
   "cells": [
    {
     "cell_type": "markdown",
     "metadata": {},
     "source": [
      "<span style=\"float:left;\">Licence CC BY-NC-ND</span><span style=\"float:right;\">Thierry Parmentelat &amp; Arnaud Legout,<img src=\"media/inria-25.png\" style=\"display:inline\"></span><br/>"
     ]
    },
    {
     "cell_type": "heading",
     "level": 1,
     "metadata": {},
     "source": [
      "Crawler Web "
     ]
    },
    {
     "cell_type": "heading",
     "level": 2,
     "metadata": {},
     "source": [
      "Mini-Projet"
     ]
    },
    {
     "cell_type": "heading",
     "level": 3,
     "metadata": {},
     "source": [
      "Objectifs"
     ]
    },
    {
     "cell_type": "markdown",
     "metadata": {},
     "source": [
      "Dans ce projet, nous allons impl\u00e9menter un simple [crawler Web](http://fr.wikipedia.org/wiki/Robot_d%27indexation), c'est-\u00e0-dire un outil capable de parcourir des pages Web en suivant les URLs. C'est typiquement ce que font les moteurs de recherche comme Google. Notre objectif ici est de jouer avec certains des concepts importants que nous avons d\u00e9couvert dans ce MOOC et de pratiquer quelques modules de la librairie standard, mais nous ne chercherons pas la performance parce que \u00e7a augmenterait tr\u00e8s rapidement la complexit\u00e9 du code et la difficult\u00e9 du sujet. Cependant, vous constaterez que m\u00eame si ce crawler n'est pas adapt\u00e9 \u00e0 crawler des millions de pages, il est parfaitement capable de crawler des milliers de pages et de vous rendre des services (comme identifier les liens morts sur votre site Web)."
     ]
    },
    {
     "cell_type": "heading",
     "level": 3,
     "metadata": {},
     "source": [
      "R\u00e9alisation du crawler Web"
     ]
    },
    {
     "cell_type": "markdown",
     "metadata": {},
     "source": [
      "Ce projet est d\u00e9coup\u00e9 en deux niveaux de difficult\u00e9. Nous allons commencer par le niveau avanc\u00e9 qui va vous demander d'\u00e9crire vous m\u00eame tout le code en fonction de nos sp\u00e9cifications de haut niveau. Pour le niveau interm\u00e9diaire, nous vous fournirons une description plus pr\u00e9cise de notre impl\u00e9mentation. \u00c0 vous de choisir o\u00f9 vous voulez commencer, mais notez que si vous voulez faire le niveau interm\u00e9diaire, vous devrez quand m\u00eame lire le niveau avanc\u00e9, parce qu'il contient des informations importantes sur le fonctionnement du crawler. \n",
      "\n",
      "Je vous rappelle qu'une page Web est \u00e9crite dans un langage d\u00e9claratif qui s'appelle [HTML](http://fr.wikipedia.org/wiki/Hypertext_Markup_Language) et que l'on acc\u00e8de \u00e0 ces pages au travers d'un protocole qui s'appelle [HTTP](http://fr.wikipedia.org/wiki/Hypertext_Transfer_Protocol). Nous utiliserons dans ce mini projet la librairie standard `urllib2` qui permet d'utiliser le protocole HTTP de mani\u00e8re tr\u00e8s simple. Par contre, pour l'interpr\u00e9tation du code HTML, nous ferons tout le traitement \u00e0 la main. Il existe des librairies pour vous faciliter la tache (nous en parlerons tout \u00e0 la fin), mais elles supposent une bonne compr\u00e9hension des concepts sous-jacents \u00e0  HTML et XML. Naturellement, vous pouvez les explorer et les essayer dans ce mini projet si vous le souhaitez. "
     ]
    },
    {
     "cell_type": "heading",
     "level": 3,
     "metadata": {},
     "source": [
      "Niveau avanc\u00e9"
     ]
    },
    {
     "cell_type": "markdown",
     "metadata": {},
     "source": [
      "Le but de notre crawler est le suivant. Nous supposons que nous avons un ensemble (set) de pages Web \u00e0 crawler, c'est-\u00e0-dire, un ensemble de pages Web pour lesquelles on va t\u00e9l\u00e9charger le code HTML. On commence avec une seule page que l'on appelle la page initiale. Dans la suite cette page sera\n",
      "\n",
      "http://www-sop.inria.fr/members/Arnaud.Legout/\n",
      "\n",
      "On suppose \u00e9galement que l'on restreint le crawl \u00e0 un sous ensemble de pages Web. Pour cela on d\u00e9finit une liste de pages filtres (page_filter) tel que si n'importe quel \u00e9l\u00e9ment de page_filter est contenu dans l'URL de la page que l'on crawl, alors la page passe le filter. Dans la suite, on aura \n",
      "\n",
      "`page_filter = www-sop.inria.fr/members/Arnaud.Legout`\n",
      "\n",
      "Ensuite notre crawler va&nbsp;:\n",
      " * prendre un lien (sans ordre particulier) dans l'ensemble des pages Web \u00e0 crawler\n",
      " * se connecter \u00e0 la page correspondant \u00e0 ce lien, puis\n",
      "   * enregistrer le [code HTTP](http://fr.wikipedia.org/wiki/Liste_des_codes_HTTP) associ\u00e9 \u00e0 cette page (par exemple, 202 lorsque la requ\u00eate a \u00e9t\u00e9 trait\u00e9e correctement et 404 lorsque le lien est mort). On consid\u00e9rera aussi un code -1 lorsque le site Web ne r\u00e9pond pas.\n",
      "   * recup\u00e9rer le code HTML de la page\n",
      "   * si la page passe page_filter (typiquement si `filter in page` pour n'importe quel filter dans page_filter) extraire toutes les URLs dans le corps de la page Web (c'est-\u00e0-dire, apr\u00e8s la balise `<body>`) et ajouter \u00e0 l'ensemble des pages Web \u00e0 crawler toutes les URLs commen\u00e7ant par http ou https et toutes les URLs relatives reconstruites commen\u00e7ant par `./` ou `/`\n",
      "      * par exemple, pour `./ma_page.html` et le site `http://mon_site.fr/rep1/` on ajoute l'url `http://mon_site.fr/rep1/ma_page.html`\n",
      "      * par exemple, pour `/ma_page.html` et le site `http://mon_site.fr/rep1/` on ajoute l'url `http://mon_site.fr/ma_page.html` (sans `rep1`)\n",
      " * on recommence au premier point jusqu'\u00e0 ce que l'ensemble des pages Web \u00e0 crawler soit vide.  \n",
      "\n",
      "Pour simplifier, on va manipuler le crawler comme un it\u00e9rable, \u00e0 chaque appel de `next()` on fait avancer le crawler d'une page (dans l'ensemble des pages \u00e0 crawler) et on obtient un objet qui contient le code HTTP pour la page, l'URL de la page, et la liste de toutes les URLs contenues dans la page (extraites comme expliqu\u00e9 ci-dessus). \n"
     ]
    },
    {
     "cell_type": "markdown",
     "metadata": {},
     "source": [
      "Le but de ce mini projet est d'utiliser le crawler pour identifier tous les liens d\u00e9fectueux (c'est-\u00e0-dire ceux pour lesquels HTTP ne retourne pas un code entre 200 et 299) pour le site `http://www-sop.inria.fr/members/Arnaud.Legout/`. \n",
      "\n",
      "Voici le r\u00e9sultat de l'ex\u00e9cution du crawler avec comme page initiale `http://www-sop.inria.fr/members/Arnaud.Legout/` et comme `page_filter` `[www-sop.inria.fr/members/Arnaud.Legout]`. Donc le crawler va  uniquement tester les liens qui sont dans le site `http://www-sop.inria.fr/members/Arnaud.Legout/` "
     ]
    },
    {
     "cell_type": "markdown",
     "metadata": {},
     "source": [
      "    Page contenant des liens defecteux : \n",
      "    http://www-sop.inria.fr/members/Arnaud.Legout/Projects/p2p_cd.html\n",
      "    ------------------------------------------------------------------------------\n",
      "    CODE HTTP 404\n",
      "            http://dx.doi.org/10.1016/j.comnet.2010.09.014\n",
      "            http://www.cs.ucla.edu/~nikitas/\n",
      "    ==============================================================================\n",
      "    \n",
      "    Page contenant des liens defecteux : \n",
      "    http://www-sop.inria.fr/members/Arnaud.Legout/publications.html\n",
      "    ------------------------------------------------------------------------------\n",
      "    CODE HTTP 404\n",
      "            http://dx.doi.org/10.1016/j.comnet.2010.09.014\n",
      "    ==============================================================================\n",
      "    \n",
      "    Page contenant des liens defecteux : \n",
      "    http://www-sop.inria.fr/members/Arnaud.Legout/Projects/bluebear.html\n",
      "    ------------------------------------------------------------------------------\n",
      "    CODE HTTP 303\n",
      "            http://bits.blogs.nytimes.com/2011/11/29/skype-can-expose-your-location-researchers-say/\n",
      "    CODE HTTP 403\n",
      "            https://threatpost.com/en_us/blogs/attacking-and-defending-tor-network-032911\n",
      "            http://www.pcinpact.com/actu/news/66544-skype-bittorrent-etude-scientifiques-faille.htm\n",
      "    CODE HTTP 404\n",
      "            http://www.zataz.com/news/21651/faille--vulnerability-skype.html\n",
      "    ==============================================================================\n",
      "    \n",
      "    Page contenant des liens defecteux : \n",
      "    http://www-sop.inria.fr/members/Arnaud.Legout/\n",
      "    ------------------------------------------------------------------------------\n",
      "    CODE HTTP -1\n",
      "            http://www.castify.net\n",
      "    ==============================================================================\n",
      "    \n",
      "    Page contenant des liens defecteux : \n",
      "    http://www-sop.inria.fr/members/Arnaud.Legout/index.html\n",
      "    ------------------------------------------------------------------------------\n",
      "    CODE HTTP -1\n",
      "            http://www.castify.net\n",
      "    ==============================================================================\n",
      "    \n",
      "    "
     ]
    },
    {
     "cell_type": "heading",
     "level": 3,
     "metadata": {},
     "source": [
      "Niveau interm\u00e9diaire"
     ]
    },
    {
     "cell_type": "markdown",
     "metadata": {},
     "source": [
      "Tout notre programme peut-\u00eatre \u00e9crit dans un m\u00eame module `webcrawler`. Nous avons dans ce module deux classes. Voici l'aide correspondant \u00e0 ces deux classes"
     ]
    },
    {
     "cell_type": "heading",
     "level": 5,
     "metadata": {},
     "source": [
      "Classe `HTMLPage`"
     ]
    },
    {
     "cell_type": "markdown",
     "metadata": {},
     "source": [
      "    Help on class HTMLPage in module webcrawler:\n",
      "    \n",
      "    class HTMLPage(__builtin__.object)\n",
      "     |  represente une page HTML.\n",
      "     |\n",
      "     |  L'objet a 4 attributs:\n",
      "     |      -url: l'URL qui correspond a la page Web\n",
      "     |      -_html_it: un iterateur qui parcourt le code HTML, une ligne\n",
      "     |                 a la fois\n",
      "     |      -urls: la liste de toutes les URLs contenues dans la page\n",
      "     |      -http_code: le code retourne par le protocol HTTP lors de\n",
      "     |                  l'acces a la page\n",
      "     |                  *http_code=0 signifie une erreur dans l'URL,\n",
      "     |                  *http_code=-1 signifie que le site de repond pas\n",
      "     |                  *http_code=-2 signifie une exception en accedant\n",
      "     |                  a l'URL\n",
      "     |\n",
      "     |  Methods defined here:\n",
      "     |\n",
      "     |  __init__(self, url)\n",
      "     |      Constructeur de la classe. Le constructeur prend comme\n",
      "     |      argument une URL et construit un objet HTMLPage en definissant\n",
      "     |      les 4 attributs url, _html_it, urls, http_code\n",
      "     |\n",
      "     |  extract_urls_from_page(self)\n",
      "     |      Construit la liste de toutes les URLs contenues dans le corps de\n",
      "     |      la page HTML en parcourant l'iterateur retourne par\n",
      "     |      page_fetcher()\n",
      "     |\n",
      "     |      On identifie une URL parce qu'elle est precedee de href= et\n",
      "     |      dans le corps (body) de la page. Le parsing que l'on implement\n",
      "     |      est imparfait, mais un vrai parsing intelligent demanderait\n",
      "     |      une analyse syntaxique trop complexe pour nos besoins.\n",
      "     |\n",
      "     |      Plus en details, notre parsing consiste a chercher dans le\n",
      "     |      corps de la page (body):\n",
      "     |\n",
      "     |      -les urls contenues dans le champ href (essentiellement on\n",
      "     |       cherche le tag 'href=' et on extrait ce qui est entre\n",
      "     |       guillemets ou apostrophes)\n",
      "     |\n",
      "     |      -on ne garde ensuite que les urls qui commencent par http ou\n",
      "     |       https et\n",
      "     |\n",
      "     |           * les urls qui commencent par ./ auxquelles on ajoute\n",
      "     |        devant (a la place du point) l'Url de la page d'origine\n",
      "     |        (self.url) exemple : pour './ma_page.html' et self.url =\n",
      "     |        http://mon_site.fr/rep1/ on obtient l'url\n",
      "     |        http://mon_site.fr/rep1/ma_page.html\n",
      "     |\n",
      "     |          * les urls qui commencent par /ma_page.html auxquelles on\n",
      "     |         ajoute devant uniquement le hostname de la page d'origine\n",
      "     |         (self.url) exemple : pour '/ma_page.html' et self.url =\n",
      "     |         http://mon_site.fr/rep1/ on obtient l'url\n",
      "     |         http://mon_site.fr/ma_page.html\n",
      "     |\n",
      "     |      Cette methode retourne la liste des URLs contenues dans la\n",
      "     |      page.\n",
      "     |\n",
      "     |  page_fetcher(self, url)\n",
      "     |      accede a l'URL et retourne un objet qui permet de parcourir le\n",
      "     |      code HTML (voir la documentation de urllib2.urlopen) ou une\n",
      "     |      liste vide en cas d'erreur.\n",
      "     |"
     ]
    },
    {
     "cell_type": "heading",
     "level": 5,
     "metadata": {},
     "source": [
      "Classe `Crawler`"
     ]
    },
    {
     "cell_type": "markdown",
     "metadata": {},
     "source": [
      "    Help on class Crawler in module webcrawler:\n",
      "    \n",
      "    class Crawler(__builtin__.object)\n",
      "     |  Cette classe permet de creer l'objet qui va gerer le crawl. Cet\n",
      "     |  objet est iterable et l'iterateur va, a chaque tour, retourner un\n",
      "     |  nouvel objet HTMLPage.\n",
      "     |\n",
      "     |  L'instance du crawler va avoir comme principaux attributs\n",
      "     |    * l'ensemble des pages a crawler pages_to_be_crawled\n",
      "     |    * l'ensemble des pages deja crawles pages_crawled\n",
      "     |    * un dictionnaire qui a chaque URL fait correspondre la liste de\n",
      "     |    toutes les pages qui ont reference cette URL lors du crawl\n",
      "     |    pages_to_be_crawled_dict\n",
      "     |\n",
      "     |  Methods defined here:\n",
      "     |\n",
      "     |  __init__(self, seed_url, max_crawled_pages=10000000000L, page_filter=None)\n",
      "     |      Constructeur du crawler\n",
      "     |\n",
      "     |      Le constructeur prend comme arguments\n",
      "     |      -seed_url: l'URL de la page a partir de laquelle on demarre le crawl\n",
      "     |      -max_crawled_pages: le nombre maximum de pages que l'on va crawler\n",
      "     |      (10**10 par defaut)\n",
      "     |      -page_filter: la liste des pages sur lesquels le crawler\n",
      "     |      doit rester (pas de filtre par defaut). Typiquement, une URL\n",
      "     |      passe le filtre si n'importe lequel des elements de page_filter\n",
      "     |      est contenu dans l'URL\n",
      "     |\n",
      "     |  __iter__(self)\n",
      "     |      Cette methode est implementee comme une fonction generatrice. A\n",
      "     |      chaque appel de next() sur l'iterateur, on obtient un nouvel\n",
      "     |      objet HTMLPage qui correspond a une URL qui etait dans\n",
      "     |      l'ensemble des URLs a crawler.\n",
      "     |\n",
      "     |      On ne donne aucune garantie sur l'ordre de parcours des URLs\n",
      "     |\n",
      "     |  __repr__(self)\n",
      "     |      permet d'afficher simplement des informations sur l'etat\n",
      "     |      courant du crawl.\n",
      "     |\n",
      "     |      retourne une chaine de caracteres donnant:\n",
      "     |      -le nombre de pages et domaines deja crawle\n",
      "     |      -le nombre de pages encore a crawler\n",
      "     |      -la duree du dernier crawl\n",
      "     |\n",
      "     |  update_pages_to_be_crawled(self, page)\n",
      "     |      Prend un objet HTMLpage comme argument et trouve toutes les\n",
      "     |      URLs presente dans la page HTML correspondante. Cette methode\n",
      "     |      met a jour le dictionnaire pages_to_be_crawled_dict et\n",
      "     |      l'ensemble pages_to_be_crawled. On ne met pas a jour le\n",
      "     |      dictionnaire et le set si l'URL correspondant a l'objet\n",
      "     |      HTMLpage n'est pas dans la liste de pages acceptees dans\n",
      "     |      self.page_filter.\n",
      "     |"
     ]
    },
    {
     "cell_type": "heading",
     "level": 5,
     "metadata": {},
     "source": [
      "Fonctions utilitaires"
     ]
    },
    {
     "cell_type": "markdown",
     "metadata": {},
     "source": [
      "On a \u00e9galements deux fonctions, qui sont utilis\u00e9es par les classes, dont voici l'aide."
     ]
    },
    {
     "cell_type": "markdown",
     "metadata": {},
     "source": [
      "    Help on function extract_domains_from_url in module webcrawler:\n",
      "    \n",
      "    extract_domains_from_url(url)\n",
      "        Extrait un domaine d'une URL\n",
      "    \n",
      "        Retourne le tuple T qui contient\n",
      "        T[0]: domaine avec le bon protocol (http://domain or https://domain)\n",
      "        T[1]: domaine sans le protocol (sans http:// or https://)"
     ]
    },
    {
     "cell_type": "markdown",
     "metadata": {},
     "source": [
      "    Help on function is_html_page in module webcrawler:\n",
      "    \n",
      "    is_html_page(url)\n",
      "        simple heuristique pour tester si une page est ecrite en\n",
      "        HTML. Il y a des cas mal identifies par cette heuristique,\n",
      "        mais elle est suffisante pour nos besoins. Par exemple:\n",
      "        http://inria.fr sera identifie comme non html de meme que\n",
      "        toutes les pages qui utilisent des points dans le nom d'un\n",
      "        repertoire."
     ]
    },
    {
     "cell_type": "heading",
     "level": 5,
     "metadata": {},
     "source": [
      "Le mot de la fin"
     ]
    },
    {
     "cell_type": "markdown",
     "metadata": {},
     "source": [
      "Nous avons \u00e0 de nombreuses reprises \u00e9voqu\u00e9 la puissance de la librairie standard, mais aussi des librairies tierces. En particulier, nous avons insist\u00e9 sur le fait qu'au d\u00e9marrage d'un projet, il vaut mieux commencer par chercher si une librairie Python ne fait pas d\u00e9j\u00e0 tout ou partie de ce que vous voulez faire. \n",
      "\n",
      "Il existe une librairie Python tr\u00e8s puissante qui permet justement de faire des crawlers&nbsp;: il s'agit de [Scrapy](http://scrapy.org/). Maintenant que vous avez compris les bases d'un crawler Web, vous pourrez tirer pleinement b\u00e9n\u00e9fice de Scrapy. \n",
      "\n",
      "Il existe \u00e9galement un librairie pour parser du code HTML, c'est [BeautifulSoup](http://www.crummy.com/software/BeautifulSoup/)."
     ]
    }
   ],
   "metadata": {}
  }
 ]
}