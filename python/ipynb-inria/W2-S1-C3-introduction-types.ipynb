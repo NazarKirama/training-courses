{
 "metadata": {
  "kernelspec": {
   "display_name": "Python 2",
   "language": "python",
   "name": "python2"
  },
  "notebookname": "Intro. sur les types",
  "signature": "sha256:764b4e3dcc9ba3fa473738ece2795e1699be921cf23868998cea47f030a46558",
  "version": "2.0"
 },
 "nbformat": 3,
 "nbformat_minor": 0,
 "worksheets": [
  {
   "cells": [
    {
     "cell_type": "markdown",
     "metadata": {},
     "source": [
      "<span style=\"float:left;\">Licence CC BY-NC-ND</span><span style=\"float:right;\">Thierry Parmentelat &amp; Arnaud Legout,<img src=\"media/inria-25.png\" style=\"display:inline\"></span><br/>"
     ]
    },
    {
     "cell_type": "heading",
     "level": 1,
     "metadata": {},
     "source": [
      "Un peu de calcul sur les types"
     ]
    },
    {
     "cell_type": "heading",
     "level": 2,
     "metadata": {},
     "source": [
      "Compl\u00e9ment - niveau basique"
     ]
    },
    {
     "cell_type": "heading",
     "level": 3,
     "metadata": {},
     "source": [
      "La fonction `type`"
     ]
    },
    {
     "cell_type": "markdown",
     "metadata": {},
     "source": [
      "Nous avons vu dans la vid\u00e9o que chaque objet poss\u00e8de un type. On peut tr\u00e8s simplement acc\u00e9der au type d'un objet en appelant une fonction \"built-in\", c'est-\u00e0-dire pr\u00e9d\u00e9finie dans python, qui s'appelle, eh bien oui, `type`."
     ]
    },
    {
     "cell_type": "markdown",
     "metadata": {},
     "source": [
      "On l'utilise tout simplement comme ceci"
     ]
    },
    {
     "cell_type": "code",
     "collapsed": false,
     "input": [
      "type(1)"
     ],
     "language": "python",
     "metadata": {},
     "outputs": []
    },
    {
     "cell_type": "code",
     "collapsed": false,
     "input": [
      "type('spam')"
     ],
     "language": "python",
     "metadata": {},
     "outputs": []
    },
    {
     "cell_type": "markdown",
     "metadata": {},
     "source": [
      "Cette fonction est assez peu utilis\u00e9e par les programmeurs exp\u00e9riment\u00e9s, mais va nous \u00eatre utile \u00e0 bien comprendre le langage, notamment pour manipuler les valeurs num\u00e9riques."
     ]
    },
    {
     "cell_type": "heading",
     "level": 2,
     "metadata": {},
     "source": [
      "Compl\u00e9ment - niveau avanc\u00e9"
     ]
    },
    {
     "cell_type": "heading",
     "level": 3,
     "metadata": {},
     "source": [
      "La fonction `isinstance`"
     ]
    },
    {
     "cell_type": "markdown",
     "metadata": {},
     "source": [
      "Une autre fonction pr\u00e9d\u00e9finie, voisine de `type` mais plus utile dans la pratique, est la fonction `isinstance` qui permet de savoir si un objet est d'un type donn\u00e9; par exemple"
     ]
    },
    {
     "cell_type": "code",
     "collapsed": false,
     "input": [
      "isinstance(23, int)"
     ],
     "language": "python",
     "metadata": {},
     "outputs": []
    },
    {
     "cell_type": "markdown",
     "metadata": {},
     "source": [
      "\u00c0 la vue de ce seul exemple on pourrait penser que `isinstance` est presque identique \u00e0 `type`; en r\u00e9alit\u00e9 elle est un peu plus \u00e9labor\u00e9e, notamment pour la programmation objet et l'h\u00e9ritage, nous aurons l'occasion d'y revenir."
     ]
    },
    {
     "cell_type": "markdown",
     "metadata": {},
     "source": [
      "On remarque ici en passant que la variable `int` est connue de python alors que nous ne l'avons pas d\u00e9finie. Il s'agit d'une variable pr\u00e9d\u00e9finie, qui d\u00e9signe le type des entiers, que nous \u00e9tudierons tr\u00e8s bient\u00f4t."
     ]
    },
    {
     "cell_type": "markdown",
     "metadata": {},
     "source": [
      "Pour conclure sur `isinstance`: cette fonction est utile en pratique pr\u00e9cis\u00e9ment parce que python est \u00e0 typage dynamique. Aussi il est souvent utile de s'assurer qu'une variable pass\u00e9e \u00e0 une fonction est du ou des types attendus, puisque contrairement \u00e0 un langage typ\u00e9 statiquement comme C++, on n'a aucune garantie de ce genre \u00e0 l'ex\u00e9cution. \u00c0 nouveau nous aurons l'occasion de revenir sur ce point."
     ]
    }
   ],
   "metadata": {}
  }
 ]
}