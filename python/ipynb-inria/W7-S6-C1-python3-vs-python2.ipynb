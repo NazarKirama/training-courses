{
 "metadata": {
  "kernelspec": {
   "display_name": "Python 2",
   "language": "python",
   "name": "python2"
  },
  "notebookname": "python3 vs python2",
  "signature": "sha256:0cbba3f98f89d78fabe31b13177b53b40c13402465ee0fa92969dc0db14c287f",
  "version": "2.0"
 },
 "nbformat": 3,
 "nbformat_minor": 0,
 "worksheets": [
  {
   "cells": [
    {
     "cell_type": "markdown",
     "metadata": {},
     "source": [
      "<span style=\"float:left;\">Licence CC BY-NC-ND</span><span style=\"float:right;\">Thierry Parmentelat &amp; Arnaud Legout,<img src=\"media/inria-25.png\" style=\"display:inline\"></span><br/>"
     ]
    },
    {
     "cell_type": "heading",
     "level": 1,
     "metadata": {},
     "source": [
      "python3 vs python2"
     ]
    },
    {
     "cell_type": "heading",
     "level": 2,
     "metadata": {},
     "source": [
      "Compl\u00e9ment - niveau interm\u00e9diaire"
     ]
    },
    {
     "cell_type": "markdown",
     "metadata": {},
     "source": [
      "Comme promis en Semaine 1, et maintenant que vous avez une vision d'ensemble de python2, voici un compl\u00e9ment consacr\u00e9 \u00e0 python3. Nous aborderons cette question selon deux angles&nbsp;:\n",
      " * pour commencer nous ferons un r\u00e9sum\u00e9 des diff\u00e9rences entre les deux langages, \n",
      " * et nous tenterons de faire le point sur la migration entre les deux versions. "
     ]
    },
    {
     "cell_type": "markdown",
     "metadata": {},
     "source": [
      "Dans l'introduction de la Semaine 1, nous avons indiqu\u00e9 avoir choisi de concentrer le cours sur python2 car c'est encore aujourd'hui la version dominante du langage. Vous [pourrez lire ici](https://wiki.python.org/moin/2.x-vs-3.x-survey?action=AttachFile&do=view&target=2013-2014+Python+2.x-3.x+survey.pdf)\n",
      " les r\u00e9sultats d'[un sondage fait fin 2013/d\u00e9but 2014](https://wiki.python.org/moin/2.x-vs-3.x-survey) qui le d\u00e9montre assez nettement, m\u00eame si les choses semblent bouger comme on le verra plus bas."
     ]
    },
    {
     "cell_type": "heading",
     "level": 3,
     "metadata": {},
     "source": [
      "Les diff\u00e9rences"
     ]
    },
    {
     "cell_type": "markdown",
     "metadata": {},
     "source": [
      "Pendant toute la maturation de python, au moins depuis l'introduction de python2 en 2000, toutes les \u00e9volutions ont \u00e9t\u00e9 faites avec compatibilit\u00e9 ascendante, et vous pouvez en th\u00e9orie faire tourner du code 2.1 dans un interpr\u00e8teur 2.7. Avec cette approche, il n'est naturellement pas possible d'enlever ou de changer les traits du langage qui ont \u00e9t\u00e9 rat\u00e9s :)\n",
      "\n",
      "La d\u00e9cision de cr\u00e9er python3 a \u00e9t\u00e9 prise dans le but de corriger ce genre de d\u00e9fauts, avec en contrepartie la n\u00e9cessit\u00e9 de migrer tout la base de code. Commen\u00e7ons par faire un survol des changements, avant de voir dans la deuxi\u00e8me partie comment se passe cette migration.\n",
      "\n",
      "Les diff\u00e9rences sont r\u00e9sum\u00e9es dans [cette liste exhaustive](https://docs.python.org/3/whatsnew/3.0.html), en voici une version abr\u00e9g\u00e9e."
     ]
    },
    {
     "cell_type": "heading",
     "level": 5,
     "metadata": {},
     "source": [
      "`print`"
     ]
    },
    {
     "cell_type": "markdown",
     "metadata": {},
     "source": [
      "On a d\u00e9j\u00e0 eu l'occasion de l'\u00e9voquer, la diff\u00e9rence la plus visible entre les deux versions du langage est que\n",
      " * dans python2 `print` est une **instruction** et ne prend pas de parenth\u00e8se,\n",
      " * alors qu'en python3 c'est une **fonction** et donc requiert des parenth\u00e8ses."
     ]
    },
    {
     "cell_type": "markdown",
     "metadata": {},
     "source": [
      "Comme on l'avait signal\u00e9 en Semaine 1 (S\u00e9quence \"Pourquoi python ?\"), vous avez la possibilit\u00e9 d'\u00e9crire du code python2 qui utilise `print` avec la syntaxe de python3 en mentionnant\n",
      "\n",
      "    from __future__ import print_function"
     ]
    },
    {
     "cell_type": "markdown",
     "metadata": {},
     "source": [
      "Cela dit, `print` est une construction tr\u00e8s visible pendant la p\u00e9riode d'apprentissage, mais dans du vrai code son usage est **beaucoup moins r\u00e9pandu** qu'on ne pourrait le penser, on utilise la plupart du temps des modules de `logging` ou autres fonctions d'\u00e9criture sur fichier, aussi l'\u00e9volution de `print` est en r\u00e9alit\u00e9, entre python2 et python3, beaucoup moins cruciale qu'il n'y para\u00eet."
     ]
    },
    {
     "cell_type": "heading",
     "level": 5,
     "metadata": {},
     "source": [
      "types `str` et `unicode`"
     ]
    },
    {
     "cell_type": "markdown",
     "metadata": {},
     "source": [
      "Le changement le plus radical, dans le sens le changement auquel il est le plus d\u00e9licat de s'adapter, est sans doute celui qui concerne la repr\u00e9sentation des caract\u00e8res. \n",
      "\n",
      "Comme [il est expliqu\u00e9 ici](https://docs.python.org/3/whatsnew/3.0.html#text-vs-data-instead-of-unicode-vs-8-bit) Python3 distingue entre les concepts de *text* et de *(binary) data*, l\u00e0 o\u00f9 python2 distinguait entre les types `str` et `unicode`. La phrase d'introduction vous donne une id\u00e9e de l'\u00e9tendue des changements qui ont \u00e9t\u00e9 faits dans ce domaine&nbsp;:\n",
      "\n",
      "<pre style=\"font-size:small;background-color:'#ccc';\">\n",
      "Everything you thought you knew about binary data and Unicode has changed.\n",
      "</pre>\n",
      "\n",
      "C'est d'ailleurs une des raisons pour lesquelles dans ce MOOC nous avons choisi de soigneusement laisser de cot\u00e9 le type `unicode`. "
     ]
    },
    {
     "cell_type": "markdown",
     "metadata": {},
     "source": [
      "Dans le compl\u00e9ments sur les accents en Semaine 1 (S\u00e9quence \"Les outils de la distribution standard python\"), nous avions expliqu\u00e9 que le mod\u00e8le mental, selon lequel un caract\u00e8re est \u00e9quivalent \u00e0 un octet est, avec les encodages modernes Unicode, devenu obsol\u00e8te. C'est en fait ce mod\u00e8le mental qui \u00e9tait v\u00e9hicul\u00e9 par le type `str` de python2.\n",
      "\n",
      "En python3, le type `unicode` n'existe plus (enfin il serait plus pr\u00e9cis de dire que le type `str` n'existe plus et que le type `unicode` de python2 s'appelle `str` en python3); et on a introduit le nouveau type `bytes` qui permet de manipuler de la donn\u00e9e binaire pure. Nous vous renvoyons \u00e0 l'article cit\u00e9 ci-dessus pour davantage de d\u00e9tails sur cet aspect de la migration."
     ]
    },
    {
     "cell_type": "heading",
     "level": 5,
     "metadata": {},
     "source": [
      "types `int` et `long`"
     ]
    },
    {
     "cell_type": "markdown",
     "metadata": {},
     "source": [
      "Le type `long` a disparu (enfin, un peu comme avec les cha\u00eenes, `long` a remplac\u00e9 `int` et on a supprim\u00e9 le nom `long`). Cette diff\u00e9rence a g\u00e9n\u00e9ralement assez peu d'impact dans un portage."
     ]
    },
    {
     "cell_type": "heading",
     "level": 5,
     "metadata": {},
     "source": [
      "classes *new-style*"
     ]
    },
    {
     "cell_type": "markdown",
     "metadata": {},
     "source": [
      "On l'a d\u00e9j\u00e0 mentionn\u00e9 dans le cours, toutes les classes en python3 sont des **classes *new-style***, qu'elles h\u00e9ritent ou non de `object`; on n'a donc plus besoin d'h\u00e9riter d'object, mais on peut le faire si on r\u00e9cup\u00e8re du vieux code.\n",
      "\n",
      "L\u00e0 encore l'impact de ce changement lors d'un portage est g\u00e9n\u00e9ralament faible ou nul."
     ]
    },
    {
     "cell_type": "heading",
     "level": 5,
     "metadata": {},
     "source": [
      "Utilisation massive des it\u00e9rateurs"
     ]
    },
    {
     "cell_type": "markdown",
     "metadata": {},
     "source": [
      "Un grand nombre de fonctions et m\u00e9thodes - qu'elles soient *builtin* ou qu'elle viennent d'une librairie - retournent en python2 des listes. C'est le cas, on l'a vu, pour \n",
      " * `range()`,\n",
      " * `dict.items()` ou ses voisines `values()` et `keys()`,\n",
      "et un tr\u00e8s grand nombre d'autres. \n",
      "\n",
      "En python3, dans tous les cas o\u00f9 c'\u00e9tait possible, on a pr\u00e9f\u00e9r\u00e9 **retourner des it\u00e9rateurs** en lieu et place des listes.\n",
      "\n",
      "Ce qui a du m\u00eame coup permis de supprimer les fonctions et m\u00e9thodes python2 qui avaient \u00e9t\u00e9 rajout\u00e9es apr\u00e8s coup, pour proposer ce mode de fonctionnement sans casser la compatibilit\u00e9. Pour prendre des exemples, en python2 vous aviez le choix entre "
     ]
    },
    {
     "cell_type": "code",
     "collapsed": false,
     "input": [
      "range(10)"
     ],
     "language": "python",
     "metadata": {},
     "outputs": []
    },
    {
     "cell_type": "markdown",
     "metadata": {},
     "source": [
      "et"
     ]
    },
    {
     "cell_type": "code",
     "collapsed": false,
     "input": [
      "xrange(10)"
     ],
     "language": "python",
     "metadata": {},
     "outputs": []
    },
    {
     "cell_type": "markdown",
     "metadata": {},
     "source": [
      "parce que `xrange` avait \u00e9t\u00e9 introduit **apr\u00e8s** les it\u00e9rateurs. En python3, il n'y a plus que `range`, qui renvoie un it\u00e9rateur; il n'y a plus non plus, par exemple, `dict.itervalues` mais seulement `dict.values` qui renvoie un it\u00e9rateur. "
     ]
    },
    {
     "cell_type": "heading",
     "level": 5,
     "metadata": {},
     "source": [
      "Variables locales \u00e0 une compr\u00e9hension"
     ]
    },
    {
     "cell_type": "markdown",
     "metadata": {},
     "source": [
      "Pour des raisons principalement historiques, les variables de boucle `fuitent` (*leak* en anglais), c'est-\u00e0-dire restaient d\u00e9finies \u00e0 la sortie d'une boucle, comme on l'a vu en Semaine 3 (s\u00e9quence \"Les boucles `for` et les it\u00e9rateurs\");\n",
      "\n",
      "Ceci est modifi\u00e9 en python3 pour les compr\u00e9hensions, comme on le voit sur cet exemple&nbsp;:"
     ]
    },
    {
     "cell_type": "markdown",
     "metadata": {},
     "source": [
      "<table>\n",
      "<tr><th>python2</th><th>python3</th></tr>\n",
      "<tr><td>\n",
      "<pre style='font-size:small'>\n",
      ">>> x = 'avant'\n",
      ">>>\n",
      ">>> [x*2 for x in [0]]\n",
      "[0]\n",
      ">>>\n",
      ">>> x\n",
      "0\n",
      "</pre>\n",
      "</td><td>\n",
      "<pre style='font-size:small'>\n",
      ">>> x = 'avant'\n",
      ">>>\n",
      ">>> [x*2 for x in [0]]\n",
      "[0]\n",
      ">>>\n",
      ">>> x\n",
      "'avant'\n",
      "</pre>\n",
      "</td></tr>\n",
      "</table>\n"
     ]
    },
    {
     "cell_type": "markdown",
     "metadata": {},
     "source": [
      "On observe bien entendu le m\u00eame comportement avec les compr\u00e9hensions de dictionnaires ou d'ensembles. Par contre, on aurait pu penser que le m\u00eame comportement serait adopt\u00e9 pour les boucles `for` \u00e0 part enti\u00e8re, ce n'est **pas le cas malheureusement**&nbsp;:"
     ]
    },
    {
     "cell_type": "markdown",
     "metadata": {},
     "source": [
      "<table>\n",
      "<tr><th>python2</th><th>python3</th></tr>\n",
      "<tr><td>\n",
      "<pre style='font-size:small'>\n",
      ">>> x = 'avant'\n",
      ">>>\n",
      ">>> for x in [0]: pass\n",
      "...\n",
      ">>> x\n",
      "0\n",
      "</pre>\n",
      "</td><td>\n",
      "<pre style='font-size:small'>\n",
      ">>> x = 'avant'\n",
      ">>>\n",
      ">>> for x in [0]: pass\n",
      "...\n",
      ">>> x\n",
      "0\n",
      "</pre>\n",
      "</td></tr>\n",
      "</table>"
     ]
    },
    {
     "cell_type": "heading",
     "level": 5,
     "metadata": {},
     "source": [
      "Autres changements"
     ]
    },
    {
     "cell_type": "markdown",
     "metadata": {},
     "source": [
      "Citons \u00e9galement, en vrac&nbsp;:\n",
      " * les orthographes ont \u00e9t\u00e9 homog\u00e9n\u00e9is\u00e9es, comme le fait qu'un it\u00e9rateur doit maintenant d\u00e9finir `__next__()` et non `next()`; \n",
      " * on peut utiliser des caract\u00e8res Unicode dans les noms de variables, donc des accents, des c\u00e9dilles, on peut appeler une fonction \u03a3 - non pas que cela semble forc\u00e9ment une tr\u00e8s bonne id\u00e9e \u00e0 premi\u00e8re vue mais bon;\n",
      " * en python3, on a la possibilit\u00e9 d'annoter, au niveau syntaxique les arguments et valeur de retour des fonctions ([voir PEP3107](http://www.python.org/dev/peps/pep-3107)); dans l'\u00e9tat actuel il s'agit d'annotations \u00e0 vocation **surtout documentaire** et il ne semble pas que le langage se dirige vers un contr\u00f4le de type plus strict dans ce domaine;\n",
      " * une nouvelle notation a \u00e9t\u00e9 introduire pour sp\u00e9cifier la m\u00e9taclasse;\n",
      " * et tout un tas d'autres am\u00e9liorations moins significatives dont vous trouverez [une liste plus exhaustive ici](https://docs.python.org/3/whatsnew/3.0.html) (c'est la m\u00eame r\u00e9f\u00e9rence que celle donn\u00e9e ci-dessus dans le chapeau sur \"Les diff\u00e9rences\"."
     ]
    },
    {
     "cell_type": "heading",
     "level": 5,
     "metadata": {},
     "source": [
      "Conclusion"
     ]
    },
    {
     "cell_type": "markdown",
     "metadata": {},
     "source": [
      "Comme vous le voyez, ce que vous avez appris dans ce MOOC est pratiquement utilisable tel quel dans un environnement python3. Si vous devez coder en python3 \u00e0 partir des connaissances acquises dans ce cours, il vous reste principalement \u00e0 ma\u00eetriser les deux types `str` et `bytes`, et les notions d'encodage qui y sont rattach\u00e9es."
     ]
    },
    {
     "cell_type": "heading",
     "level": 3,
     "metadata": {},
     "source": [
      "Un point sur la migration"
     ]
    },
    {
     "cell_type": "heading",
     "level": 5,
     "metadata": {},
     "source": [
      "Les gros joueurs"
     ]
    },
    {
     "cell_type": "markdown",
     "metadata": {},
     "source": [
      "Jusqu'\u00e0 r\u00e9cemment, quand on commen\u00e7ait un nouveau projet, on tombait rapidement sur une librairie majeure dont on avait besoin et qui n'\u00e9tait pas disponible en python3; du coup, m\u00eame des projets relativement r\u00e9cents ont choisi de cibler python2.\n",
      "\n",
      "Il me semble que la situation est en train de changer un peu; en tous cas, les deux gros joueurs que sont [`django`, *the web framework for perfectionists with deadlines*](https://www.djangoproject.com), et [`NumPy` - *fundamental package for scientific computing with Python *](http://www.numpy.org), sont \u00e0 pr\u00e9sent disponibles en python3&nbsp;:"
     ]
    },
    {
     "cell_type": "markdown",
     "metadata": {},
     "source": [
      " * `django` depuis la version 1.5\n",
      " * `numpy` depuis 1.5.0 et scipy depuis 0.9.0"
     ]
    },
    {
     "cell_type": "markdown",
     "metadata": {},
     "source": [
      "Cela dit, la date de *End-Of-Life* pour python2.7 qui repr\u00e9sente la date de fin de maintenance qui avait \u00e9t\u00e9 initialement fix\u00e9e \u00e0 2015 lors de la sortie de python3, a \u00e9t\u00e9 dans un [update du PEP373 en date d'Avril 2014](https://hg.python.org/peps/rev/76d43e52d978) retard\u00e9e de cinq ans  pour courir jusqu'en 2020. "
     ]
    },
    {
     "cell_type": "heading",
     "level": 5,
     "metadata": {},
     "source": [
      "Outils et strat\u00e9gies"
     ]
    },
    {
     "cell_type": "markdown",
     "metadata": {},
     "source": [
      "Au d\u00e9part, l'id\u00e9e \u00e9tant de nettoyer le langage, on a incit\u00e9 les gens \u00e0 **basculer** d'une version \u00e0 l'autre; il existe pour cela un outil qui s'appelle **`2to3`** - qui fait partie de la distribution standard - et qui permet de **traduire** un code python2 en python3 en le **modifiant**. `2to3` ne sait pas forc\u00e9ment r\u00e9soudre tous les probl\u00e8mes mais permet d'en \u00e9vacuer la plus grosse partie.\n",
      "\n",
      "Le souci toutefois avec cette approche est qu'une fois qu'on a fait la traduction, on se retrouve avec **deux codes**. Pour tous les projets qui sont **r\u00e9utilisables** - qui offrent des librairies, soit parce que c'est l'objectif principal du projet, soit comme *by-product* - cette approche signifie de **maintenir** ces deux codes, ce qui est le plus souvent inacceptable.\n",
      "\n",
      "Aussi, ces derniers temps, il semble qu'on se dirige plus vers une approche de **code unique**, au travers de librairies comme [`six`](https://pypi.python.org/pypi/six) - disponible via `pypi`. "
     ]
    },
    {
     "cell_type": "heading",
     "level": 3,
     "metadata": {},
     "source": [
      "Pour en savoir plus"
     ]
    },
    {
     "cell_type": "markdown",
     "metadata": {},
     "source": [
      "Vous pouvez consulter \u00e9galement&nbsp;:\n",
      " * [Should I use Python 2 or Python 3 for my development activity?](https://wiki.python.org/moin/Python2orPython3) dans le wiki python&nbsp;;\n",
      " * Le [sentiment du BDFL Guido Van Rossum](https://www.youtube.com/watch?v=EBRMq2Ioxsc) dans son talk \u00e0 PyCon 2014, aux environs de 09:00&nbsp;;\n",
      " * Un [guide de portage de python2 \u00e0 python3](https://docs.python.org/3/howto/pyporting.html)."
     ]
    }
   ],
   "metadata": {}
  }
 ]
}