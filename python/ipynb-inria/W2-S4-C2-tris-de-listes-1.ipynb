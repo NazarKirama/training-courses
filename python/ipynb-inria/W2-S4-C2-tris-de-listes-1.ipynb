{
 "metadata": {
  "kernelspec": {
   "display_name": "Python 2",
   "language": "python",
   "name": "python2"
  },
  "notebookname": "Tris de listes",
  "signature": "sha256:7d0ddfb431d40c98c7160638c10bf1ddcbcab32392b76f09b964137ce4aef30e",
  "version": "2.0"
 },
 "nbformat": 3,
 "nbformat_minor": 0,
 "worksheets": [
  {
   "cells": [
    {
     "cell_type": "markdown",
     "metadata": {},
     "source": [
      "<span style=\"float:left;\">Licence CC BY-NC-ND</span><span style=\"float:right;\">Thierry Parmentelat &amp; Arnaud Legout,<img src=\"media/inria-25.png\" style=\"display:inline\"></span><br/>"
     ]
    },
    {
     "cell_type": "heading",
     "level": 1,
     "metadata": {},
     "source": [
      "Tris de listes"
     ]
    },
    {
     "cell_type": "heading",
     "level": 2,
     "metadata": {},
     "source": [
      "Compl\u00e9ment - niveau basique"
     ]
    },
    {
     "cell_type": "markdown",
     "metadata": {},
     "source": [
      "python fournit une fonction standard pour trier une liste, qui s'appelle, sans grande surprise, `sort`. "
     ]
    },
    {
     "cell_type": "heading",
     "level": 3,
     "metadata": {},
     "source": [
      "Utilisation basique"
     ]
    },
    {
     "cell_type": "markdown",
     "metadata": {},
     "source": [
      "Voyons comment se comporte `sort` sur un exemple simple."
     ]
    },
    {
     "cell_type": "code",
     "collapsed": false,
     "input": [
      "liste = [8, 7, 4, 3, 2, 9, 1, 5, 6]\n",
      "print 'avant tri', liste\n",
      "liste.sort()\n",
      "print 'apres tri', liste"
     ],
     "language": "python",
     "metadata": {},
     "outputs": []
    },
    {
     "cell_type": "markdown",
     "metadata": {},
     "source": [
      "On retrouve ici, avec l'instruction `liste.sort()` un cas d'appel de m\u00e9thode (ici `sort`) sur un objet (ici `liste`), comme on l'avait vu dans la vid\u00e9o sur la notion d'objet.\n",
      "\n",
      "La premi\u00e8re chose \u00e0 remarquer est que la liste d'entr\u00e9e a \u00e9t\u00e9 modifi\u00e9e, on dit \"en place\", ou encore \"par effet de bord\".\n",
      "\n",
      "On aurait pu imaginer que la liste d'entr\u00e9e soit rest\u00e9e inchang\u00e9e, et que la m\u00e9thode de tri renvoie une copie tri\u00e9e de la liste, ce n'est pas le choix qui a \u00e9t\u00e9 fait. De cette fa\u00e7on, c'est \u00e0 l'utilisateur de la m\u00e9thode de r\u00e9aliser au pr\u00e9alable une copie de la liste initiale si c'est n\u00e9cessaire dans son cas d'usage. On \u00e9vite ainsi d'imposer une op\u00e9ration de copie, qui peut \u00eatre co\u00fbteuse en m\u00e9moire, lorsque ce n'est pas utile."
     ]
    },
    {
     "cell_type": "heading",
     "level": 3,
     "metadata": {},
     "source": [
      "Tri d\u00e9croissant"
     ]
    },
    {
     "cell_type": "markdown",
     "metadata": {},
     "source": [
      "On remarque aussi que la liste est tri\u00e9e par ordre croissant. Si vous souhaitez au contraire l'ordre d\u00e9croissant, vous pouvez le faire comme ceci:"
     ]
    },
    {
     "cell_type": "code",
     "collapsed": false,
     "input": [
      "liste = [8, 7, 4, 3, 2, 9, 1, 5, 6]\n",
      "print 'avant tri', liste\n",
      "liste.sort(reverse=True)\n",
      "print 'apres tri d\u00e9croissant', liste"
     ],
     "language": "python",
     "metadata": {},
     "outputs": []
    },
    {
     "cell_type": "markdown",
     "metadata": {},
     "source": [
      "Nous n'avons pas encore vu \u00e0 quoi correspond cette formule `reverse=True` dans l'appel \u00e0 la m\u00e9thode, ceci sera approfondi dans le chapitre sur les appels de fonction, mais dans l'imm\u00e9diat vous pouvez utiliser cette technique telle quelle."
     ]
    },
    {
     "cell_type": "heading",
     "level": 3,
     "metadata": {},
     "source": [
      "Cha\u00eenes de caract\u00e8res"
     ]
    },
    {
     "cell_type": "markdown",
     "metadata": {},
     "source": [
      "Cette technique fonctionne tr\u00e8s bien sur tous les types num\u00e9riques (enfin, \u00e0 l'exception des complexes; en guise d'exercice: pourquoi ?), ainsi que sur les cha\u00eenes de caract\u00e8res:"
     ]
    },
    {
     "cell_type": "code",
     "collapsed": false,
     "input": [
      "liste = ['spam', 'egg', 'bacon', 'beef']\n",
      "liste.sort()\n",
      "print 'apr\u00e8s tri', liste"
     ],
     "language": "python",
     "metadata": {},
     "outputs": []
    },
    {
     "cell_type": "markdown",
     "metadata": {},
     "source": [
      "Comme on s'y attend, il s'agit cette fois d'un tri lexicographique, d\u00e9riv\u00e9 de l'ordre total sur les caract\u00e8res. Il faut souligner toutefois, pour les personnes n'ayant jamais \u00e9t\u00e9 expos\u00e9es \u00e0 l'informatique, que cet ordre, quoique d\u00e9terministe, est arbitraire en dehors des lettres de l'alphabet."
     ]
    },
    {
     "cell_type": "markdown",
     "metadata": {},
     "source": [
      "Ainsi par exemple:"
     ]
    },
    {
     "cell_type": "code",
     "collapsed": false,
     "input": [
      "'a' < 'z'"
     ],
     "language": "python",
     "metadata": {},
     "outputs": []
    },
    {
     "cell_type": "markdown",
     "metadata": {},
     "source": [
      "bon; mais par contre"
     ]
    },
    {
     "cell_type": "code",
     "collapsed": false,
     "input": [
      "'Z' < 'a'"
     ],
     "language": "python",
     "metadata": {},
     "outputs": []
    },
    {
     "cell_type": "markdown",
     "metadata": {},
     "source": [
      "Ce qui explique ceci"
     ]
    },
    {
     "cell_type": "code",
     "collapsed": false,
     "input": [
      "liste = ['abc', 'Zoo']\n",
      "liste.sort()\n",
      "print liste"
     ],
     "language": "python",
     "metadata": {},
     "outputs": []
    },
    {
     "cell_type": "markdown",
     "metadata": {},
     "source": [
      "Et lorsque les chaines contiennent des espaces ou autres ponctuations, le r\u00e9sultat du tri peut para\u00eetre surprenant:"
     ]
    },
    {
     "cell_type": "code",
     "collapsed": false,
     "input": [
      "liste = [' zoo', 'ane']\n",
      "liste.sort()\n",
      "print liste"
     ],
     "language": "python",
     "metadata": {},
     "outputs": []
    },
    {
     "cell_type": "heading",
     "level": 3,
     "metadata": {},
     "source": [
      "\u00c0 suivre"
     ]
    },
    {
     "cell_type": "markdown",
     "metadata": {},
     "source": [
      "Il est possible de d\u00e9finir sois-m\u00eame le crit\u00e8re \u00e0 utiliser pour trier une liste, et nous verrons cela tr\u00e8s bient\u00f4t une fois que nous aurons introduit la notion de fonction."
     ]
    }
   ],
   "metadata": {}
  }
 ]
}