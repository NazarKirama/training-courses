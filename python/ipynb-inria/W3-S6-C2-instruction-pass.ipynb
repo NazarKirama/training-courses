{
 "metadata": {
  "kernelspec": {
   "display_name": "Python 2",
   "language": "python",
   "name": "python2"
  },
  "notebookname": "L'instruction pass",
  "signature": "sha256:b773594b2ec9f727464bb3fb1b2ccb1f6c5ab905d7234bb8d25040ac213bbe2e",
  "version": "2.0"
 },
 "nbformat": 3,
 "nbformat_minor": 0,
 "worksheets": [
  {
   "cells": [
    {
     "cell_type": "markdown",
     "metadata": {},
     "source": [
      "<span style=\"float:left;\">Licence CC BY-NC-ND</span><span style=\"float:right;\">Thierry Parmentelat &amp; Arnaud Legout,<img src=\"media/inria-25.png\" style=\"display:inline\"></span><br/>"
     ]
    },
    {
     "cell_type": "heading",
     "level": 1,
     "metadata": {},
     "source": [
      "L'instruction `pass`"
     ]
    },
    {
     "cell_type": "heading",
     "level": 2,
     "metadata": {},
     "source": [
      "Compl\u00e9ment - niveau basique"
     ]
    },
    {
     "cell_type": "markdown",
     "metadata": {},
     "source": [
      "Nous avons vu qu'en python les blocs de code sont d\u00e9finis par leur indentation. "
     ]
    },
    {
     "cell_type": "heading",
     "level": 3,
     "metadata": {},
     "source": [
      "Une fonction vide"
     ]
    },
    {
     "cell_type": "markdown",
     "metadata": {},
     "source": [
      "Cette convention a une limitation lorsqu'on essaie de d\u00e9finir un bloc vide. Voyons par exemple comment on d\u00e9finirait en C une fonction qui ne fait rien"
     ]
    },
    {
     "cell_type": "markdown",
     "metadata": {},
     "source": [
      "    /* une fonction C qui ne fait rien */\n",
      "    void foo () {}"
     ]
    },
    {
     "cell_type": "markdown",
     "metadata": {},
     "source": [
      "Comme en python on n'a pas d'accolade pour d\u00e9limiter les blocs de code, il existe une instruction `pass`, qui ne fait rien. \u00c0 l'aide de cette instruction on peut \u00e0 pr\u00e9sent d\u00e9finir une fonction vide comme ceci&nbsp;:"
     ]
    },
    {
     "cell_type": "code",
     "collapsed": false,
     "input": [
      "# une fonction python qui ne fait rien\n",
      "def foo():\n",
      "    pass"
     ],
     "language": "python",
     "metadata": {},
     "outputs": []
    },
    {
     "cell_type": "heading",
     "level": 3,
     "metadata": {},
     "source": [
      "Une boucle vide"
     ]
    },
    {
     "cell_type": "markdown",
     "metadata": {},
     "source": [
      "Pour prendre un second exemple un peu plus pratique, et pour anticiper un peu sur l'instruction `while` que nous verrons tr\u00e8s bient\u00f4t, voici un exemple d'une boucle vide, c'est \u00e0 dire sans corps, qui permet de \"d\u00e9piler\" dans une liste jusqu'\u00e0 l'obtention d'une certaine valeur:"
     ]
    },
    {
     "cell_type": "code",
     "collapsed": false,
     "input": [
      "liste = range(10)\n",
      "print 'avant', liste\n",
      "while liste.pop() != 5:\n",
      "    pass\n",
      "print 'apr\u00e8s', liste"
     ],
     "language": "python",
     "metadata": {},
     "outputs": []
    },
    {
     "cell_type": "markdown",
     "metadata": {},
     "source": [
      "On voit qu'ici encore l'instruction `pass` a toute son utilit\u00e9."
     ]
    },
    {
     "cell_type": "heading",
     "level": 2,
     "metadata": {},
     "source": [
      "Compl\u00e9ment - niveau interm\u00e9diaire"
     ]
    },
    {
     "cell_type": "heading",
     "level": 3,
     "metadata": {},
     "source": [
      "Un `if` sans `then`"
     ]
    },
    {
     "cell_type": "code",
     "collapsed": false,
     "input": [
      "# on utilise dans ces exemples une condition fausse\n",
      "condition = False"
     ],
     "language": "python",
     "metadata": {},
     "outputs": []
    },
    {
     "cell_type": "markdown",
     "metadata": {},
     "source": [
      "Imaginons qu'on parte d'un code hypoth\u00e9tique qui fasse ceci&nbsp;:"
     ]
    },
    {
     "cell_type": "code",
     "collapsed": false,
     "input": [
      "# la version initiale\n",
      "if condition:\n",
      "    print \"non\"\n",
      "else:\n",
      "    print \"bingo\""
     ],
     "language": "python",
     "metadata": {},
     "outputs": []
    },
    {
     "cell_type": "markdown",
     "metadata": {},
     "source": [
      "et que l'on veuille modifier ce code pour simplement supprimer l'impression de `non`. La syntaxe du langage **ne permet pas** de simplement commenter le premier `print`&nbsp;:"
     ]
    },
    {
     "cell_type": "code",
     "collapsed": false,
     "input": [
      "# si on commente le premier print\n",
      "# la syntaxe devient incorrecte\n",
      "if condition:\n",
      "#    print \"non\"\n",
      "else:\n",
      "    print \"bingo\""
     ],
     "language": "python",
     "metadata": {},
     "outputs": []
    },
    {
     "cell_type": "markdown",
     "metadata": {},
     "source": [
      "\u00c9videmment ceci pourrait \u00eatre r\u00e9crit autrement en inversant la condition, mais parfois on s'efforce de limiter au maximum l'impact d'une modification sur le code. Dans ce genre de situation on pr\u00e9f\u00e9rera \u00e9crire plut\u00f4t"
     ]
    },
    {
     "cell_type": "code",
     "collapsed": false,
     "input": [
      "# on peut s'en sortir en ajoutant une instruction pass\n",
      "if condition:\n",
      "#    print \"non\"\n",
      "    pass\n",
      "else:\n",
      "    print \"bingo\""
     ],
     "language": "python",
     "metadata": {},
     "outputs": []
    },
    {
     "cell_type": "heading",
     "level": 2,
     "metadata": {},
     "source": [
      "Compl\u00e9ment - niveau avanc\u00e9"
     ]
    },
    {
     "cell_type": "heading",
     "level": 3,
     "metadata": {},
     "source": [
      "Une classe vide"
     ]
    },
    {
     "cell_type": "markdown",
     "metadata": {},
     "source": [
      "Pour anticiper encore un peu plus sur les classes que nous verrons en cinqui\u00e8me semaine, on peut aussi utiliser `pass` pour d\u00e9finir une classe vide comme ceci"
     ]
    },
    {
     "cell_type": "code",
     "collapsed": false,
     "input": [
      "class Foo:\n",
      "    pass"
     ],
     "language": "python",
     "metadata": {},
     "outputs": []
    },
    {
     "cell_type": "code",
     "collapsed": false,
     "input": [
      "foo = Foo()"
     ],
     "language": "python",
     "metadata": {},
     "outputs": []
    }
   ],
   "metadata": {}
  }
 ]
}