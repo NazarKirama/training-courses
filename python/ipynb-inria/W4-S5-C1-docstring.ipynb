{
 "metadata": {
  "kernelspec": {
   "display_name": "Python 2",
   "language": "python",
   "name": "python2"
  },
  "notebookname": "docstring",
  "signature": "sha256:ec3cd2381796657597767e016d385d622f5d4d2440ee7230dc8e0df3e322cf50",
  "version": "2.0"
 },
 "nbformat": 3,
 "nbformat_minor": 0,
 "worksheets": [
  {
   "cells": [
    {
     "cell_type": "markdown",
     "metadata": {},
     "source": [
      "<span style=\"float:left;\">Licence CC BY-NC-ND</span><span style=\"float:right;\">Thierry Parmentelat &amp; Arnaud Legout,<img src=\"media/inria-25.png\" style=\"display:inline\"></span><br/>"
     ]
    },
    {
     "cell_type": "heading",
     "level": 1,
     "metadata": {},
     "source": [
      "Rappels sur *docstring*"
     ]
    },
    {
     "cell_type": "heading",
     "level": 2,
     "metadata": {},
     "source": [
      "Compl\u00e9ment - niveau basique"
     ]
    },
    {
     "cell_type": "heading",
     "level": 3,
     "metadata": {},
     "source": [
      "Comment documenter une fonction"
     ]
    },
    {
     "cell_type": "markdown",
     "metadata": {},
     "source": [
      "Pour rappel, il est recommand\u00e9 de toujours documenter les fonctions en ajoutant une cha\u00eene comme premi\u00e8re instruction. "
     ]
    },
    {
     "cell_type": "code",
     "collapsed": false,
     "input": [
      "def flatten(containers):\n",
      "    \"returns a list of the elements of the elements in containers\"\n",
      "    return [element for container in containers for element in container]"
     ],
     "language": "python",
     "metadata": {},
     "outputs": []
    },
    {
     "cell_type": "markdown",
     "metadata": {},
     "source": [
      "Cette information peut \u00eatre consult\u00e9e, soit interactivement"
     ]
    },
    {
     "cell_type": "code",
     "collapsed": false,
     "input": [
      "help(flatten)"
     ],
     "language": "python",
     "metadata": {},
     "outputs": []
    },
    {
     "cell_type": "markdown",
     "metadata": {},
     "source": [
      "Soit programmativement"
     ]
    },
    {
     "cell_type": "code",
     "collapsed": false,
     "input": [
      "flatten.__doc__"
     ],
     "language": "python",
     "metadata": {},
     "outputs": []
    },
    {
     "cell_type": "heading",
     "level": 3,
     "metadata": {},
     "source": [
      "Sous quel format ?"
     ]
    },
    {
     "cell_type": "markdown",
     "metadata": {},
     "source": [
      "L'usage est d'utiliser une cha\u00eene simple (d\u00e9limit\u00e9e par \" ou ') lorsque le *docstring* tient sur une seule ligne, comme ci-dessus."
     ]
    },
    {
     "cell_type": "markdown",
     "metadata": {},
     "source": [
      "Lorsque ce n'est pas le cas - et pour du vrai code, c'est rarement le cas - on utilise des cha\u00eenes multi-lignes (d\u00e9limit\u00e9es par \"\"\"ou '''). Dans ce cas le format est tr\u00e8s flexible, car le *docstring* est normalis\u00e9, comme on le voit sur ces deux exemples, o\u00f9 le rendu final est identique:"
     ]
    },
    {
     "cell_type": "code",
     "collapsed": false,
     "input": [
      "# un style de docstring multi-lignes\n",
      "def flatten(containers):\n",
      "    \"\"\"\n",
      "provided that containers is a list (or more generally an iterable)\n",
      "of elements that are themselves iterables, this function\n",
      "returns a list of the items in these elements\n",
      "    \"\"\"\n",
      "    return [element for container in containers for element in container]\n",
      "\n",
      "help(flatten)"
     ],
     "language": "python",
     "metadata": {},
     "outputs": []
    },
    {
     "cell_type": "code",
     "collapsed": false,
     "input": [
      "# un autre style, qui donne le m\u00eame r\u00e9sultat\n",
      "def flatten(containers):\n",
      "    \"\"\"provided that containers is a list (or more generally an iterable)\n",
      "    of elements that are themselves iterables, this function\n",
      "    returns a list of the items in these elements\n",
      "    \"\"\"\n",
      "    return [element for container in containers for element in container]\n",
      "\n",
      "help(flatten)"
     ],
     "language": "python",
     "metadata": {},
     "outputs": []
    },
    {
     "cell_type": "heading",
     "level": 3,
     "metadata": {},
     "source": [
      "Quelle information ?"
     ]
    },
    {
     "cell_type": "markdown",
     "metadata": {},
     "source": [
      "On remarquera que dans ces exemples, le *docstring* ne r\u00e9p\u00e8te pas le nom de la fonction ou des arguments (en mots savants, sa *signature*), et que \u00e7a n'emp\u00eache pas `help` de nous afficher cette information.\n",
      "\n",
      "Le [PEP 257](http://legacy.python.org/dev/peps/pep-0257/) qui donne les conventions autour du *docstring* pr\u00e9cise bien ceci:"
     ]
    },
    {
     "cell_type": "markdown",
     "metadata": {},
     "source": [
      "    The one-line docstring should NOT be a \"signature\" reiterating the function/method parameters (which can be obtained by introspection). Don't do:\n",
      "    \n",
      "    def function(a, b):\n",
      "        \"\"\"function(a, b) -> list\"\"\"\n",
      "     \n",
      "    <...>\n",
      "    \n",
      "    The preferred form for such a docstring would be something like:\n",
      "    \n",
      "    def function(a, b):\n",
      "        \"\"\"Do X and return a list.\"\"\"\n",
      "    (Of course \"Do X\" should be replaced by a useful description!)"
     ]
    },
    {
     "cell_type": "heading",
     "level": 3,
     "metadata": {},
     "source": [
      "Pour en savoir plus"
     ]
    },
    {
     "cell_type": "markdown",
     "metadata": {},
     "source": [
      "Vous trouverez tous les d\u00e9tails sur *docstring* dans le [PEP 257](http://legacy.python.org/dev/peps/pep-0257/)"
     ]
    }
   ],
   "metadata": {}
  }
 ]
}