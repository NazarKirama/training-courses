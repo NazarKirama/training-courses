{
 "metadata": {
  "kernelspec": {
   "display_name": "Python 2",
   "language": "python",
   "name": "python2"
  },
  "notebookname": "Enregistrements et instances",
  "signature": "sha256:25c7767c925a4d9d7e8cbd57f067dea5b7f3a7e18a34ae83b599dd9d28643ecb",
  "version": "2.0"
 },
 "nbformat": 3,
 "nbformat_minor": 0,
 "worksheets": [
  {
   "cells": [
    {
     "cell_type": "markdown",
     "metadata": {},
     "source": [
      "<span style=\"float:left;\">Licence CC BY-NC-ND</span><span style=\"float:right;\">Thierry Parmentelat &amp; Arnaud Legout,<img src=\"media/inria-25.png\" style=\"display:inline\"></span><br/>"
     ]
    },
    {
     "cell_type": "heading",
     "level": 1,
     "metadata": {},
     "source": [
      "Enregistrements et instances"
     ]
    },
    {
     "cell_type": "heading",
     "level": 2,
     "metadata": {},
     "source": [
      "Compl\u00e9ment - niveau basique"
     ]
    },
    {
     "cell_type": "heading",
     "level": 3,
     "metadata": {},
     "source": [
      "Un record impl\u00e9ment\u00e9 comme une instance de classe"
     ]
    },
    {
     "cell_type": "markdown",
     "metadata": {},
     "source": [
      "Nous allons reprendre ici la discussion commenc\u00e9e en semaine 3, o\u00f9 nous avions vu comment impl\u00e9menter un enregistrement (\u00e0 nouveau, un enregistrement est l'\u00e9quivalent, selon les langages, de *struct* ou *record*) comme un dictionnaire."
     ]
    },
    {
     "cell_type": "markdown",
     "metadata": {},
     "source": [
      "Notre exemple \u00e9tait celui des personnes, et nous avions alors \u00e9crit quelque chose comme"
     ]
    },
    {
     "cell_type": "code",
     "collapsed": false,
     "input": [
      "pierre = {'nom': 'pierre', 'age': 25, 'email': 'pierre@foo.com'}\n",
      "print pierre"
     ],
     "language": "python",
     "metadata": {},
     "outputs": []
    },
    {
     "cell_type": "markdown",
     "metadata": {},
     "source": [
      "Cette fois-ci nous allons impl\u00e9menter la m\u00eame abstraction, mais avec une classe `Personne` comme ceci"
     ]
    },
    {
     "cell_type": "code",
     "collapsed": false,
     "input": [
      "class Personne:\n",
      "    \"\"\"Une personne poss\u00e8de un nom, un \u00e2ge et une adresse e-mail\"\"\"\n",
      "    \n",
      "    def __init__(self, nom, age, email):\n",
      "        self.nom = nom\n",
      "        self.age = age\n",
      "        self.email = email\n",
      "        \n",
      "    def __repr__(self):\n",
      "        return \"[{nom}, {age} ans, email:{email}]\".\\\n",
      "            format(**vars(self))"
     ],
     "language": "python",
     "metadata": {},
     "outputs": []
    },
    {
     "cell_type": "markdown",
     "metadata": {},
     "source": [
      "Avant de d\u00e9tailler le code de cette classe, voyons comment on l'utiliserait :"
     ]
    },
    {
     "cell_type": "code",
     "collapsed": false,
     "input": [
      "personnes = [\n",
      "    # on se fie \u00e0 l'ordre des arguments dans le cr\u00e9ateur\n",
      "    Personne('pierre', 25, 'pierre@foo.com'),\n",
      "    # ou bien on peut \u00eatre explicite\n",
      "    Personne(nom='paul', age=18, email='paul@bar.com'),\n",
      "    # ou bien on m\u00e9lange\n",
      "    Personne('jacques', 52, email='jacques@cool.com'),\n",
      "]\n",
      "print personnes"
     ],
     "language": "python",
     "metadata": {},
     "outputs": []
    },
    {
     "cell_type": "markdown",
     "metadata": {},
     "source": [
      "Le code de cette classe devrait \u00eatre limpide \u00e0 pr\u00e9sent, sauf peut-\u00eatre la derni\u00e8re ligne de `__repr__`. On utilise ici [la fonction *builtin* `vars`](https://docs.python.org/2/library/functions.html#vars) qui retourne le dictionnaire des attributs d'un objet :"
     ]
    },
    {
     "cell_type": "code",
     "collapsed": false,
     "input": [
      "vars(personnes[0])"
     ],
     "language": "python",
     "metadata": {},
     "outputs": []
    },
    {
     "cell_type": "markdown",
     "metadata": {},
     "source": [
      "Ce qui, combin\u00e9 avec un passage d'arguments avec la forme `**`, nous permet d'\u00e9viter la r\u00e9p\u00e9tition des arguments \u00e0 utiliser dans l'appel \u00e0 `format`."
     ]
    },
    {
     "cell_type": "heading",
     "level": 3,
     "metadata": {},
     "source": [
      "Un dictionnaire pour indexer les enregistrements"
     ]
    },
    {
     "cell_type": "markdown",
     "metadata": {},
     "source": [
      "Nous pouvons appliquer exactement la m\u00eame technique d'indexation qu'avec les dictionnaires"
     ]
    },
    {
     "cell_type": "code",
     "collapsed": false,
     "input": [
      "index_par_nom = {personne.nom: personne for personne in personnes}"
     ],
     "language": "python",
     "metadata": {},
     "outputs": []
    },
    {
     "cell_type": "markdown",
     "metadata": {},
     "source": [
      "De fa\u00e7on \u00e0 pouvoir facilement localiser une personne"
     ]
    },
    {
     "cell_type": "code",
     "collapsed": false,
     "input": [
      "pierre = index_par_nom['pierre']\n",
      "print pierre"
     ],
     "language": "python",
     "metadata": {},
     "outputs": []
    },
    {
     "cell_type": "heading",
     "level": 3,
     "metadata": {},
     "source": [
      "Poursuivons l'analogie"
     ]
    },
    {
     "cell_type": "markdown",
     "metadata": {},
     "source": [
      "Pour marquer l'anniversaire d'une personne, nous pourrions faire"
     ]
    },
    {
     "cell_type": "code",
     "collapsed": false,
     "input": [
      "pierre.age += 1\n",
      "pierre"
     ],
     "language": "python",
     "metadata": {},
     "outputs": []
    },
    {
     "cell_type": "markdown",
     "metadata": {},
     "source": [
      "Cela dit, pour rester en ligne avec l'id\u00e9e d'encapsulation telle que nous l'avons vue dans un compl\u00e9ment r\u00e9cemment, il serait de beaucoup pr\u00e9f\u00e9rable de fournir une m\u00e9thode `anniversaire` pour cela, de fa\u00e7on \u00e0 pouvoir faire quelque chose comme "
     ]
    },
    {
     "cell_type": "markdown",
     "metadata": {},
     "source": [
      "    # attention cette cellule n'est pas \u00e9valuable\n",
      "    pierre.anniversaire()"
     ]
    },
    {
     "cell_type": "markdown",
     "metadata": {},
     "source": [
      "Dans la pratique on d\u00e9finit presque toujours toutes les m\u00e9thodes en m\u00eame temps que la classe. Ce qui veut dire que l'on ajouterait tout simplement la m\u00e9thode `anniversaire` dans le code qui d\u00e9finit la classe ci-dessus."
     ]
    },
    {
     "cell_type": "markdown",
     "metadata": {},
     "source": [
      "    # Cette cellule *n'est pas* \u00e9valuable\n",
      "    # elle donne seulement un aper\u00e7u de comment\n",
      "    # on aurait pu \u00e9crire la classe Personne\n",
      "    # pour lui ajouter une m\u00e9thode 'anniversaire'\n",
      "    class Personne:\n",
      "        \"\"\"Une personne poss\u00e8de un nom, un \u00e2ge et une adresse e-mail\"\"\"\n",
      "        \n",
      "        def __init__(self, nom, age, email):\n",
      "            ...\n",
      "    \n",
      "        def anniversaire(self):\n",
      "            self.age += 1"
     ]
    },
    {
     "cell_type": "heading",
     "level": 2,
     "metadata": {},
     "source": [
      "Compl\u00e9ment - niveau interm\u00e9diaire"
     ]
    },
    {
     "cell_type": "markdown",
     "metadata": {},
     "source": [
      "Nous allons toutefois profiter de cet exemple pour montrer comment il est \u00e9galement possible d'ajouter cette m\u00e9thode *\u00e0 la vol\u00e9e*, en tirant profit du fait que **les m\u00e9thodes sont impl\u00e9ment\u00e9es comme des attributs de l'objet classe**."
     ]
    },
    {
     "cell_type": "markdown",
     "metadata": {},
     "source": [
      "Ainsi, on peut \u00e9tendre l'objet `classe` lui-m\u00eame dynamiquement comme ceci"
     ]
    },
    {
     "cell_type": "code",
     "collapsed": false,
     "input": [
      "def anniversaire(self):\n",
      "    \"Incr\u00e9mente l'\u00e2ge de la personne\"\n",
      "    self.age += 1\n",
      "\n",
      "Personne.anniversaire = anniversaire"
     ],
     "language": "python",
     "metadata": {},
     "outputs": []
    },
    {
     "cell_type": "markdown",
     "metadata": {},
     "source": [
      "Ce code commence par d\u00e9finir une fonction un utilisant `def` et la signature de la m\u00e9thode. Comme cette m\u00e9thode ne prend pas d'argument, la fonction accepte un argument `self`; exactement comme si on avait d\u00e9fini la m\u00e9thode dans l'instruction `class`. \n",
      "\n",
      "Ensuite, il suffit d'affecter la fonction ainsi d\u00e9finie \u00e0 **l'attribut `anniversaire`** de l'objet classe.\n",
      "\n",
      "Vous voyez que c'est tr\u00e8s simple, et \u00e0 pr\u00e9sent la classe a connaissance de cette m\u00e9thode exactement comme si on l'avait d\u00e9finie dans la clause `class`, comme le montre l'aide"
     ]
    },
    {
     "cell_type": "code",
     "collapsed": false,
     "input": [
      "help(Personne)"
     ],
     "language": "python",
     "metadata": {},
     "outputs": []
    },
    {
     "cell_type": "markdown",
     "metadata": {},
     "source": [
      "Et on peut \u00e0 pr\u00e9sent utiliser cette m\u00e9thode"
     ]
    },
    {
     "cell_type": "code",
     "collapsed": false,
     "input": [
      "pierre.anniversaire()\n",
      "pierre"
     ],
     "language": "python",
     "metadata": {},
     "outputs": []
    }
   ],
   "metadata": {}
  }
 ]
}