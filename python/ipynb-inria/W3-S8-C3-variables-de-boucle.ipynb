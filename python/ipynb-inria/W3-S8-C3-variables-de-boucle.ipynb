{
 "metadata": {
  "kernelspec": {
   "display_name": "Python 2",
   "language": "python",
   "name": "python2"
  },
  "notebookname": "variables de boucle",
  "signature": "sha256:6d7ac1de530b0f7e5322cfc6a5bbec2ebb8d6606a85413c5cd882da8a3f46921",
  "version": "2.0"
 },
 "nbformat": 3,
 "nbformat_minor": 0,
 "worksheets": [
  {
   "cells": [
    {
     "cell_type": "markdown",
     "metadata": {},
     "source": [
      "<span style=\"float:left;\">Licence CC BY-NC-ND</span><span style=\"float:right;\">Thierry Parmentelat &amp; Arnaud Legout,<img src=\"media/inria-25.png\" style=\"display:inline\"></span><br/>"
     ]
    },
    {
     "cell_type": "heading",
     "level": 1,
     "metadata": {},
     "source": [
      "Visibilit\u00e9 des variables de boucle"
     ]
    },
    {
     "cell_type": "heading",
     "level": 2,
     "metadata": {},
     "source": [
      "Compl\u00e9ment - niveau basique"
     ]
    },
    {
     "cell_type": "heading",
     "level": 3,
     "metadata": {},
     "source": [
      "Une astuce"
     ]
    },
    {
     "cell_type": "markdown",
     "metadata": {},
     "source": [
      "Dans ce compl\u00e9ment, nous allons beaucoup jouer avec le fait qu'une variable soit d\u00e9finie ou non. Pour nous simplifier la vie, et surtout rendre les cellules plus ind\u00e9pendantes les unes des autres si vous devez les rejouer, nous allons utiliser la formule un peu magique suivante&nbsp;:"
     ]
    },
    {
     "cell_type": "code",
     "collapsed": false,
     "input": [
      "# on d\u00e9truit la variable i si elle existe\n",
      "if 'i' in locals(): \n",
      "    del i"
     ],
     "language": "python",
     "metadata": {},
     "outputs": []
    },
    {
     "cell_type": "markdown",
     "metadata": {},
     "source": [
      "qui repose d'une part sur l'instruction `del` que nous avons vue un peu plus t\u00f4t cette semaine, et sur la fonction *builtin* `locals` que nous verrons plus tard; cette formule a l'avantage qu'on peut l'ex\u00e9cuter dans n'importe quel contexte, que `i` soit d\u00e9finie ou non."
     ]
    },
    {
     "cell_type": "heading",
     "level": 3,
     "metadata": {},
     "source": [
      "Une variable de boucle reste d\u00e9finie au-del\u00e0 de la boucle"
     ]
    },
    {
     "cell_type": "markdown",
     "metadata": {},
     "source": [
      "Cela peut para\u00eetre \u00e9vident, mais explicitons-le tout de m\u00eame&nbsp;: une variable de boucle est d\u00e9finie (assign\u00e9e) dans la boucle et **reste *visible*** une fois la boucle termin\u00e9e. Le plus simple est de le voir sur un exemple&nbsp;:"
     ]
    },
    {
     "cell_type": "code",
     "collapsed": false,
     "input": [
      "# La variable 'i' n'est pas d\u00e9finie\n",
      "try:\n",
      "    i\n",
      "except NameError as e:\n",
      "    print e"
     ],
     "language": "python",
     "metadata": {},
     "outputs": []
    },
    {
     "cell_type": "code",
     "collapsed": false,
     "input": [
      "# on fait une boucle sur i\n",
      "for i in [0]:\n",
      "    pass\n",
      "\n",
      "# maintenant i est d\u00e9finie\n",
      "i"
     ],
     "language": "python",
     "metadata": {},
     "outputs": []
    },
    {
     "cell_type": "markdown",
     "metadata": {},
     "source": [
      "On dit que la variable *fuite* (en anglais \"*leak*\"), dans ce sens qu'elle pollue l'environnement dans lequel est lanc\u00e9e la boucle."
     ]
    },
    {
     "cell_type": "markdown",
     "metadata": {},
     "source": [
      "On peut \u00eatre tent\u00e9 de tirer profit de ce trait, en lisant la valeur de la variable apr\u00e8s la boucle;  l'objet de ce compl\u00e9ment est de vous inciter \u00e0 la prudence, et d'attirer votre attention sur certains points possiblement source d'erreurs."
     ]
    },
    {
     "cell_type": "heading",
     "level": 3,
     "metadata": {},
     "source": [
      "Attention aux boucles vides"
     ]
    },
    {
     "cell_type": "markdown",
     "metadata": {},
     "source": [
      "Tout d'abord, il faut faire attention \u00e0 ne pas \u00e9crire du code qui d\u00e9pende de ce trait **si la boucle peut \u00eatre vide**. En effet, si la boucle ne s'ex\u00e9cute pas du tout, eh bien la variable n'est pas affect\u00e9e. L\u00e0 aussi c'est \u00e9vident, mais \u00e7a peut l'\u00eatre moins quand on lit du code r\u00e9el, comme par exemple&nbsp;:"
     ]
    },
    {
     "cell_type": "code",
     "collapsed": false,
     "input": [
      "# on d\u00e9truit la variable i si elle existe\n",
      "if 'i' in locals(): \n",
      "    del i"
     ],
     "language": "python",
     "metadata": {},
     "outputs": []
    },
    {
     "cell_type": "code",
     "collapsed": false,
     "input": [
      "def length(l):\n",
      "    for i, x in enumerate(l):\n",
      "        pass\n",
      "    return i + 1\n",
      "\n",
      "length([1, 2, 3])"
     ],
     "language": "python",
     "metadata": {},
     "outputs": []
    },
    {
     "cell_type": "markdown",
     "metadata": {},
     "source": [
      "\u00c7a a l'air correct, sauf que&nbsp;:"
     ]
    },
    {
     "cell_type": "code",
     "collapsed": false,
     "input": [
      "length([])"
     ],
     "language": "python",
     "metadata": {},
     "outputs": []
    },
    {
     "cell_type": "markdown",
     "metadata": {},
     "source": [
      "Ce r\u00e9sultat m\u00e9rite une explication. Nous verrons plus tard, en semaine 4, l'exception `UnboundLocalError`, mais pour le moment sachez qu'elle se produit lorsque l'on a dans une fonction une variable locale et une variable globale de m\u00eame nom. Alors, pourquoi pour l'appel `length([1, 2, 3])` il n'y a pas d'exception, alors que pour l'appel `length([])` il y a une exception&nbsp;? Cela est li\u00e9 \u00e0 la mani\u00e8re dont python d\u00e9termine qu'une variable est locale. \n",
      "\n",
      "Une variable est locale dans une fonction si elle est assign\u00e9e dans la fonction explicitement (avec une op\u00e9ration d'affectation) ou implicitement (par exemple avec une boucle for comme ici), nous reviendrons sur ce point un peu plus tard. Mais pour les fonctions, pour une raison d'efficacit\u00e9, une variable est d\u00e9finie comme locale \u00e0 la phase de pr\u00e9-compilation, c'est-\u00e0-dire avant l'ex\u00e9cution du code. Par cons\u00e9quent, le pr\u00e9-compilateur ne peut pas savoir quel sera l'argument pass\u00e9 \u00e0 la fonction, il peut simplement savoir qu'il y a une boucle `for` utilisant la variable `i`, donc, pour lui, `i` est locale pour toute la fonction. \n",
      "\n",
      "Lors du premier appel, on passe une liste \u00e0 la fonction, liste qui est parcourue par la boucle `for`. En sortie de boucle, on a bien une variale locale `i` qui vaut 3. Lors du deuxi\u00e8me appel, on passe une liste vide \u00e0 la fonction, la boucle `for` ne peut rien parcourir, donc elle retourne imm\u00e9diatement. Lorsque l'on arrive \u00e0 la ligne `return i + 1` de la fonction, la variable `i` n'a pas de valeur (on doit donc chercher `i` dans le module), mais `i` a \u00e9t\u00e9 d\u00e9finie par le pr\u00e9-compilateur comme \u00e9tant locale, on a donc dans la m\u00eame fonction une variable `i` locale et une r\u00e9f\u00e9rence \u00e0 une variable `i` globale, on a donc l'exception `UnboundLocalError`."
     ]
    },
    {
     "cell_type": "heading",
     "level": 3,
     "metadata": {},
     "source": [
      "Comment faire alors ?"
     ]
    },
    {
     "cell_type": "heading",
     "level": 5,
     "metadata": {},
     "source": [
      "Utiliser une autre variable"
     ]
    },
    {
     "cell_type": "markdown",
     "metadata": {},
     "source": [
      "La premi\u00e8re voie consiste \u00e0 d\u00e9clarer une variable externe \u00e0 la boucle et \u00e0 l'affecter \u00e0 l'int\u00e9rieur de la boucle, c'est-\u00e0-dire&nbsp;:"
     ]
    },
    {
     "cell_type": "code",
     "collapsed": false,
     "input": [
      "candidates = [3, -12, 1, 8]"
     ],
     "language": "python",
     "metadata": {},
     "outputs": []
    },
    {
     "cell_type": "code",
     "collapsed": false,
     "input": [
      "# plut\u00f4t que de faire ceci\n",
      "for item in candidates:\n",
      "    if (item**2 + 2 * item - 3) == 0:\n",
      "        break\n",
      "print 'trouv\u00e9 solution', item"
     ],
     "language": "python",
     "metadata": {},
     "outputs": []
    },
    {
     "cell_type": "code",
     "collapsed": false,
     "input": [
      "# il vaut mieux faire ceci\n",
      "solution = None\n",
      "for item in candidates:\n",
      "    if ( item**2 + 2 * item - 3 ) == 0:\n",
      "        solution = item\n",
      "        break\n",
      "\n",
      "print 'trouv\u00e9 solution',solution"
     ],
     "language": "python",
     "metadata": {},
     "outputs": []
    },
    {
     "cell_type": "heading",
     "level": 5,
     "metadata": {},
     "source": [
      "Au minimum initialiser la variable"
     ]
    },
    {
     "cell_type": "markdown",
     "metadata": {},
     "source": [
      "Au minimum, si vous utilisez la variable de boucle apr\u00e8s la boucle, il est vivement conseill\u00e9 de l'**initialiser** explicitement **avant** la boucle, pour vous pr\u00e9munir contre les boucles vides, comme ceci&nbsp;:"
     ]
    },
    {
     "cell_type": "code",
     "collapsed": false,
     "input": [
      "# une version plus robuste de la fonction length de tout \u00e0 l'heure\n",
      "def length(l):\n",
      "    # on initialise i explicitement pour le cas o\u00f9 l est vide\n",
      "    i = -1\n",
      "    for i, x in enumerate(l):\n",
      "        pass\n",
      "    # comme cela i est toujours d\u00e9clar\u00e9e\n",
      "    return i + 1\n",
      "\n",
      "length([])"
     ],
     "language": "python",
     "metadata": {},
     "outputs": []
    },
    {
     "cell_type": "heading",
     "level": 3,
     "metadata": {},
     "source": [
      "Les compr\u00e9hensions"
     ]
    },
    {
     "cell_type": "markdown",
     "metadata": {},
     "source": [
      "Un ph\u00e9nom\u00e8ne analogue se produit avec les compr\u00e9hensions&nbsp;:"
     ]
    },
    {
     "cell_type": "code",
     "collapsed": false,
     "input": [
      "# on d\u00e9truit la variable i si elle existe\n",
      "if 'i' in locals(): \n",
      "    del i"
     ],
     "language": "python",
     "metadata": {},
     "outputs": []
    },
    {
     "cell_type": "code",
     "collapsed": false,
     "input": [
      "# en python2 les variables de compr\u00e9hension fuitent\n",
      "# mais ce n'est plus le cas en python3\n",
      "[i**2 for i in range(3)]\n",
      "\n",
      "i"
     ],
     "language": "python",
     "metadata": {},
     "outputs": []
    },
    {
     "cell_type": "heading",
     "level": 3,
     "metadata": {},
     "source": [
      "python3"
     ]
    },
    {
     "cell_type": "markdown",
     "metadata": {},
     "source": [
      "Pour conclure, notez bien que ce comportement a \u00e9t\u00e9 modifi\u00e9 en python3 de la fa\u00e7on suivante&nbsp;:\n",
      " * les variables de **compr\u00e9hension** ne **fuitent plus**, c'est un changement de s\u00e9mantique&nbsp;;\n",
      " * mais les variables de boucle conservent la m\u00eame s\u00e9mantique.\n",
      " \n",
      "Sans doute une raison suppl\u00e9mentaire pour \u00e9viter d'\u00e9crire du code qui repose sur une variable qui fuite."
     ]
    }
   ],
   "metadata": {}
  }
 ]
}