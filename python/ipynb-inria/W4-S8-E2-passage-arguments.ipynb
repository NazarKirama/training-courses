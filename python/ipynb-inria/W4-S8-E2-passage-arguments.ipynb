{
 "metadata": {
  "kernelspec": {
   "display_name": "Python 2",
   "language": "python",
   "name": "python2"
  },
  "notebookname": "Passage d'arguments",
  "signature": "sha256:4f83d4b70713b0acf9a5380f59154bc0f9ee21457716e2e09a7c0cabf0737215",
  "version": "2.0"
 },
 "nbformat": 3,
 "nbformat_minor": 0,
 "worksheets": [
  {
   "cells": [
    {
     "cell_type": "markdown",
     "metadata": {},
     "source": [
      "<span style=\"float:left;\">Licence CC BY-NC-ND</span><span style=\"float:right;\">Thierry Parmentelat &amp; Arnaud Legout,<img src=\"media/inria-25.png\" style=\"display:inline\"></span><br/>"
     ]
    },
    {
     "cell_type": "heading",
     "level": 1,
     "metadata": {},
     "source": [
      "Passage d'arguments"
     ]
    },
    {
     "cell_type": "heading",
     "level": 2,
     "metadata": {},
     "source": [
      "Exercice - niveau basique"
     ]
    },
    {
     "cell_type": "code",
     "collapsed": false,
     "input": [
      "# pour charger l'exercice\n",
      "from corrections.w4s8_fun_args import exo_distance"
     ],
     "language": "python",
     "metadata": {},
     "outputs": []
    },
    {
     "cell_type": "markdown",
     "metadata": {},
     "source": [
      "Vous devez \u00e9crire une fonction `distance` qui prend un nombre quelconque d'arguments num\u00e9riques non complexes, et qui retourne la racine carr\u00e9e de la somme des carr\u00e9s des arguments. \n",
      "\n",
      "Plus pr\u00e9cis\u00e9ment :\n",
      "$distance$ ($x_1$, ..., $x_n$) = $\\sqrt{\\sum x_i^2}$\n",
      "\n",
      "Par convention on fixe que $ distance() = 0 $"
     ]
    },
    {
     "cell_type": "code",
     "collapsed": false,
     "input": [
      "# des exemples\n",
      "exo_distance.exemple()"
     ],
     "language": "python",
     "metadata": {},
     "outputs": []
    },
    {
     "cell_type": "code",
     "collapsed": false,
     "input": [
      "# ATTENTION vous devez aussi d\u00e9finir les arguments de la fonction\n",
      "def distance(votre, signature):\n",
      "    \"<votre code>\""
     ],
     "language": "python",
     "metadata": {},
     "outputs": []
    },
    {
     "cell_type": "code",
     "collapsed": false,
     "input": [
      "# la correction\n",
      "exo_distance.correction(distance)"
     ],
     "language": "python",
     "metadata": {},
     "outputs": []
    },
    {
     "cell_type": "heading",
     "level": 2,
     "metadata": {},
     "source": [
      "Exercice - niveau interm\u00e9daire"
     ]
    },
    {
     "cell_type": "code",
     "collapsed": false,
     "input": [
      "# pour charger l'exercice\n",
      "from corrections.w4s8_fun_args import exo_doubler_premier"
     ],
     "language": "python",
     "metadata": {},
     "outputs": []
    },
    {
     "cell_type": "markdown",
     "metadata": {},
     "source": [
      "On vous demande d'\u00e9crire une fonction qui prend en argument\n",
      " * une fonction `f`, dont vous savez seulement que le premier argument est num\u00e9rique, et qu'elle ne prend **que des arguments positionnels** (sans valeur par d\u00e9faut)\n",
      " * un nombre quelconque - mais au moins 1 - d'arguments positionnels `args`, dont on sait qu'ils pourraient \u00eatre pass\u00e9s \u00e0 `f`\n",
      " \n",
      "Et on attend en retour le r\u00e9sultat de `f` appliqu\u00e9s \u00e0 tous ces arguments, mais avec le premier d'entre eux multipl\u00e9 par deux.\n",
      "\n",
      "Formellement: doubler_premier(f, $x_1$, $x_2$,..., $x_n$) = f($2*x_1$, $x_2$,..., $x_n$)"
     ]
    },
    {
     "cell_type": "code",
     "collapsed": false,
     "input": [
      "# quelques exemples de ce qui est attendu.\n",
      "# add et mul sont les op\u00e9rateurs binaires du module operator, \n",
      "# soit l'addition et la multiplication respectivement.\n",
      "# distance est la fonction de l'exercice pr\u00e9c\u00e9dent.\n",
      "exo_doubler_premier.exemple()"
     ],
     "language": "python",
     "metadata": {},
     "outputs": []
    },
    {
     "cell_type": "code",
     "collapsed": false,
     "input": [
      "# ATTENTION vous devez aussi d\u00e9finir les arguments de la fonction\n",
      "def doubler_premier(votre, signature):\n",
      "    \"<votre_code>\""
     ],
     "language": "python",
     "metadata": {},
     "outputs": []
    },
    {
     "cell_type": "code",
     "collapsed": false,
     "input": [
      "exo_doubler_premier.correction(doubler_premier)"
     ],
     "language": "python",
     "metadata": {},
     "outputs": []
    },
    {
     "cell_type": "heading",
     "level": 2,
     "metadata": {},
     "source": [
      "Exercice - niveau interm\u00e9daire"
     ]
    },
    {
     "cell_type": "code",
     "collapsed": false,
     "input": [
      "# Pour charger l'exercice\n",
      "from corrections.w4s8_fun_args import exo_doubler_premier_kwds"
     ],
     "language": "python",
     "metadata": {},
     "outputs": []
    },
    {
     "cell_type": "markdown",
     "metadata": {},
     "source": [
      "Vous devez maintenant \u00e9crire une deuxi\u00e8me version qui peut fonctionner avec une fonction quelconque (elle peut avoir des arguments nomm\u00e9s avec valeurs par d\u00e9faut).\n",
      "\n",
      "La fonction `doubler_premier_kwds` que l'on vous demande d'\u00e9crire maintenant prend donc un premier arguments `f` qui est une fonction, un second argument positionnel qui est le premier argument \u00e0 `f` (et donc qu'il faut doubler), et le reste des arguments \u00e0 f, qui donc, \u00e0 nouveau, peuvent \u00eatre nomm\u00e9s ou non."
     ]
    },
    {
     "cell_type": "code",
     "collapsed": false,
     "input": [
      "# quelques exemples de ce qui est attendu\n",
      "# avec ces deux fonctions \n",
      "\n",
      "def addn(x, y=0, z=0):\n",
      "    return x + y + z\n",
      "\n",
      "def muln(x=1, y=1, z=1):\n",
      "    return x * y * z\n",
      "\n",
      "exo_doubler_premier_kwds.exemple()"
     ],
     "language": "python",
     "metadata": {},
     "outputs": []
    },
    {
     "cell_type": "markdown",
     "metadata": {},
     "source": [
      "Vous remarquerez que l'on n'a pas mentionn\u00e9 dans cette liste d'exemples\n",
      "\n",
      "    doubler_premier_kwds (muln, x=1, y=1)\n",
      "   \n",
      "que l'on ne demande pas de supporter puisqu'il est bien pr\u00e9cis\u00e9 que doubler_premier a deux arguments positionnels."
     ]
    },
    {
     "cell_type": "code",
     "collapsed": false,
     "input": [
      "# ATTENTION vous devez aussi d\u00e9finir les arguments de la fonction\n",
      "def doubler_premier_kwds(votre, signature):\n",
      "    \"<votre code>\""
     ],
     "language": "python",
     "metadata": {},
     "outputs": []
    },
    {
     "cell_type": "code",
     "collapsed": false,
     "input": [
      "exo_doubler_premier_kwds.correction(doubler_premier_kwds)"
     ],
     "language": "python",
     "metadata": {},
     "outputs": []
    },
    {
     "cell_type": "heading",
     "level": 2,
     "metadata": {},
     "source": [
      "Exercice - niveau avanc\u00e9"
     ]
    },
    {
     "cell_type": "code",
     "collapsed": false,
     "input": [
      "# Pour charger l'exercice\n",
      "from corrections.w4s8_fun_args import exo_compare_args"
     ],
     "language": "python",
     "metadata": {},
     "outputs": []
    },
    {
     "cell_type": "heading",
     "level": 3,
     "metadata": {},
     "source": [
      "`compare` revisit\u00e9e"
     ]
    },
    {
     "cell_type": "markdown",
     "metadata": {},
     "source": [
      "Nous avons d\u00e9j\u00e0 fait un peu plus t\u00f4t cette semaine, au sujet de la programmation fonctionnelle, un exercice au sujet d'une fonction `compare` qui comparait le r\u00e9sultat de deux fonctions, toutes deux \u00e0 un argument, sur une liste de valeurs d'entr\u00e9e."
     ]
    },
    {
     "cell_type": "markdown",
     "metadata": {},
     "source": [
      "Nous reprenons ici la m\u00eame id\u00e9e, mais en levant l'hypoth\u00e8se que les deux fonctions attendent un seul argument. Il faut \u00e9crire une nouvelle fonction `compare_args` qui prend en entr\u00e9e\n",
      " * deux fonctions `f` et `g` comme la derni\u00e8re fois,\n",
      " * mais cette fois une liste (ou un tuple) `argument_tuples` de **tuples** d'arguments d'entr\u00e9e\n",
      " \n",
      " Et comme la fois pr\u00e9c\u00e9dente on attend en retour une liste `retour` de bool\u00e9ens, de m\u00eame taille que `argument_tuples`, telle que, si `len(argument_tuples)` vaut $n$:\n",
      " \n",
      "$\\forall i \\in \\{1,...,n\\}$, si `argument_tuples[i]` == [ $a_1$,...,$a_j$ ], alors\n",
      "\n",
      "`retour(i) == True` $\\Longleftrightarrow$  f ($a_1$,...,$a_j$) == g ($a_1$,...,$a_j$)"
     ]
    },
    {
     "cell_type": "markdown",
     "metadata": {},
     "source": [
      "Pour information, dans tous cet exercice:\n",
      " * `factorial` correspond \u00e0 `math.factorial`\n",
      " * `fact` et `broken_fact` sont des fonctions impl\u00e9ment\u00e9es par nos soins, la premi\u00e8re est correcte alors que la seconde retourne 0 au lieu de 1 pour l'entr\u00e9e 0.\n",
      " * `add` correspond \u00e0 l'addition binaire `operator.add`\n",
      " * `plus` et `broken_plus` sont des additions binaires \u00e9crites par nous, l'une \u00e9tant correcte et l'autre \u00e9tant fausse lorsque le premier argument est nul."
     ]
    },
    {
     "cell_type": "code",
     "collapsed": false,
     "input": [
      "exo_compare_args.exemple()"
     ],
     "language": "python",
     "metadata": {},
     "outputs": []
    },
    {
     "cell_type": "code",
     "collapsed": false,
     "input": [
      "# ATTENTION vous devez aussi d\u00e9finir les arguments de la fonction\n",
      "def compare_args(votre, signature):\n",
      "    \"<votre_code>\""
     ],
     "language": "python",
     "metadata": {},
     "outputs": []
    },
    {
     "cell_type": "code",
     "collapsed": true,
     "input": [
      "exo_compare_args.correction(compare_args)"
     ],
     "language": "python",
     "metadata": {},
     "outputs": []
    }
   ],
   "metadata": {}
  }
 ]
}