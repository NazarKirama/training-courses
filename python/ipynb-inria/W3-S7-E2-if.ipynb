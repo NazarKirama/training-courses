{
 "metadata": {
  "kernelspec": {
   "display_name": "Python 2",
   "language": "python",
   "name": "python2"
  },
  "notebookname": "exercices sur if",
  "signature": "sha256:70a209b3680c5709b79ab1ae8294d5bc9d994a1c9e830a5859bdb9c1678134a2",
  "version": "2.0"
 },
 "nbformat": 3,
 "nbformat_minor": 0,
 "worksheets": [
  {
   "cells": [
    {
     "cell_type": "markdown",
     "metadata": {},
     "source": [
      "<span style=\"float:left;\">Licence CC BY-NC-ND</span><span style=\"float:right;\">Thierry Parmentelat &amp; Arnaud Legout,<img src=\"media/inria-25.png\" style=\"display:inline\"></span><br/>"
     ]
    },
    {
     "cell_type": "heading",
     "level": 1,
     "metadata": {},
     "source": [
      "L'instruction `if`"
     ]
    },
    {
     "cell_type": "heading",
     "level": 2,
     "metadata": {},
     "source": [
      "Exercice - niveau basique"
     ]
    },
    {
     "cell_type": "heading",
     "level": 3,
     "metadata": {},
     "source": [
      "R\u00e9partiteur (1)"
     ]
    },
    {
     "cell_type": "code",
     "collapsed": false,
     "input": [
      "# on charge l'exercice\n",
      "from corrections.w3s7_if import exo_dispatch1"
     ],
     "language": "python",
     "metadata": {},
     "outputs": []
    },
    {
     "cell_type": "markdown",
     "metadata": {},
     "source": [
      "On vous demande d'\u00e9crire une fonction `dispatch1` qui prend en argument deux entiers `a` et `b` et qui renvoie selon les cas"
     ]
    },
    {
     "cell_type": "markdown",
     "metadata": {},
     "source": [
      "$\\begin{array}{c|c|c}\n",
      "\\ & a\\  pair & a\\ impair \\\\\n",
      "\\hline\n",
      "b\\ pair & a^2+b^2 & (a-1)*b\\\\\n",
      "\\hline\n",
      "b\\ impair & a*(b-1)& a^2-b^2\\\\\n",
      "\\end{array}\n",
      "$"
     ]
    },
    {
     "cell_type": "code",
     "collapsed": false,
     "input": [
      "# un petit exemples\n",
      "exo_dispatch1.exemple()"
     ],
     "language": "python",
     "metadata": {},
     "outputs": []
    },
    {
     "cell_type": "code",
     "collapsed": false,
     "input": [
      "def dispatch1(a, b):\n",
      "    \"<votre_code>\""
     ],
     "language": "python",
     "metadata": {},
     "outputs": []
    },
    {
     "cell_type": "code",
     "collapsed": false,
     "input": [
      "# pour v\u00e9rifier votre code\n",
      "exo_dispatch1.correction(dispatch1)"
     ],
     "language": "python",
     "metadata": {},
     "outputs": []
    },
    {
     "cell_type": "heading",
     "level": 2,
     "metadata": {},
     "source": [
      "Exercice - niveau basique"
     ]
    },
    {
     "cell_type": "heading",
     "level": 3,
     "metadata": {},
     "source": [
      "R\u00e9partiteur (2)"
     ]
    },
    {
     "cell_type": "code",
     "collapsed": false,
     "input": [
      "# chargement de l'exercice\n",
      "from corrections.w3s7_if import exo_dispatch2"
     ],
     "language": "python",
     "metadata": {},
     "outputs": []
    },
    {
     "cell_type": "markdown",
     "metadata": {},
     "source": [
      "Dans une seconde version de cet exercice, on vous demande d'\u00e9crire une fonction `dispatch2` qui prend en arguments\n",
      " * `a` et `b` deux entiers\n",
      " * `A` et `B` deux ensembles (chacun pouvant \u00eatre mat\u00e9rialis\u00e9 par un ensemble, une liste ou un tuple)\n",
      "\n",
      "et qui renvoie selons les cas\n",
      "\n",
      "$\\begin{array}{c|c|c}\n",
      "\\ & a \\in A & a\\notin A \\\\\n",
      "\\hline\n",
      "b\\in B & a^2+b^2 & (a-1)*b\\\\\n",
      "\\hline\n",
      "b\\notin B & a*(b-1)& a^2+b^2\\\\\n",
      "\\end{array}\n",
      "$"
     ]
    },
    {
     "cell_type": "code",
     "collapsed": false,
     "input": [
      "def dispatch2(a, b, A, B):\n",
      "    \"<votre_code>\""
     ],
     "language": "python",
     "metadata": {},
     "outputs": []
    },
    {
     "cell_type": "code",
     "collapsed": false,
     "input": [
      "# pour v\u00e9rifier votre code\n",
      "exo_dispatch2.correction(dispatch2)"
     ],
     "language": "python",
     "metadata": {},
     "outputs": []
    }
   ],
   "metadata": {}
  }
 ]
}