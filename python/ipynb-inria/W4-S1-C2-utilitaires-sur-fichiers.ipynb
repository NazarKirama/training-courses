{
 "metadata": {
  "kernelspec": {
   "display_name": "Python 2",
   "language": "python",
   "name": "python2"
  },
  "notebookname": "Fichiers et utilitaires",
  "signature": "sha256:a977a3795f3ef5f0ab0bbb364b8fd0635e0890fbad020ae1c1fa02b70ca73e08",
  "version": "2.0"
 },
 "nbformat": 3,
 "nbformat_minor": 0,
 "worksheets": [
  {
   "cells": [
    {
     "cell_type": "markdown",
     "metadata": {},
     "source": [
      "<span style=\"float:left;\">Licence CC BY-NC-ND</span><span style=\"float:right;\">Thierry Parmentelat &amp; Arnaud Legout,<img src=\"media/inria-25.png\" style=\"display:inline\"></span><br/>"
     ]
    },
    {
     "cell_type": "heading",
     "level": 1,
     "metadata": {},
     "source": [
      "Fichiers et utilitaires"
     ]
    },
    {
     "cell_type": "heading",
     "level": 2,
     "metadata": {},
     "source": [
      "Compl\u00e9ment - niveau basique"
     ]
    },
    {
     "cell_type": "markdown",
     "metadata": {},
     "source": [
      "Nous pr\u00e9sentons dans ce compl\u00e9ment quelques utilitaires autour des fichiers. Il ne s'agit pas d'outils li\u00e9s au type `file` \u00e0 proprement parler, mais qui sont utiles malgr\u00e9 tout dans le contexte de la manipulation de fichiers."
     ]
    },
    {
     "cell_type": "heading",
     "level": 3,
     "metadata": {},
     "source": [
      "Le module `os.path`"
     ]
    },
    {
     "cell_type": "markdown",
     "metadata": {},
     "source": [
      "Ce module propose un certain nombre d'utilitaires \u00e0 large spectre sur les fichiers, et entre autres les choses suivantes."
     ]
    },
    {
     "cell_type": "heading",
     "level": 5,
     "metadata": {},
     "source": [
      "Manipulations de noms de fichier"
     ]
    },
    {
     "cell_type": "markdown",
     "metadata": {},
     "source": [
      "Pour commencer, nous vous recommandons d'utiliser le module `os.path` pour manipuler les noms de fichier, surtout si vous \u00e9crivez du code multi-plateforme. Voyez en particulier dans cette cat\u00e9gorie\n",
      "\n",
      " * `os.path.join` ajoute '/' ou '\\' entre deux morceaux de chemin, selon l'OS\n",
      " * `os.path.basename` trouve le nom de fichier dans un chemin\n",
      " * `os.path.dirname` trouve le nom du directory dans un chemin\n",
      " * `os.path.abspath` calcule un chemin absolu, c'est-\u00e0-dire \u00e0 partir de la racine du filesystem "
     ]
    },
    {
     "cell_type": "heading",
     "level": 5,
     "metadata": {},
     "source": [
      "Existence de fichier / m\u00e9tadonn\u00e9es"
     ]
    },
    {
     "cell_type": "markdown",
     "metadata": {},
     "source": [
      "Les fonctions suivantes retournent des informations obtenues aupr\u00e8s de l'OS dans les m\u00e9tadonn\u00e9es associ\u00e9es aux fichiers (concr\u00e8tement, sans ouvrir le fichier)."
     ]
    },
    {
     "cell_type": "markdown",
     "metadata": {},
     "source": [
      " * `os.path.exists` pour savoir si un chemin existe ou pas (fichier ou r\u00e9pertoire)\n",
      " * `os.path.isfile` (et `isdir`) pour savoir si un chemin est un fichier  (et un r\u00e9pertoire)\n",
      " * `os.path.getsize` pour obtenir la taille du fichier \n",
      " * `os.path.getatime` et aussi `getmtime` et `getctime`  pour obtenir les dates de cr\u00e9ation/modification d'un fichier"
     ]
    },
    {
     "cell_type": "heading",
     "level": 5,
     "metadata": {},
     "source": [
      "Et autres"
     ]
    },
    {
     "cell_type": "markdown",
     "metadata": {},
     "source": [
      "Reportez-vous \u00e0 la [documentation compl\u00e8te de `os.path`](https://docs.python.org/2/library/os.path.html) pour plus de d\u00e9tails sur ce module."
     ]
    },
    {
     "cell_type": "heading",
     "level": 3,
     "metadata": {},
     "source": [
      "Le module `os`"
     ]
    },
    {
     "cell_type": "markdown",
     "metadata": {},
     "source": [
      "Signalons aussi, mais cette fois du module `os`, les fonctions\n",
      " * `os.remove` (ou son ancien nom `os.unlink`), qui permet de supprimer un fichier\n",
      " * `os.rmdir` pour supprimer un r\u00e9pertoire (mais qui doit \u00eatre vide)\n",
      " * `os.removedirs` pour supprimer tout un r\u00e9pertoire avec son contenu, r\u00e9cursivement si n\u00e9cessaire\n",
      " * `os.rename` pour renommer un fichier"
     ]
    },
    {
     "cell_type": "heading",
     "level": 5,
     "metadata": {},
     "source": [
      "Et autres"
     ]
    },
    {
     "cell_type": "markdown",
     "metadata": {},
     "source": [
      "Le module `os` comporte un grand nombre d'autres fonctionnalit\u00e9s que celles relatives aux fichiers, vous pouvez consulter la [documentation compl\u00e8te de `os`](https://docs.python.org/2/library/os.html) pour une liste exhaustive."
     ]
    },
    {
     "cell_type": "heading",
     "level": 3,
     "metadata": {},
     "source": [
      "Un petit exemple"
     ]
    },
    {
     "cell_type": "markdown",
     "metadata": {},
     "source": [
      "Voici un exemple simple qui utilise les deux modules `os` et `os.path` pour s'assurer qu'un fichier n'existe pas, le cr\u00e9er, acc\u00e9der sa taille et sa date de modification, puis l'effacer \u00e0 nouveau."
     ]
    },
    {
     "cell_type": "code",
     "collapsed": false,
     "input": [
      "# dans cet exemple, la seule fonction que nous utilisons \n",
      "# du module 'os' est 'remove' \n",
      "import os \n",
      "\n",
      "import os.path\n",
      "\n",
      "nom_fichier = 'fichier-temoin'\n",
      "\n",
      "# au d\u00e9part le fichier n'existe pas\n",
      "print 'D\u00e9but: existence de', nom_fichier, os.path.exists(nom_fichier)\n",
      "# on le cr\u00e9e\n",
      "with open(nom_fichier,'w') as output:\n",
      "    output.write('0123456789\\n')\n",
      "# il doit exister maintenant\n",
      "print 'Milieu: existence de', nom_fichier, os.path.exists(nom_fichier)\n",
      "# regardons sa taille -- 11 carat\u00e8res (avec la fin de ligne)\n",
      "print 'taille', os.path.getsize(nom_fichier)\n",
      "# et sa date de modification \n",
      "mtime_timestamp = os.path.getmtime(nom_fichier)\n",
      "print 'date de derni\u00e8re modification (1)', mtime_timestamp\n",
      "# pour l'afficher d'une mani\u00e8re un peu plus lisible\n",
      "from datetime import datetime\n",
      "mtime_datetime = datetime.fromtimestamp(mtime_timestamp)\n",
      "print 'date de derni\u00e8re modification (2)', mtime_datetime\n",
      "\n",
      "# on le d\u00e9truit\n",
      "os.remove(nom_fichier)\n",
      "# v\u00e9rifions qu'il n'est plus l\u00e0\n",
      "print 'Fin: existence de', nom_fichier, os.path.exists(nom_fichier)"
     ],
     "language": "python",
     "metadata": {},
     "outputs": []
    },
    {
     "cell_type": "heading",
     "level": 3,
     "metadata": {},
     "source": [
      "Le module `glob` - recherche de fichiers"
     ]
    },
    {
     "cell_type": "markdown",
     "metadata": {},
     "source": [
      "On a parfois le besoin de chercher, par exemple, \"tous les fichiers se terminant par `.txt`\".\n",
      "\n",
      "Le module `glob` fournit des fonctions pour ce genre de besoins, comme illustr\u00e9 ici"
     ]
    },
    {
     "cell_type": "code",
     "collapsed": false,
     "input": [
      "import glob\n",
      "\n",
      "# tous les fichiers .json dans le r\u00e9pertoire data/\n",
      "for json in glob.glob(\"data/*.json\"):\n",
      "    print json"
     ],
     "language": "python",
     "metadata": {},
     "outputs": []
    },
    {
     "cell_type": "markdown",
     "metadata": {},
     "source": [
      "Comme toujours, voyez [la documentation compl\u00e8te de `glob`](https://docs.python.org/2/library/glob.html) pour plus de pr\u00e9cisions."
     ]
    }
   ],
   "metadata": {}
  }
 ]
}