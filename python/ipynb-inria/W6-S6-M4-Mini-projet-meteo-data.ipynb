{
 "metadata": {
  "kernelspec": {
   "display_name": "Python 2",
   "language": "python",
   "name": "python2"
  },
  "notebookname": "Donn\u00e9es m\u00e9t\u00e9o",
  "signature": "sha256:0efd14bc3efe699723dddd881e7ba1fa9142cd4ddbee13f45cc2be4a380104d3",
  "version": "2.0"
 },
 "nbformat": 3,
 "nbformat_minor": 0,
 "worksheets": [
  {
   "cells": [
    {
     "cell_type": "markdown",
     "metadata": {},
     "source": [
      "<span style=\"float:left;\">Licence CC BY-NC-ND</span><span style=\"float:right;\">Thierry Parmentelat &amp; Arnaud Legout,<img src=\"media/inria-25.png\" style=\"display:inline\"></span><br/>"
     ]
    },
    {
     "cell_type": "heading",
     "level": 1,
     "metadata": {},
     "source": [
      "Visualisation de donn\u00e9es m\u00e9t\u00e9o"
     ]
    },
    {
     "cell_type": "heading",
     "level": 2,
     "metadata": {},
     "source": [
      "Mini-Projet"
     ]
    },
    {
     "cell_type": "heading",
     "level": 3,
     "metadata": {},
     "source": [
      "Introduction"
     ]
    },
    {
     "cell_type": "markdown",
     "metadata": {},
     "source": [
      "Ce mini-projet vise \u00e0 vous donner acc\u00e8s \u00e0 des donn\u00e9es assez riches pour vous permettre d'exp\u00e9rimenter avec `matplotlib`, et mettre en oeuvre une visualisation de donn\u00e9es en 2D et en 3D."
     ]
    },
    {
     "cell_type": "markdown",
     "metadata": {},
     "source": [
      "Nous allons pour cela travailler avec des donn\u00e9es obtenues aupr\u00e8s de [OpenWeatherMap](https://openweathermap.desk.com). \n",
      "\n",
      "Sp\u00e9cifiquement, ce site publie un \u00e9chantillon statique de donn\u00e9es qui est disponible \u00e0 cette URL \n",
      "\n",
      "    http://78.46.48.103/sample/daily_14.json.gz\n",
      "    \n",
      "Comme nous le verrons plus bas, il n'est pas n\u00e9cessaire pour vous d'aller chercher ces donn\u00e9es chez OpenWeatherMap, nous les republions \u00e0 plusieurs \u00e9chelles. L'\u00e9chantillon complet couvre le monde entier et expose des donn\u00e9es m\u00e9t\u00e9o sur une p\u00e9riode d'environ deux semaines en Mars 2014. "
     ]
    },
    {
     "cell_type": "markdown",
     "metadata": {},
     "source": [
      "***"
     ]
    },
    {
     "cell_type": "heading",
     "level": 3,
     "metadata": {},
     "source": [
      "`matplotlib`\n"
     ]
    },
    {
     "cell_type": "markdown",
     "metadata": {},
     "source": [
      "Par manque de temps nous n'avons pas pu introduire `matplotlib` dans une vid\u00e9o ou un compl\u00e9ment. Nous allons en dire quelques mots (tr\u00e8s rapides), si vous n'avez aucune id\u00e9e de comment l'utiliser."
     ]
    },
    {
     "cell_type": "markdown",
     "metadata": {},
     "source": [
      "Que vous choisissiez ce sujet ou non, le point important ici est qu'une fois que vous avez obtenu des donn\u00e9es avec votre programme python - et pourvu que vous ayez install\u00e9 `matplotlib` qui ne fait pas partie de la librairie standard -, vous avez \u00e0 votre disposition un outil tr\u00e8s puissant et vraiment tr\u00e8s simple pour visualiser tr\u00e8s rapidement ces donn\u00e9es sous des formes diverses.\n"
     ]
    },
    {
     "cell_type": "markdown",
     "metadata": {},
     "source": [
      "Pour toute la suite je vous recommande d'avoir sous la main\n",
      " * [le tutoriel matplotlib](http://matplotlib.org/users/pyplot_tutorial.html)\n",
      " * [la documentation `matplotlib`](http://matplotlib.org/api/pyplot_api.html)\n",
      " * [le tutorial pour les visualisation 3D](http://matplotlib.org/mpl_toolkits/mplot3d/tutorial.html)"
     ]
    },
    {
     "cell_type": "markdown",
     "metadata": {},
     "source": [
      "Toutes les fonctions de visualisation attendent en argument des listes de valeurs pour X, pour Y, et le cas \u00e9ch\u00e9ant pour Z. La plupart du temps vous pouvez obtenir une visualisation simplement en choissisant la fonction (par exemple `plot` affiche les donn\u00e9es avec une courbe standard, `bar` affiche les donn\u00e9es en barres ..) et en passant X et Y; voyons cela&nbsp;:"
     ]
    },
    {
     "cell_type": "code",
     "collapsed": false,
     "input": [
      "import matplotlib.pyplot as plot\n",
      "\n",
      "import math"
     ],
     "language": "python",
     "metadata": {},
     "outputs": []
    },
    {
     "cell_type": "code",
     "collapsed": false,
     "input": [
      "# on d\u00e9coupe \u00e0 la main l'intervalle [0, 6.3] en pas de 0.1\n",
      "X = [ 0.1 * x for x in range (64)]\n",
      "# les valeurs de sin() correspondantes\n",
      "Y = [ math.sin(x) for x in X]\n",
      "\n",
      "# une courbe qui repr\u00e9sente sin(x) entre 0 et 2.pi\n",
      "plot.plot(X, Y)"
     ],
     "language": "python",
     "metadata": {},
     "outputs": []
    },
    {
     "cell_type": "markdown",
     "metadata": {},
     "source": [
      "Vous voyez que `matplotlib` s'occupe de montrer les \u00e9chelles, etc... Vous avez la possiblit\u00e9 de modifier ce rendu par d\u00e9faut mais dans la plupart des cas, vous obtenez de cette fa\u00e7on quelque chose de raisonnablement bien pr\u00e9sent\u00e9."
     ]
    },
    {
     "cell_type": "heading",
     "level": 5,
     "metadata": {},
     "source": [
      "`show()`"
     ]
    },
    {
     "cell_type": "markdown",
     "metadata": {},
     "source": [
      "Dans le contexte des notebooks cela n'est pas n\u00e9cessaire mais dans votre application n'oubliez pas d'invoquer la m\u00e9thode `matplotlib.pyplot.show()` pour que votre illustration s'affiche."
     ]
    },
    {
     "cell_type": "heading",
     "level": 3,
     "metadata": {},
     "source": [
      "`numpy`"
     ]
    },
    {
     "cell_type": "markdown",
     "metadata": {},
     "source": [
      "Comme vous le voyez il n'est pas n\u00e9cessaire d'utiliser `numpy` pour visualiser des donn\u00e9es.\n",
      "\n",
      "Nous n'utilisons pas du tout `numpy` dans cet exercice, mais sachez tout de m\u00eame, si par ailleurs vous utilisez d\u00e9j\u00e0 `numpy`, que le m\u00e9canisme de passage de donn\u00e9es est tr\u00e8s commode avec `numpy`, qui manipule d\u00e9j\u00e0 nativement les donn\u00e9es sous cette forme."
     ]
    },
    {
     "cell_type": "code",
     "collapsed": false,
     "input": [
      "import numpy"
     ],
     "language": "python",
     "metadata": {},
     "outputs": []
    },
    {
     "cell_type": "code",
     "collapsed": false,
     "input": [
      "# avec la m\u00e9thode `numpy.linspace` \n",
      "# on peut facilement d\u00e9couper \n",
      "# un intervalle en morceaux\n",
      "numpy.linspace(0, 10, 21)"
     ],
     "language": "python",
     "metadata": {},
     "outputs": []
    },
    {
     "cell_type": "code",
     "collapsed": false,
     "input": [
      "# aussi pour afficher une fonction\n",
      "# sur un intervalle c'est extr\u00eamement simple\n",
      "\n",
      "X = numpy.linspace (0, 2*numpy.pi, 101 )\n",
      "\n",
      "# d'autant que les fonctions numpy \n",
      "# font implicitement l'\u00e9quivalent de `map`\n",
      "# sur la liste d'entr\u00e9e\n",
      "\n",
      "plot.plot (X, numpy.sin(X))"
     ],
     "language": "python",
     "metadata": {},
     "outputs": []
    },
    {
     "cell_type": "heading",
     "level": 3,
     "metadata": {},
     "source": [
      "En 3D"
     ]
    },
    {
     "cell_type": "markdown",
     "metadata": {},
     "source": [
      "On peut tout aussi simplement visualiser des donn\u00e9es en 3D, voici un exemple de visualisation en 3D d'une gaussienne, que nous montrons ici \u00e0 un \u00e9chelle 6 pour simplifier le code\n",
      "\n",
      "$ z = e^{-(x^2+y^2)/36}$\n"
     ]
    },
    {
     "cell_type": "code",
     "collapsed": false,
     "input": [
      "import math\n",
      "from itertools import product\n",
      "\n",
      "# la grille de d\u00e9part en X et en Y\n",
      "xscale = range ( -10, 11 )\n",
      "yscale = range ( -10, 11 )\n",
      "\n",
      "# tous les points X,Y (soit 21 x 21 = 441 au total )\n",
      "# il faut recr\u00e9er un it\u00e9rateur pour chaque boucle\n",
      "def XY():\n",
      "    return product(xscale, yscale)\n",
      "\n",
      "# on calcule les tableaux d'entr\u00e9e pour matplotlib\n",
      "X = [ x for x, y in XY() ]\n",
      "Y = [ y for x, y in XY() ]\n",
      "Z = [ math.exp(-(x**2+y**2)/36.) for x, y in XY() ]\n"
     ],
     "language": "python",
     "metadata": {},
     "outputs": []
    },
    {
     "cell_type": "markdown",
     "metadata": {},
     "source": [
      "Ici encore, il y a une diff\u00e9rence de comportement entre le rendu dans un notebook qui est statique, et ce que vous obtenez sur votre ordinateur; dans ce dernier cas vous pouvez \"faire tourner\" la figure en 3D pour la voir sous l'angle que vous voulez."
     ]
    },
    {
     "cell_type": "code",
     "collapsed": false,
     "input": [
      "### la visu \n",
      "from mpl_toolkits.mplot3d import Axes3D\n",
      "from matplotlib import cm\n",
      "import matplotlib.pyplot as plot\n",
      "\n",
      "figure = plot.figure()\n",
      "axes = figure.gca(projection='3d')\n",
      "\n",
      "# on fixe cmap pour des couleurs plus gaies\n",
      "axes.plot_trisurf(X, Y, Z, cmap=cm.jet, linewidth=0.2)\n",
      "\n",
      "plot.show()"
     ],
     "language": "python",
     "metadata": {},
     "outputs": []
    },
    {
     "cell_type": "markdown",
     "metadata": {},
     "source": [
      "***"
     ]
    },
    {
     "cell_type": "heading",
     "level": 3,
     "metadata": {},
     "source": [
      "`matplotlib` *vs* `gnuplot`"
     ]
    },
    {
     "cell_type": "markdown",
     "metadata": {},
     "source": [
      "En guise de digression, signalons que `gnuplot` est un outil de visualisation assez ancien et qui a fait ses preuves. Si vous connaissez et ma\u00eetrisez bien cet outil, vous pouvez parfaitement faire le miniprojet en utilisant `gnuplot` plut\u00f4t que `matplotlib`. je vous invite \u00e0 regarder [`Gnuplot.py`](http://gnuplot-py.sourceforge.net), vous \u00e9viterez ainsi l'erreur qui consiste \u00e0 g\u00e9n\u00e9rer directement des fichiers pour `gnuplot`. Par ailleurs `gnuplot` est un programme ind\u00e9pendant de python, qu'il faut naturellement donc avoir install\u00e9 s\u00e9par\u00e9ment."
     ]
    },
    {
     "cell_type": "markdown",
     "metadata": {},
     "source": [
      "***"
     ]
    },
    {
     "cell_type": "heading",
     "level": 3,
     "metadata": {},
     "source": [
      "Les donn\u00e9es"
     ]
    },
    {
     "cell_type": "markdown",
     "metadata": {},
     "source": [
      "Pour revenir \u00e0 l'\u00e9chantillon de OpenWeatherMap, une fois d\u00e9compress\u00e9 et d\u00e9cod\u00e9, il contient, pour un grand nombre de villes (22631 exactement), des donn\u00e9es de type&nbsp;:\n",
      " * champ `city` : position g\u00e9ographique, nom, etc..\n",
      " * champ `time` : date (vous pouvez ignorer ce champ pour l'exercice)\n",
      " * champ `data` : une liste de mesures disponibles concernant ce point, sous la forme d'une liste de mesures; l'\u00e9chantillon contient en moyenne 16 mesures par point;\n",
      " * \u00e9l\u00e9ment de `data` : une mesure correspond \u00e0 un jour donn\u00e9, et vient comme un dictionnaire contenant typiquement une valeur pour \n",
      "   * l'heure des mesures (champ `dt`, pour data time) - voir aussi plus bas, \n",
      "   * la vitesse et la direction du vent (`speed` et `deg`)\n",
      "   * l'humidit\u00e9 et la pression\n",
      "   * et s'agissant de la temp\u00e9rature, \u00e0 nouveau un dictionnaire pour d\u00e9crire les temp\u00e9ratures \u00e0 divers moments de la journ\u00e9e\n",
      "   \n",
      "Je vous laisse deviner les unit\u00e9s utilis\u00e9es - je rappelle juste que \n",
      "\n",
      "$ 0\u00b0C = 273.15\u00b0K $\n",
      " "
     ]
    },
    {
     "cell_type": "markdown",
     "metadata": {},
     "source": [
      "Pour \u00eatre plus explicite encore, voici un pretty-print d'un objet correspondant \u00e0 une ville (Cayenne en Guyanne), en ne montrant que la premi\u00e8re mesure&nbsp;:"
     ]
    },
    {
     "cell_type": "markdown",
     "metadata": {},
     "source": [
      "    {u'city': {u'coord': {u'lat': 49.558578, u'lon': 1.62803},\n",
      "               u'country': u'FR',\n",
      "               u'id': 3028097,\n",
      "               u'name': u'Cayenne'},\n",
      "     u'data': [{u'clouds': 80,\n",
      "                u'deg': 330,\n",
      "                u'dt': 1394884800,\n",
      "                u'humidity': 85,\n",
      "                u'pressure': 1028.47,\n",
      "                u'speed': 5.41,\n",
      "                u'temp': {u'day': 282.3,\n",
      "                          u'eve': 282.86,\n",
      "                          u'max': 283.22,\n",
      "                          u'min': 279.7,\n",
      "                          u'morn': 279.7,\n",
      "                          u'night': 281.96},\n",
      "                u'weather': [{u'description': u'broken clouds',\n",
      "                              u'icon': u'04d',\n",
      "                              u'id': 803,\n",
      "                              u'main': u'Clouds'}]},\n",
      "               '... other similar dicts ...'],\n",
      "     u'time': 1394865585}"
     ]
    },
    {
     "cell_type": "heading",
     "level": 5,
     "metadata": {},
     "source": [
      "Format concret"
     ]
    },
    {
     "cell_type": "markdown",
     "metadata": {},
     "source": [
      "L'\u00e9chantillon complet d\u00e9compress\u00e9 contient autant de lignes que de villes (22631 lignes donc), et chaque ligne est un encodage JSON de la structure que nous venons de voir. \n",
      "Vous pouvez donc charger un fichier en quelques lignes de code qui combinent \n",
      " * un fichier d'entr\u00e9e consid\u00e9r\u00e9 comme un it\u00e9rable,\n",
      " * et les fonctions du module `json`; vous remarquerez \u00e0 cet \u00e9gard la diff\u00e9rence entre `load` et `loads`"
     ]
    },
    {
     "cell_type": "heading",
     "level": 5,
     "metadata": {},
     "source": [
      "Rappel sur les dates"
     ]
    },
    {
     "cell_type": "markdown",
     "metadata": {},
     "source": [
      "S'agissant des dates, on retrouve ici notre nombre de secondes depuis le $1^{er}$ Janvier 1970, et voici comment vous pouvez afficher ce genre de valeurs."
     ]
    },
    {
     "cell_type": "code",
     "collapsed": false,
     "input": [
      "import time\n",
      "# *Y*ear *m*onth *d*ay *H*our *M*inute\n",
      "date_format=\"%Y-%m-%d:%H-%M UTC\"\n",
      "\n",
      "# city['city']['data'][0]['dt']\n",
      "dt = 1394884800\n",
      "\n",
      "# gmtime pour afficher en heure UTC (formerly GMT)\n",
      "print 'champ dt', time.strftime(date_format, time.gmtime(dt))\n"
     ],
     "language": "python",
     "metadata": {},
     "outputs": []
    },
    {
     "cell_type": "heading",
     "level": 3,
     "metadata": {},
     "source": [
      "Mise en place"
     ]
    },
    {
     "cell_type": "markdown",
     "metadata": {},
     "source": [
      "Comme l'\u00e9chantillon est tr\u00e8s gros, je vous ai pr\u00e9par\u00e9 des versions de plus en plus petites&nbsp;:\n",
      "\n",
      " * Monde entier (\u00e9chantillon complet) \n",
      "   * [cities_world.json.gz](data/cities_world.json.gz) (11 Mb)\n",
      "   * [cities_world.json](data/cities_world.json) (98 Mb)\n",
      " * Europe (62, 33, 34, -11) (limites nord, est, sud, et ouest)\n",
      "   * [cities_europe.json.gz](data/cities_europe.json.gz) (3 Mb)\n",
      "   * [cities_europe.json](data/cities_europe.json) (31 Mb)\n",
      " * France (51.2, 8.3, 42.3, -5.3) \n",
      "   * [cities_france.json.gz](data/cities_france.json.gz) (480 kb)\n",
      "   * [cities_france.json](data/cities_france.json) (6 Mb)\n",
      " * Ile-de-France (49, 2.75, 48.5, 2) \n",
      "   * [cities_idf.json.gz](data/cities_idf.json.gz) (17 kb)\n",
      "   * [cities_idf.json](data/cities_idf.json) (900 kb)"
     ]
    },
    {
     "cell_type": "markdown",
     "metadata": {},
     "source": [
      "Sachant que pour mette au point il est tr\u00e8s conseill\u00e9 de commencer avec un petit fichier car le chargement du fichier complet peut prendre dans les 10 secondes."
     ]
    },
    {
     "cell_type": "markdown",
     "metadata": {},
     "source": [
      "***"
     ]
    },
    {
     "cell_type": "heading",
     "level": 3,
     "metadata": {},
     "source": [
      "Le sujet"
     ]
    },
    {
     "cell_type": "markdown",
     "metadata": {},
     "source": [
      "Le programme que nous avons \u00e9crit s'utilise de la mani\u00e8re suivante&nbsp;:\n",
      "\n",
      "$ ./meteodata.py --help\n",
      "usage: meteodata.py [-h] [-c CROP] [-n SELECT_NAMES] [-a] [-l] \\\n",
      "                         [-1] [-2] [-3] filename\n",
      "\n",
      "positional arguments:\n",
      "  filename              input JSON file - might be gzipped\n",
      "\n",
      "optional arguments:\n",
      "  -h, --help            show this help message and exit\n",
      "  -c CROP, --crop CROP  specify a region for cropping regions are rectangular\n",
      "                        areas and can be specified as a comma-separated list\n",
      "                        of 4 numbers for north, east, south, west\n",
      "  -n SELECT_NAMES, --name SELECT_NAMES\n",
      "                        cumulative - select cities by this name(s)\n",
      "  -a, --all             select all cities\n",
      "  -l, --list            If set, selected city names get listed\n",
      "\n",
      "  -1, --1d              Display a bar chart for the pressure in the first\n",
      "                        selected city\n",
      "  -2, --2d              Display a 2D diagram of the positions of selected\n",
      "                        cities\n",
      "  -3, --3d              Display a 3D diagram of the pressure in all cities"
     ]
    },
    {
     "cell_type": "heading",
     "level": 3,
     "metadata": {},
     "source": [
      "Entr\u00e9es"
     ]
    },
    {
     "cell_type": "markdown",
     "metadata": {},
     "source": [
      " * il faut donner au programme un des fichiers d'entr\u00e9e (le param\u00e8tre obligatoire `filename`)\n",
      " * on peut aussi avec l'option `-c` restreindre \u00e0 un rectangle, ici par exemple les USA (on y reviendra); lorsqu'on utilise cette option les villes qui ne sont pas dans la zone sont **compl\u00e8tement ignor\u00e9es**&nbsp;:\n",
      " \n",
      "     $ ./meteodata.py -c 50,-70,25,-125 data/cities_world.json\n",
      "    ---------- From data/cities_world.json\n",
      "    \tdealing with 22631 cities\n",
      "    ---------- After cropping with Top 50.0 Right -70.0 Bottom 25.0 Left -125.0\n",
      "    \tdealing with 3146 cities\n",
      "    ---------- No city selected\n",
      "\n",
      " * avec l'option -n (que vous pouvez r\u00e9p\u00e9ter) vous pouvez **s\u00e9lectionner** des villes par leur nom; vous pouvez r\u00e9p\u00e9ter l'option pour en s\u00e9lectionner plusieurs; \n",
      " \n",
      "Les deux m\u00e9canismes sont ind\u00e9pendants; on consid\u00e8re toutes les villes qui sont dans la r\u00e9gion, et parmi elles celles qui sont s\u00e9lectionn\u00e9es seront mises en \u00e9vidence&nbsp;:\n",
      "\n",
      "    $ ./meteodata.py -c 50,-70,25,-125 -n 'new york' -n dallas data/cities_world.json\n",
      "    ---------- From data/cities_world.json\n",
      "    \tdealing with 22631 cities\n",
      "    ---------- After cropping with Top 50.0 Right -70.0 Bottom 25.0 Left -125.0\n",
      "    \tdealing with 3146 cities\n",
      "    ---------- Selected 3 cities\n",
      "    \t[u'New York', u'New York', u'Dallas']        \n",
      "Dans cet exemple on va travailler sur un total de 3146 villes, dont trois sont s\u00e9lectionn\u00e9es (deux s'appellent 'New York' et une s'appelle 'Dallas')\n",
      "\n",
      "Les options `-a` et `-l` sont tr\u00e8s accessoires vous n'\u00eates pas oblig\u00e9s de vous en occuper.\n"
     ]
    },
    {
     "cell_type": "heading",
     "level": 3,
     "metadata": {},
     "source": [
      "Visualisations"
     ]
    },
    {
     "cell_type": "markdown",
     "metadata": {},
     "source": [
      "Les 3 autres options (-1, -2 et -3) correspondent \u00e0 trois modes de visualisation. Comme vous allez le voir ce sont des choix tr\u00e8s arbitraires, n'h\u00e9sitez pas \u00e0 broder et \u00e0 changer les sp\u00e9cifications."
     ]
    },
    {
     "cell_type": "heading",
     "level": 5,
     "metadata": {},
     "source": [
      "Visualiser les temp\u00e9rateures dans une ville donn\u00e9e (option -1)"
     ]
    },
    {
     "cell_type": "markdown",
     "metadata": {},
     "source": [
      "Avec l'option -1, le programme affiche sous forme de diagramme \u00e0 barres, les temp\u00e9ratures de la premi\u00e8re ville s\u00e9lectionn\u00e9e, et ce sur l'ensemble de la p\u00e9riode.\n",
      "\n",
      "Pour chaque date on affiche, dans l'ordre, les champs suivants de `temp` dans `data`\n",
      "\n",
      "    'morn', 'day', 'eve', 'night'\n",
      "    \n",
      "Ainsi par exemple\n",
      "\n",
      "    ./meteodata.py -1 -n brest data/cities_france.json\n",
      "    \n",
      "affiche le diagramme\n",
      "\n",
      "<img src='media/meteodata-1.png'>\n"
     ]
    },
    {
     "cell_type": "markdown",
     "metadata": {},
     "source": [
      "Pour l'impl\u00e9mentation de l'option -1 nous avons utilis\u00e9 [matplotlib.pyplot.bar](http://matplotlib.org/api/pyplot_api.html#matplotlib.pyplot.bar)"
     ]
    },
    {
     "cell_type": "markdown",
     "metadata": {},
     "source": [
      "***"
     ]
    },
    {
     "cell_type": "heading",
     "level": 5,
     "metadata": {},
     "source": [
      "Visualiser les villes par leur position en 2 dimensions\n"
     ]
    },
    {
     "cell_type": "markdown",
     "metadata": {},
     "source": [
      "Avec l'option -2, le programme affiche l'ensemble des villes par leur position, en mettant en \u00e9vidence les villes s\u00e9lectionn\u00e9es avec une taille plus importante et une couleur diff\u00e9rente.\n",
      "\n",
      "Ainsi par exemple\n",
      "\n",
      "    ./meteodata.py -2 -n nice -n toulouse -n bordeaux -n brest -n 'le havre'  -n strasbourg data/cities_france.json\n",
      "    \n",
      "montre ceci\n",
      "\n",
      "<img src=\"media/meteodata-2-1.png\">\n",
      "\n",
      "alors que\n",
      "\n",
      "    ./meteodata.py -2 -n paris -n berlin -n roma  data/cities_europe.json\n",
      "    \n",
      "affiche ceci\n",
      "\n",
      "<img src=\"media/meteodata-2-2.png\">\n",
      "\n",
      "o\u00f9 vous pouvez voir que la densit\u00e9 de couverture n'est pas uniforme dans tous les pays europ\u00e9ens - ni sur tout le territoire fran\u00e7ais d'ailleurs."
     ]
    },
    {
     "cell_type": "markdown",
     "metadata": {},
     "source": [
      "Pour l'impl\u00e9mentation de l'option -2 nous avons utilis\u00e9 [matplotlib.pyplot.scatter](http://matplotlib.org/api/pyplot_api.html#matplotlib.pyplot.scatter)"
     ]
    },
    {
     "cell_type": "markdown",
     "metadata": {},
     "source": [
      "***"
     ]
    },
    {
     "cell_type": "heading",
     "level": 5,
     "metadata": {},
     "source": [
      "Visualiser la pression en 3D"
     ]
    },
    {
     "cell_type": "markdown",
     "metadata": {},
     "source": [
      "Enfin avec l'option -3 notre programme affiche la pression mesur\u00e9e sur la zone en 3D. Il n'y a dans ces donn\u00e9es aucune garantie que toutes les villes ont des mesures pour exactement les m\u00eames dates. Cependant pour faire simple et comme notre but ici est uniquement d'exp\u00e9rimenter avec la visualisaion&nbsp;:\n",
      " * on a pris pour chaque ville la pression dans la premi\u00e8re mesure list\u00e9e,\n",
      " * et on a calcul\u00e9 la date sur la base de la premi\u00e8re mesure de la premi\u00e8re ville list\u00e9e.\n",
      " \n",
      "Par exemple si on lance\n",
      "\n",
      "    ./meteodata.py -3 data/cities_europe.json\n",
      "    \n",
      "on obtient une visu en 3D qui selon le point de vue ressemble \u00e0 ceci \n",
      "\n",
      "<img src=\"media/meteodata-3-1.png\">\n",
      "\n",
      "ceci\n",
      "\n",
      "<img src=\"media/meteodata-3-2.png\">\n",
      "\n",
      "o\u00f9 vous devinez les contours de l'Europe avec, \u00e0 nouveau, un peu d'imagination et de bonne volont\u00e9, sachant que la zone en bleu correspond aux Alpes, o\u00f9 la pression est plus faible tr\u00e8s vraisemblablement \u00e0 cause de l'altitude.\n"
     ]
    },
    {
     "cell_type": "markdown",
     "metadata": {},
     "source": [
      "Pour l'impl\u00e9mentation de l'option -3 nous avons utilis\u00e9 [plot_trisurf](http://matplotlib.org/mpl_toolkits/mplot3d/api.html)"
     ]
    },
    {
     "cell_type": "markdown",
     "metadata": {},
     "source": [
      "***"
     ]
    },
    {
     "cell_type": "heading",
     "level": 3,
     "metadata": {},
     "source": [
      "\u00c9pilogue : le visuel du MOOC"
     ]
    },
    {
     "cell_type": "markdown",
     "metadata": {},
     "source": [
      "Le visuel du MOOC a \u00e9t\u00e9 r\u00e9alis\u00e9 enti\u00e8rement en `matplotlib`. Si cela vous int\u00e9resse vous pouvez voir le code ci-dessous. \n",
      "\n",
      "Remarquez notamment [le style `xkcd`](http://matplotlib.org/xkcd/examples/showcase/xkcd.html) qui donne le petit cot\u00e9 amusant. Pour que cela rende correctement toutefois, il faut avoir install\u00e9 les bonnes fontes sur son ordinateur - ce qui n'est pas le cas de la plateforme qui h\u00e9berge les notebooks malheureusement :)"
     ]
    },
    {
     "cell_type": "code",
     "collapsed": false,
     "input": [
      "import xkcd"
     ],
     "language": "python",
     "metadata": {},
     "outputs": []
    },
    {
     "cell_type": "code",
     "collapsed": false,
     "input": [
      "from inspect import getsource\n",
      "\n",
      "for line in getsource(xkcd).split(\"\\n\"): \n",
      "    print line"
     ],
     "language": "python",
     "metadata": {},
     "outputs": []
    },
    {
     "cell_type": "markdown",
     "metadata": {},
     "source": [
      "***"
     ]
    }
   ],
   "metadata": {}
  }
 ]
}