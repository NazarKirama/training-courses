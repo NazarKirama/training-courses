{
 "metadata": {
  "kernelspec": {
   "display_name": "Python 2",
   "language": "python",
   "name": "python2"
  },
  "notebookname": "Formats JSON et autres",
  "signature": "sha256:3758ea30a1a3d31d1fa43771b080964f8f7a14cab28a12920a28f1e771711e17",
  "version": "2.0"
 },
 "nbformat": 3,
 "nbformat_minor": 0,
 "worksheets": [
  {
   "cells": [
    {
     "cell_type": "markdown",
     "metadata": {},
     "source": [
      "<span style=\"float:left;\">Licence CC BY-NC-ND</span><span style=\"float:right;\">Thierry Parmentelat &amp; Arnaud Legout,<img src=\"media/inria-25.png\" style=\"display:inline\"></span><br/>"
     ]
    },
    {
     "cell_type": "heading",
     "level": 1,
     "metadata": {},
     "source": [
      "Formats de fichiers : JSON et autres"
     ]
    },
    {
     "cell_type": "heading",
     "level": 2,
     "metadata": {},
     "source": [
      "Compl\u00e9ments - niveau basique"
     ]
    },
    {
     "cell_type": "markdown",
     "metadata": {},
     "source": [
      "Voici quelques mots sur des outils python fournis dans la librairie standard, et qui permettent de lire ou \u00e9crire des donn\u00e9es dans des fichiers."
     ]
    },
    {
     "cell_type": "heading",
     "level": 3,
     "metadata": {},
     "source": [
      "Le probl\u00e8me"
     ]
    },
    {
     "cell_type": "markdown",
     "metadata": {},
     "source": [
      "Les donn\u00e9es dans un programme python sont stock\u00e9s en m\u00e9moire (la RAM), sous une forme propice aux calculs. Par exemple un petit entier est fr\u00e9quemment stock\u00e9 en binaire dans un mot de 64 bits, qui est pr\u00eat \u00e0 \u00eatre soumis au processeur pour faire une op\u00e9ration arithm\u00e9tique. "
     ]
    },
    {
     "cell_type": "markdown",
     "metadata": {},
     "source": [
      "Ce format ne se pr\u00eate pas forc\u00e9ment toujours \u00e0 \u00eatre transpos\u00e9 tel quel lorsqu'on doit \u00e9crire des donn\u00e9es sur un support plus p\u00e9renne, comme un disque dur, ou encore sur un r\u00e9seau pour transmission distante - ces deux supports \u00e9tant \u00e0 ce point de vue tr\u00e8s voisins.\n",
      "\n",
      "Ainsi par exemple il pourra \u00eatre plus commode d'\u00e9crire notre entier sur disque, ou de le transmettre \u00e0 un programme distant, sous une forme d\u00e9cimale qui sera plus lisible, sachant que par ailleurs toutes les machines ne codent pas un entier de la m\u00eame fa\u00e7on."
     ]
    },
    {
     "cell_type": "markdown",
     "metadata": {},
     "source": [
      "Il convient donc de faire de la traduction dans les deux sens entre repr\u00e9sentations d'une part en m\u00e9moire, et d'autre part sur disque ou sur r\u00e9seau (\u00e0 nouveau, on utilise en g\u00e9n\u00e9ral les m\u00eames formats)."
     ]
    },
    {
     "cell_type": "heading",
     "level": 3,
     "metadata": {},
     "source": [
      "Le format JSON"
     ]
    },
    {
     "cell_type": "markdown",
     "metadata": {},
     "source": [
      "Le format sans aucun doute le plus populaire \u00e0 l'heure actuelle est [le format JSON](http://fr.wikipedia.org/wiki/JavaScript_Object_Notation) pour JavaScript Object Notation. \n",
      "\n",
      "Sans trop nous attarder nous dirons que JSON est un encodage - en anglais [marshalling](http://en.wikipedia.org/wiki/Marshalling_%28computer_science%29) - qui se pr\u00eate bien \u00e0 la plupart des types de base qu'on trouve dans les langages modernes comme python, ruby ou, donc, JavaScript.\n",
      "\n",
      "La libraririe standard python contient [le module json](https://docs.python.org/2/library/json.html), que nous avons d\u00e9j\u00e0 utilis\u00e9 dans les exercices de la semaine pass\u00e9e, et que nous illustrons tr\u00e8s rapidement ici:"
     ]
    },
    {
     "cell_type": "code",
     "collapsed": false,
     "input": [
      "import json\n",
      "\n",
      "# En partant d'une donn\u00e9e construite \u00e0 partir de types de base\n",
      "data = [\n",
      "    # des types qui ne posent pas de probl\u00e8me\n",
      "    [1, 2, 'a', [3.23, 4.32], {'eric': 32, 'jean': 43}],\n",
      "    # un tuple\n",
      "    (1, 2, 3),\n",
      "]\n",
      "\n",
      "# sauver ceci dans un fichier\n",
      "with open(\"s1.json\",\"w\") as json_output:\n",
      "    json.dump(data, json_output)\n",
      "    \n",
      "# et relire le r\u00e9sultat \n",
      "with open(\"s1.json\") as json_input:\n",
      "    data2 = json.load(json_input)\n",
      "    "
     ],
     "language": "python",
     "metadata": {},
     "outputs": []
    },
    {
     "cell_type": "heading",
     "level": 5,
     "metadata": {},
     "source": [
      "Limitations de json"
     ]
    },
    {
     "cell_type": "markdown",
     "metadata": {},
     "source": [
      "Certains types de base ne sont pas support\u00e9s par le format JSON (car ils ne sont pas natifs en JavaScript), c'est le cas notamment de\n",
      " * `tuple`, qui se fait encoder comme une liste;\n",
      " * `complex`, `set` et `frozenset`, qu'on ne peut pas encoder du tout (sans \u00e9tendre la librairie).\n"
     ]
    },
    {
     "cell_type": "code",
     "collapsed": false,
     "input": [
      "# le premier \u00e9l\u00e9ment de data est intact, \n",
      "# comme si on avait fait une *deep copy* en fait\n",
      "print \"premi\u00e8re partie de data\", data[0] == data2[0]\n",
      "# par contre le `tuple` se fait concoder comme une `list`\n",
      "print \"deuxi\u00e8me partie\", \"entr\u00e9e\", type(data[1]), \"sortie\", type(data2[1])"
     ],
     "language": "python",
     "metadata": {},
     "outputs": []
    },
    {
     "cell_type": "markdown",
     "metadata": {},
     "source": [
      "Malgr\u00e9 ces petites limitations, ce format est de plus en plus populaire, notamment parce qu'on peut l'utiliser pour communiquer avec des applications web \u00e9crites en JavaScript, et aussi parce qu'il est tr\u00e8s l\u00e9ger, et support\u00e9 par de nombreux langages."
     ]
    },
    {
     "cell_type": "heading",
     "level": 2,
     "metadata": {},
     "source": [
      "Compl\u00e9ments - niveau interm\u00e9diaire"
     ]
    },
    {
     "cell_type": "heading",
     "level": 3,
     "metadata": {},
     "source": [
      "Le format `csv`"
     ]
    },
    {
     "cell_type": "markdown",
     "metadata": {},
     "source": [
      "Le format `csv` pour Comma Separated Values, originaire du monde des tableurs, peut rendre service \u00e0 l'occasion, il est propos\u00e9 [dans le module `csv`](https://docs.python.org/2/library/csv.html)."
     ]
    },
    {
     "cell_type": "heading",
     "level": 3,
     "metadata": {},
     "source": [
      "Le format pickle"
     ]
    },
    {
     "cell_type": "markdown",
     "metadata": {},
     "source": [
      "Le format `pickle` remplit une fonctionnalit\u00e9 tr\u00e8s voisine de `JSON`, mais est sp\u00e9cifique \u00e0 python. C'est pourquoi, malgr\u00e9 des limites un peu moins s\u00e9v\u00e8res, son usage tend \u00e0 rester assez marginal. Il est impl\u00e9ment\u00e9 [dans le module `pickle`](https://docs.python.org/2/library/pickle.html)."
     ]
    },
    {
     "cell_type": "heading",
     "level": 3,
     "metadata": {},
     "source": [
      "Le format XML"
     ]
    },
    {
     "cell_type": "markdown",
     "metadata": {},
     "source": [
      "Vous avez aussi tr\u00e8s probablement entendu parler de XML, qui est un format assez populaire \u00e9galement. \n",
      "\n",
      "Cela dit, la puissance, et donc le co\u00fbt, de XML et JSON ne sont pas du tout comparables, XML \u00e9tant beaucoup plus flexible mais au prix d'une complexit\u00e9 de mise en \u0153uvre tr\u00e8s sup\u00e9rieure. \n",
      "\n",
      "Il existe plusieurs souches diff\u00e9rentes de librairies prenant en charge le format XML, [qui sont introduites ici](https://docs.python.org/2/library/xml.html)."
     ]
    },
    {
     "cell_type": "heading",
     "level": 3,
     "metadata": {},
     "source": [
      "Pour en savoir plus"
     ]
    },
    {
     "cell_type": "markdown",
     "metadata": {},
     "source": [
      "Voyez la page sur [les formats de fichiers](https://docs.python.org/2/library/fileformats.html) dans la documentation python."
     ]
    }
   ],
   "metadata": {}
  }
 ]
}