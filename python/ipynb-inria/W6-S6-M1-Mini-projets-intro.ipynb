{
 "metadata": {
  "kernelspec": {
   "display_name": "Python 2",
   "language": "python",
   "name": "python2"
  },
  "notebookname": "Mini-projets",
  "signature": "sha256:66121626416c31397cf2b8e1ca35a71045de3d6e61ef221040f2bf7192ea4157",
  "version": "2.0"
 },
 "nbformat": 3,
 "nbformat_minor": 0,
 "worksheets": [
  {
   "cells": [
    {
     "cell_type": "markdown",
     "metadata": {},
     "source": [
      "<span style=\"float:left;\">Licence CC BY-NC-ND</span><span style=\"float:right;\">Thierry Parmentelat &amp; Arnaud Legout,<img src=\"media/inria-25.png\" style=\"display:inline\"></span><br/>"
     ]
    },
    {
     "cell_type": "heading",
     "level": 1,
     "metadata": {},
     "source": [
      "Mini-projets"
     ]
    },
    {
     "cell_type": "heading",
     "level": 3,
     "metadata": {},
     "source": [
      "Objectifs"
     ]
    },
    {
     "cell_type": "markdown",
     "metadata": {},
     "source": [
      "\u00c0 l'issue de la semaine 5, vous avez \u00e0 pr\u00e9sent un bagage tr\u00e8s complet en ce qui concerne les notions usuelles du langage. \n",
      "\n",
      "Pour les deux derni\u00e8res semaines, les cours vont adresser des points plus sp\u00e9cifiques ou avanc\u00e9s. Nous vous proposons pour ces deux semaines un programme d'exercices volontairement r\u00e9duit, pour vous donner le temps de vous investir dans un mini-projet."
     ]
    },
    {
     "cell_type": "markdown",
     "metadata": {},
     "source": [
      "Apr\u00e8s avoir \u00e9crit tout d'abord de tous petits fragments de code dans les semaines 2 \u00e0 4, puis un module entier avec quelques classes en Semaine 5, il est temps pour vous de vous essayer \u00e0 \u00e9crire une petite application compl\u00e8te."
     ]
    },
    {
     "cell_type": "heading",
     "level": 3,
     "metadata": {},
     "source": [
      "Les sujets"
     ]
    },
    {
     "cell_type": "markdown",
     "metadata": {},
     "source": [
      "Pour vous donner des id\u00e9es dans ce sens, nous vous proposons de choisir un (ou plusieurs, naturellement) sujets parmi ces trois.\n",
      "\n",
      " * `diskusage.py` est un outil orient\u00e9 *Command-Line*, qui peut \u00eatre utile dans la vie de tous les jours lorsqu'il s'agit de faire le m\u00e9nage dans un disque trop plein. Ce sujet vous permettra de voir de plus pr\u00e8s un exemple de `script`, comparable en gros \u00e0 ce qu'on pourrait faire en shell.\n",
      " \n",
      " * `webcrawler.py` est un prototype de robot qui aspire les pages web \u00e0 partir d'une URL qui sert de point d'entr\u00e9e. Son objectif et d'avoir un moyen simple d'inspecter un site Web pour, par exemple, indentifier automatiquement les liens morts. \n",
      " \n",
      " * `meteodata.py` est un exemple de code qui extrait des donn\u00e9es m\u00e9t\u00e9o fournies par un service Internet, qui servent ensuite de pr\u00e9texte pour faire un peu de visualisation avec `matplotlib`.\n",
      " "
     ]
    },
    {
     "cell_type": "markdown",
     "metadata": {},
     "source": [
      "Chacun de ces sujets de mini-projet est d\u00e9taill\u00e9 dans un notebook s\u00e9par\u00e9."
     ]
    },
    {
     "cell_type": "heading",
     "level": 3,
     "metadata": {},
     "source": [
      "Modalit\u00e9s"
     ]
    },
    {
     "cell_type": "markdown",
     "metadata": {},
     "source": [
      "Pour chaque sujet, l'esprit g\u00e9n\u00e9ral consiste pour nous \u00e0 expliquer le contexte, vous donner quelques pistes pour l'impl\u00e9mentation, et vous montrer les diff\u00e9rentes *features* que nous avons impl\u00e9ment\u00e9es, pour vous donner des id\u00e9es. Mais naturellement tout ceci est \u00e0 titre indicatif, \u00e0 vous de choisir les *features* qui vous int\u00e9ressent."
     ]
    },
    {
     "cell_type": "markdown",
     "metadata": {},
     "source": [
      "En guise de corrig\u00e9s, nous publierons vers la fin du MOOC nos codes source pour chacun des trois sujets. \n",
      "\n",
      "Il nous faut souligner que le code de ces corrig\u00e9s n'est ni totalement fiable, ni valid\u00e9 par des tests&nbsp;; et ce pour plusieurs raisons&nbsp;:\n",
      " * d'une part un code durci a tendance \u00e0 \u00eatre plus bavard et plus lourd \u00e0 lire, et donc \u00e0 \u00eatre plus difficile d'acc\u00e8s&nbsp;;\n",
      " * d'autre part naturellement cela prend plus de temps \u00e0 \u00e9crire.\n",
      "\n",
      "Est-ce que cela est un probl\u00e8me pour ce projet ? Non, mais il est important dans du vrai code de production de le fiabiliser au maximum (en capturant les exceptions avec des reactions appropri\u00e9es, et en testant toutes les entr\u00e9es) et de le tester (en ajoutant, par exemple, des tests unitaires et des tests fonctionnels). Cela a \u00e9videment un co\u00fbt tr\u00e8s \u00e9l\u00e9v\u00e9 en terme d'augmentation du code (on peut facilement multiplier par 2 ou 3 le nombre de lignes de code) et de temps de d\u00e9veloppement (il va falloir imaginer tous les cas \u00e0 tester)."
     ]
    },
    {
     "cell_type": "markdown",
     "metadata": {},
     "source": [
      "***"
     ]
    },
    {
     "cell_type": "markdown",
     "metadata": {},
     "source": [
      "En parall\u00e8le du mini-projet \u00e0 proprement parler, un objectif de l'exercice est de vous donner l'occasion de jeter un coup d'oeil \u00e0 la librairie standard python, que vous pouvez parcourir \u00e0 partir de ce point d'entr\u00e9e\n",
      "\n",
      "https://docs.python.org/2/library/index.html\n",
      "\n",
      "Vous y retrouverez les modules dont nous avons d\u00e9j\u00e0 parl\u00e9, et bien d'autres."
     ]
    },
    {
     "cell_type": "markdown",
     "metadata": {},
     "source": [
      "***"
     ]
    }
   ],
   "metadata": {}
  }
 ]
}