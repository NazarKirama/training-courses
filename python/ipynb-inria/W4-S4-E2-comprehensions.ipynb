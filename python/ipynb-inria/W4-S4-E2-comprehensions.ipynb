{
 "metadata": {
  "kernelspec": {
   "display_name": "Python 2",
   "language": "python",
   "name": "python2"
  },
  "notebookname": "Compr\u00e9hensions",
  "signature": "sha256:6de117efb950d5c39a7cbaa53474b218f026b8afbe4192701f10a5f8ca79a698",
  "version": "2.0"
 },
 "nbformat": 3,
 "nbformat_minor": 0,
 "worksheets": [
  {
   "cells": [
    {
     "cell_type": "markdown",
     "metadata": {},
     "source": [
      "<span style=\"float:left;\">Licence CC BY-NC-ND</span><span style=\"float:right;\">Thierry Parmentelat &amp; Arnaud Legout,<img src=\"media/inria-25.png\" style=\"display:inline\"></span><br/>"
     ]
    },
    {
     "cell_type": "heading",
     "level": 1,
     "metadata": {},
     "source": [
      "Compr\u00e9hensions"
     ]
    },
    {
     "cell_type": "heading",
     "level": 2,
     "metadata": {},
     "source": [
      "Exercice - niveau basique"
     ]
    },
    {
     "cell_type": "code",
     "collapsed": false,
     "input": [
      "# pour charger l'exercice\n",
      "from corrections.w4s4_comprehensions import exo_aplatir"
     ],
     "language": "python",
     "metadata": {},
     "outputs": []
    },
    {
     "cell_type": "markdown",
     "metadata": {},
     "source": [
      "Il vous est demand\u00e9 d'\u00e9crire une fonction `aplatir` qui prend *un unique* argument `l_conteneurs`, une liste (ou plus g\u00e9n\u00e9ralement un it\u00e9rable) de conteneurs, et qui retourne la liste de tous les \u00e9l\u00e9ments de tous les conteneurs."
     ]
    },
    {
     "cell_type": "code",
     "collapsed": false,
     "input": [
      "# par exemple\n",
      "exo_aplatir.exemple()"
     ],
     "language": "python",
     "metadata": {},
     "outputs": []
    },
    {
     "cell_type": "code",
     "collapsed": false,
     "input": [
      "def aplatir(conteneurs):\n",
      "    \"<votre_code>\""
     ],
     "language": "python",
     "metadata": {},
     "outputs": []
    },
    {
     "cell_type": "code",
     "collapsed": false,
     "input": [
      "# v\u00e9rifier votre code\n",
      "exo_aplatir.correction(aplatir)"
     ],
     "language": "python",
     "metadata": {},
     "outputs": []
    },
    {
     "cell_type": "heading",
     "level": 2,
     "metadata": {},
     "source": [
      "Exercice - niveau interm\u00e9diaire"
     ]
    },
    {
     "cell_type": "code",
     "collapsed": false,
     "input": [
      "# chargement de l'exercice\n",
      "from corrections.w4s4_comprehensions import exo_alternat"
     ],
     "language": "python",
     "metadata": {},
     "outputs": []
    },
    {
     "cell_type": "markdown",
     "metadata": {},
     "source": [
      "\u00c0 pr\u00e9sent, on passe en argument deux conteneurs (deux it\u00e9rables) `c1` et `c2` de m\u00eame taille \u00e0 la fonction `alternat`, qui doit construire une liste contenant les \u00e9l\u00e9ments pris alternativement dans `c1` et dans `c2`."
     ]
    },
    {
     "cell_type": "code",
     "collapsed": false,
     "input": [
      "# exemple\n",
      "exo_alternat.exemple()"
     ],
     "language": "python",
     "metadata": {},
     "outputs": []
    },
    {
     "cell_type": "code",
     "collapsed": false,
     "input": [
      "def alternat(c1, c2):\n",
      "    \"<votre_code>\""
     ],
     "language": "python",
     "metadata": {},
     "outputs": []
    },
    {
     "cell_type": "code",
     "collapsed": false,
     "input": [
      "# pour v\u00e9rifier votre code\n",
      "exo_alternat.correction(alternat)"
     ],
     "language": "python",
     "metadata": {},
     "outputs": []
    },
    {
     "cell_type": "heading",
     "level": 2,
     "metadata": {},
     "source": [
      "Exercice - niveau interm\u00e9diaire"
     ]
    },
    {
     "cell_type": "markdown",
     "metadata": {},
     "source": [
      "On se donne deux ensembles A et B de tuples de la forme\n",
      "\n",
      "    (entier, valeur)\n",
      "\n",
      "On vous demande d'\u00e9crire une fonction `intersect` qui retourne l'ensemble des objets `valeur` associ\u00e9s (dans A ou dans B) \u00e0 un entier qui soit pr\u00e9sent dans (un tuple de) A *et* dans (un tuple de) B."
     ]
    },
    {
     "cell_type": "code",
     "collapsed": false,
     "input": [
      "# un exemple\n",
      "from corrections.w4s4_comprehensions import exo_intersect\n",
      "exo_intersect.exemple()"
     ],
     "language": "python",
     "metadata": {},
     "outputs": []
    },
    {
     "cell_type": "code",
     "collapsed": false,
     "input": [
      "def intersect(A, B):\n",
      "    \"<votre_code>\""
     ],
     "language": "python",
     "metadata": {},
     "outputs": []
    },
    {
     "cell_type": "code",
     "collapsed": false,
     "input": [
      "# pour v\u00e9rifier votre code\n",
      "exo_intersect.correction(intersect)"
     ],
     "language": "python",
     "metadata": {},
     "outputs": []
    }
   ],
   "metadata": {}
  }
 ]
}