{
 "metadata": {
  "kernelspec": {
   "display_name": "Python 2",
   "language": "python",
   "name": "python2"
  },
  "notebookname": "Le module datetime",
  "signature": "sha256:88656812f4a48e17340d462d4beeac26bfe3c9c13752bc6716090293b53f312f",
  "version": "2.0"
 },
 "nbformat": 3,
 "nbformat_minor": 0,
 "worksheets": [
  {
   "cells": [
    {
     "cell_type": "markdown",
     "metadata": {},
     "source": [
      "<span style=\"float:left;\">Licence CC BY-NC-ND</span><span style=\"float:right;\">Thierry Parmentelat &amp; Arnaud Legout,<img src=\"media/inria-25.png\" style=\"display:inline\"></span><br/>"
     ]
    },
    {
     "cell_type": "heading",
     "level": 1,
     "metadata": {},
     "source": [
      "Un exemple de classes de la librairie standard"
     ]
    },
    {
     "cell_type": "heading",
     "level": 2,
     "metadata": {},
     "source": [
      "Compl\u00e9ment - niveau basique"
     ]
    },
    {
     "cell_type": "heading",
     "level": 3,
     "metadata": {},
     "source": [
      "Le module `time`"
     ]
    },
    {
     "cell_type": "markdown",
     "metadata": {},
     "source": [
      "En semaine 3, lorsque nous avons \u00e9tudi\u00e9 la performance des it\u00e9rateurs, nous avions introduit le module `time`. Il s'agit d'une interface de tr\u00e8s bas niveau avec l'OS, et en guise de rappel :"
     ]
    },
    {
     "cell_type": "code",
     "collapsed": false,
     "input": [
      "import time\n",
      "\n",
      "# on obtient l'heure courante sous la forme d'un flottant\n",
      "t_now = time.time()\n",
      "# et pour calculer l'heure qu'il sera dans trois heures on fait\n",
      "t_later = t_now + 3 * 3600"
     ],
     "language": "python",
     "metadata": {},
     "outputs": []
    },
    {
     "cell_type": "markdown",
     "metadata": {},
     "source": [
      "Nous sommes donc ici clairement dans une approche non orient\u00e9e objet; on manipule des types de base, ici le type flottant :"
     ]
    },
    {
     "cell_type": "code",
     "collapsed": false,
     "input": [
      "print 'dans trois heures', t_later"
     ],
     "language": "python",
     "metadata": {},
     "outputs": []
    },
    {
     "cell_type": "markdown",
     "metadata": {},
     "source": [
      "Et comme on le voit, les calculs se font sous une forme pas tr\u00e8s lisible. En effet, la m\u00e9thode `time` retourne le nombre de secondes \u00e9coul\u00e9es depuis le 1 janvier 1970 \u00e0 l'instant de l'appel. Pour rendre ce nombre de secondes plus lisible, on utilise des conversions, pas vraiment explicites non plus; voici par exemple un appel \u00e0 `gmtime` qui convertit le flottant obtenu par la m\u00e9thode `time()` en heure UTC (`gm` est pour Greenwhich Meridian) :"
     ]
    },
    {
     "cell_type": "code",
     "collapsed": false,
     "input": [
      "struct_later = time.gmtime(t_later)\n",
      "print struct_later"
     ],
     "language": "python",
     "metadata": {},
     "outputs": []
    },
    {
     "cell_type": "markdown",
     "metadata": {},
     "source": [
      "Et on met en forme ce r\u00e9sultat en utilisant des m\u00e9thodes comme, par exemple, `strftime()` pour afficher l'heure UTC dans 3 heures :"
     ]
    },
    {
     "cell_type": "code",
     "collapsed": false,
     "input": [
      "print 'heure UTC dans trois heures', time.strftime(\"%Y-%m-%d at %H:%M\", struct_later)"
     ],
     "language": "python",
     "metadata": {},
     "outputs": []
    },
    {
     "cell_type": "markdown",
     "metadata": {},
     "source": [
      "---"
     ]
    },
    {
     "cell_type": "heading",
     "level": 3,
     "metadata": {},
     "source": [
      "Le module datetime"
     ]
    },
    {
     "cell_type": "markdown",
     "metadata": {},
     "source": [
      "Voyons \u00e0 pr\u00e9sent, par comparaison, comment ce genre de calculs se pr\u00e9sente lorsqu'on utilise la programmation par objets.\n",
      "\n",
      "Le [module `datetime`](https://docs.python.org/2/library/datetime.html) expose un certain nombre de classes, que nous illustrons bri\u00e8vement avec les classes `datetime` (qui mod\u00e9lise la date et l'heure d'un instant) et `timedelta` (qui mod\u00e9lise une dur\u00e9e).\n",
      "\n",
      "La premi\u00e8re remarque qu'on peut faire, c'est qu'avec le module `time` on manipulait un flottant pour repr\u00e9senter ces deux sortes d'objets (instant et dur\u00e9e); avec deux classes diff\u00e9rentes notre code va \u00eatre plus clair quant \u00e0 ce qui est r\u00e9ellement repr\u00e9sent\u00e9."
     ]
    },
    {
     "cell_type": "markdown",
     "metadata": {},
     "source": [
      "Le code ci-dessus s'\u00e9crirait alors, en utilisant le module `datetime`"
     ]
    },
    {
     "cell_type": "code",
     "collapsed": false,
     "input": [
      "from datetime import datetime, timedelta\n",
      "\n",
      "dt_now = datetime.now()\n",
      "dt_later = dt_now + timedelta(hours=3)"
     ],
     "language": "python",
     "metadata": {},
     "outputs": []
    },
    {
     "cell_type": "markdown",
     "metadata": {},
     "source": [
      "Vous remarquez que c'est d\u00e9j\u00e0 un peu plus clair.\n",
      "\n",
      "Voyez aussi qu'on n'a d\u00e9j\u00e0 moins besoin de s'escrimer pour en avoir un aper\u00e7u lisible"
     ]
    },
    {
     "cell_type": "code",
     "collapsed": false,
     "input": [
      "print 'maintenant', dt_now"
     ],
     "language": "python",
     "metadata": {},
     "outputs": []
    },
    {
     "cell_type": "code",
     "collapsed": false,
     "input": [
      "print 'dans trois heures',dt_later.strftime(\"%Y-%m-%d at %H:%M\")"
     ],
     "language": "python",
     "metadata": {},
     "outputs": []
    },
    {
     "cell_type": "markdown",
     "metadata": {},
     "source": [
      "Je vous renvoie au d\u00e9tail du module, et [notamment  ici](https://docs.python.org/2/library/datetime.html#strftime-and-strptime-behavior), pour le d\u00e9tail des options de formatage disponibles au travers de `strftime`."
     ]
    },
    {
     "cell_type": "heading",
     "level": 3,
     "metadata": {},
     "source": [
      "Conclusion"
     ]
    },
    {
     "cell_type": "markdown",
     "metadata": {},
     "source": [
      "Une partie des inconv\u00e9nients du module `time` vient certainement du parti-pris de l'efficacit\u00e9. De plus, c'est un module tr\u00e8s ancien, mais auquel on ne peut gu\u00e8re toucher pour des raisons de compatibilit\u00e9 ascendante.\n",
      "\n",
      "Par contre, le module `datetime`, tout en vous procurant un premier exemple de classes expos\u00e9es par la librairie standard, vous montre, nous l'esp\u00e9rons, certains des avantages de la programmation orient\u00e9e objet en g\u00e9n\u00e9ral, et des classes de python en particulier.\n",
      "\n",
      "Si vous devez manipuler des dates ou des heures, le module `datetime` constitue tr\u00e8s certainement un bon candidat; voyez la [documentation compl\u00e8te du module](https://docs.python.org/2/library/datetime.html) pour plus de pr\u00e9cisions sur ses possibilit\u00e9s."
     ]
    },
    {
     "cell_type": "heading",
     "level": 2,
     "metadata": {},
     "source": [
      "Compl\u00e9ment - niveau interm\u00e9diaire"
     ]
    },
    {
     "cell_type": "heading",
     "level": 3,
     "metadata": {},
     "source": [
      "Fuseaux horaires et temps local"
     ]
    },
    {
     "cell_type": "markdown",
     "metadata": {},
     "source": [
      "Le temps nous manque pour traiter ce sujet dans toute sa profondeur.\n",
      "\n",
      "En substance, c'est un sujet assez voisin de celui des accents, en ce sens que lors d'\u00e9changes d'informations de type *timestamp* entre deux ordinateurs, il faut \u00e9changer d'une part une valeur (l'heure et la date), et d'autre part le r\u00e9f\u00e9rentiel (s'agit-il de temps UTC, ou bien de l'heure dans un fuseau horaire, et si oui lequel).\n",
      "\n",
      "La complexit\u00e9 est tout de m\u00eame moindre que dans le cas des accents; on s'en sort en g\u00e9n\u00e9ral en convenant d'\u00e9changer syst\u00e9matiquement des heures UTC. Par contre, il existe une r\u00e9elle diversit\u00e9 quant au format utilis\u00e9 pour \u00e9changer ce type d'information, et cela reste une source d'erreurs assez fr\u00e9quente."
     ]
    },
    {
     "cell_type": "heading",
     "level": 2,
     "metadata": {},
     "source": [
      "Compl\u00e9ment - niveau avanc\u00e9"
     ]
    },
    {
     "cell_type": "heading",
     "level": 3,
     "metadata": {},
     "source": [
      "Classes et *marshalling*"
     ]
    },
    {
     "cell_type": "markdown",
     "metadata": {},
     "source": [
      "Ceci nous procure une transition pour un sujet beaucoup plus g\u00e9n\u00e9ral.\n",
      "\n",
      "Nous avons \u00e9voqu\u00e9, en d\u00e9but de semaine 4, les formats comme JSON pour \u00e9changer les donn\u00e9es entre applications, au travers de fichiers ou d'un r\u00e9seau.\n",
      "\n",
      "On a vu, par exemple, que JSON est un format \"proche des langages\" en ce sens qu'il est capable d'\u00e9changer des objets de base comme des listes ou des dictionnaires entre plusieurs langages comme, par exemple, JavaScript, python ou ruby. En XML, on a davantage de flexibilit\u00e9 puisqu'on peut d\u00e9finir une syntaxe sur les donn\u00e9es \u00e9chang\u00e9es.\n",
      "\n",
      "Mais il faut \u00eatre bien lucide sur le fait que, aussi bien pour JSON que pour XML, il n'est **pas  possible** d'\u00e9changer entre applications des **objets** en tant que tel. Ce que nous voulons dire, c'est que ces technologies de *marshalling* prennent bien en charge le *contenu* en termes de donn\u00e9es, mais pas les informations de type, et *a fortiori* pas non plus le code qui appartient \u00e0 la classe.\n",
      "\n",
      "Il est important d'\u00eatre conscient de cette limitation lorsqu'on fait des choix de conception, notamment lorsqu'on est amen\u00e9 \u00e0 choisir entre classe et dictionnaire pour l'impl\u00e9mentation de telle ou telle abstraction."
     ]
    },
    {
     "cell_type": "markdown",
     "metadata": {},
     "source": [
      "Voyons cela sur un exemple inspir\u00e9 de notre fichier de donn\u00e9es li\u00e9es au trafic maritime. En version simplifi\u00e9e, un bateau est d\u00e9crit par trois valeurs, son identit\u00e9 (id), son nom et son pays d'attachement. \n",
      "\n",
      "Nous allons voir comment on peut \u00e9changer ces informations entre, disons, deux programmes dont l'un est en python, via un support r\u00e9seau ou disque."
     ]
    },
    {
     "cell_type": "markdown",
     "metadata": {},
     "source": [
      "Si on choisit de se contenter de manipuler un dictionnaire standard, avec trois couples *(\"id\", 1000), (\"name\", \"Toccata\"), (\"country\", \"FRA\")*, on peut utiliser essentiellement tels quels les m\u00e9canismes d'encodage et d\u00e9codage de, disons, JSON. En effet c'est exactement ce genre d'informations que sait g\u00e9rer la couche JSON (ou XMLRPC par exemple)."
     ]
    },
    {
     "cell_type": "markdown",
     "metadata": {},
     "source": [
      "Si au contraire on choisit de manipuler les donn\u00e9es sous forme d'une classe on pourrait avoir envie d'\u00e9crire quelque chose comme ceci&nbsp;:"
     ]
    },
    {
     "cell_type": "code",
     "collapsed": false,
     "input": [
      "class Bateau:\n",
      "    def __init__(self, id, name, country):\n",
      "        self.id = id\n",
      "        self.name = name\n",
      "        self.country = country\n",
      "        \n",
      "bateau = Bateau(1000, \"Toccata\", \"FRA\")"
     ],
     "language": "python",
     "metadata": {},
     "outputs": []
    },
    {
     "cell_type": "markdown",
     "metadata": {},
     "source": [
      "Maintenant, si vous avez besoin d'\u00e9changer cet objet avec le reste du monde, en utilisant par exemple JSON, tout ce que vous allez pouvoir faire passer par ce m\u00e9dium, c'est la valeur des trois champs, dans un dictionnaire. Vous pouvez facilement obtenir le dictionnaire en question pour le passer \u00e0 la couche d'encodage&nbsp;:"
     ]
    },
    {
     "cell_type": "code",
     "collapsed": false,
     "input": [
      "vars(bateau)"
     ],
     "language": "python",
     "metadata": {},
     "outputs": []
    },
    {
     "cell_type": "markdown",
     "metadata": {},
     "source": [
      "Mais \u00e0 l'autre bout de la communication il va vous falloir&nbsp;:\n",
      " * d\u00e9terminer d'une mani\u00e8re ou d'une autre que les donn\u00e9es \u00e9chang\u00e9es sont en rapport avec la classe `Bateau`,\n",
      " * et construire vous m\u00eame un objet de cette classe, par exemple avec un code comme&nbsp;:"
     ]
    },
    {
     "cell_type": "code",
     "collapsed": false,
     "input": [
      "class Bateau:\n",
      "    def __init__(self, *args):\n",
      "        if len(args) == 1 and isinstance(args[0], dict):\n",
      "            self.__dict__ = args[0]\n",
      "        elif len(args) == 3:\n",
      "            id, name, country = args\n",
      "            self.id = id\n",
      "            self.name = name\n",
      "            self.country = country\n",
      "            \n",
      "bateau1 = Bateau({'id': 1000, 'name': 'Leon', 'country': 'France'})\n",
      "bateau2 = Bateau(1001, 'Maluba', 'SUI' )"
     ],
     "language": "python",
     "metadata": {},
     "outputs": []
    },
    {
     "cell_type": "heading",
     "level": 3,
     "metadata": {},
     "source": [
      "Conclusion"
     ]
    },
    {
     "cell_type": "markdown",
     "metadata": {},
     "source": [
      "Pour reformuler ce dernier point, il n'y a pas en python l'\u00e9quivalent de [jmi (Java Metadata Interface)](https://en.wikipedia.org/wiki/Java_Metadata_Interface) int\u00e9gr\u00e9 \u00e0 la distribution standard. \n",
      "\n",
      "Et, l\u00e0 aussi, contrairement \u00e0 Java, on peut \u00e9crire du code en dehors des classes. On n'est pas forc\u00e9ment oblig\u00e9 d'\u00e9crire une classe pour tout. Chaque situation doit \u00eatre jug\u00e9e dans son contexte naturellement, mais, de mani\u00e8re g\u00e9n\u00e9rale, la classe n'est pas la solution universelle&nbsp;; il peut y avoir des m\u00e9rites dans le fait de manipuler certaines donn\u00e9es sous une forme all\u00e9g\u00e9e comme un type natif."
     ]
    }
   ],
   "metadata": {}
  }
 ]
}