{
 "metadata": {
  "kernelspec": {
   "display_name": "Python 2",
   "language": "python",
   "name": "python2"
  },
  "notebookname": "Les mots-cl\u00e9s",
  "signature": "sha256:d6dd009118027c3fa4bd9cc341552cc80f904d2d247f909e8e2ffdadd913fbe5",
  "version": "2.0"
 },
 "nbformat": 3,
 "nbformat_minor": 0,
 "worksheets": [
  {
   "cells": [
    {
     "cell_type": "markdown",
     "metadata": {},
     "source": [
      "<span style=\"float:left;\">Licence CC BY-NC-ND</span><span style=\"float:right;\">Thierry Parmentelat &amp; Arnaud Legout,<img src=\"media/inria-25.png\" style=\"display:inline\"></span><br/>"
     ]
    },
    {
     "cell_type": "heading",
     "level": 1,
     "metadata": {},
     "source": [
      "Les mots-cl\u00e9s de python"
     ]
    },
    {
     "cell_type": "heading",
     "level": 3,
     "metadata": {},
     "source": [
      "Mots r\u00e9serv\u00e9s"
     ]
    },
    {
     "cell_type": "markdown",
     "metadata": {},
     "source": [
      "Il existe en python certains mots sp\u00e9ciaux, qu'on appelle des mots-cl\u00e9s, ou `keywords` en anglais, qui sont r\u00e9serv\u00e9s et **ne peuvent pas \u00eatre utilis\u00e9s** comme identifiants, c'est-\u00e0-dire comme un nom de variable."
     ]
    },
    {
     "cell_type": "markdown",
     "metadata": {},
     "source": [
      "C'est le cas par exemple pour l'instruction `print`, que nous verrons prochainement, et qui comme son nom l'indique imprime un r\u00e9sultat"
     ]
    },
    {
     "cell_type": "code",
     "collapsed": false,
     "input": [
      "print \"Hello world !\""
     ],
     "language": "python",
     "metadata": {},
     "outputs": []
    },
    {
     "cell_type": "markdown",
     "metadata": {},
     "source": [
      "\u00c0 cause de la pr\u00e9sence de cette instruction dans le langage, il n'est pas autoris\u00e9 d'appeler une variable `print`:"
     ]
    },
    {
     "cell_type": "code",
     "collapsed": false,
     "input": [
      "# interdit\n",
      "print = 1"
     ],
     "language": "python",
     "metadata": {},
     "outputs": []
    },
    {
     "cell_type": "heading",
     "level": 3,
     "metadata": {},
     "source": [
      "Liste compl\u00e8te"
     ]
    },
    {
     "cell_type": "markdown",
     "metadata": {},
     "source": [
      "Voici la liste compl\u00e8te des mots-cl\u00e9s:"
     ]
    },
    {
     "cell_type": "markdown",
     "metadata": {},
     "source": [
      "<table border=\"0\"><tbody>\n",
      "<tr><td>`and`</td>       <td>`del`</td>       <td>`from`</td>      <td>`not`</td>       <td>`while`</td></tr>\n",
      "<tr><td>`as`</td>        <td>`elif`</td>      <td>`global`</td>    <td>`or`</td>        <td>`with`</td></tr>\n",
      "<tr><td>`assert`</td>    <td>`else`</td>      <td>`if`</td>        <td>`pass`</td>      <td>`yield`</td></tr>\n",
      "<tr><td>`break`</td>     <td>`except`</td>    <td>`import`</td>    <td>`print`</td> <td></td> </tr>\n",
      "<tr><td>`class`</td>     <td>`exec`</td>      <td>`in`</td>        <td>`raise`</td> <td></td> </tr>\n",
      "<tr><td>`continue`</td>  <td>`finally`</td>   <td>`is`</td>        <td>`return`</td> <td></td> </tr>\n",
      "<tr><td>`def`</td>       <td>`for`</td>       <td>`lambda`</td>    <td>`try`</td> <td></td> </tr>\n",
      "</tbody></table>"
     ]
    },
    {
     "cell_type": "markdown",
     "metadata": {},
     "source": [
      "Il vous faudra donc y pr\u00eater attention, surtout au d\u00e9but; avec un tout petit peu d'habitude vous saurez rapidement les \u00e9viter. Vous remarquerez aussi que tous les bons \u00e9diteurs de texte supportant du code Python vont colorer les mots-cl\u00e8s diff\u00e9remment des variables. Par exemple, IDLE colorie les mots-cl\u00e8s en orange, vous pouvez donc tr\u00e8s facilement vous rendre compte que vous allez, par erreur, en utiliser un comme nom de variable. On appelle cette fonctionalit\u00e9 la coloration syntaxique, et elle permet d'identifier facilement (gr\u00e2ce \u00e0 un code de couleur) le r\u00f4le de diff\u00e9rents \u00e9l\u00e9ments de votre code (variable, mots-cl\u00e8s, etc.) D'une mani\u00e8re g\u00e9n\u00e9rale, nous vous d\u00e9conseillons fortement d'utiliser un \u00e9diteur de texte qui n'offre pas cette fonctionalit\u00e9 de coloration syntaxique. En particulier, IDLE, emacs et eclipse offrent un support appropri\u00e9, incluant la coloration syntaxique, pour programmer en Python. "
     ]
    },
    {
     "cell_type": "heading",
     "level": 3,
     "metadata": {},
     "source": [
      "Pour en savoir plus"
     ]
    },
    {
     "cell_type": "markdown",
     "metadata": {},
     "source": [
      "On peut se reporter \u00e0 cette page\n",
      "\n",
      "https://docs.python.org/2/reference/lexical_analysis.html#keywords"
     ]
    }
   ],
   "metadata": {}
  }
 ]
}