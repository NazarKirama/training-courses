{
 "metadata": {
  "kernelspec": {
   "display_name": "Python 2",
   "language": "python",
   "name": "python2"
  },
  "notebookname": "Recherche d'attributs",
  "signature": "sha256:815ede17b5d083a646fc93c4f3a0bcd5208f46c04f3bc28e3416f3fea6f08441",
  "version": "2.0"
 },
 "nbformat": 3,
 "nbformat_minor": 0,
 "worksheets": [
  {
   "cells": [
    {
     "cell_type": "markdown",
     "metadata": {},
     "source": [
      "<span style=\"float:left;\">Licence CC BY-NC-ND</span><span style=\"float:right;\">Thierry Parmentelat &amp; Arnaud Legout,<img src=\"media/inria-25.png\" style=\"display:inline\"></span><br/>"
     ]
    },
    {
     "cell_type": "heading",
     "level": 1,
     "metadata": {},
     "source": [
      "Attributs de classe et attributs d'instance"
     ]
    },
    {
     "cell_type": "heading",
     "level": 2,
     "metadata": {},
     "source": [
      "Compl\u00e9ment - niveau interm\u00e9diaire"
     ]
    },
    {
     "cell_type": "markdown",
     "metadata": {},
     "source": [
      "Nous avons vu jusqu'\u00e0 pr\u00e9sent que l'on peut ajouter des attributs \u00e0 toutes sortes d'objets en python, et notamment \u00e0\n",
      " * un module,\n",
      " * une fonction,\n",
      " * une classe,\n",
      " * une instance de classe."
     ]
    },
    {
     "cell_type": "markdown",
     "metadata": {},
     "source": [
      "Nous avons vu \u00e9galement, si vous vous souvenez de la classe `Matrix2`, qu'**en r\u00e8gle g\u00e9n\u00e9rale** : \n",
      " * une *m\u00e9thode* est un *attribut de la classe*,\n",
      " * et que les *donn\u00e9es* qui d\u00e9crivent l'objet sont rang\u00e9es dans des *attributs de l'instance*."
     ]
    },
    {
     "cell_type": "heading",
     "level": 3,
     "metadata": {},
     "source": [
      "Propos de ce compl\u00e9ment"
     ]
    },
    {
     "cell_type": "markdown",
     "metadata": {},
     "source": [
      "Dans ce compl\u00e9ment, nous allons approfondir les notions d'attributs de classe et d'attributs d'instance. \n",
      "\n",
      "Le **premier point** que nous voulons illustrer ici est que le langage **ne fait pas la diff\u00e9rence** entre un attribut dont la valeur est du code (une fonction ou une m\u00e9thode), et un attribut contenant des donn\u00e9es.\n",
      "\n",
      "Le **second point** est qu'un attribut est cherch\u00e9 **en premier dans l'instance puis dans la classe**. \n",
      "\n",
      "Pour illustrer tout ceci nous allons voir que le langage permet \u00e9galement :\n",
      " * d'attacher des *donn\u00e9es \u00e0 une classe* - pour d\u00e9finir par exemple une valeur par d\u00e9faut valable pour toutes les instances de la classe, ou de\n",
      " * de *d\u00e9finir une m\u00e9thode sur une instance* - pour sp\u00e9cialiser un comportement pour un seul objet, et ainsi \u00e9viter de d\u00e9finir une nouvelle classe pour un seul objet. \n",
      " \n",
      "Nous d\u00e9montrons ce second usage, rare en pratique, dans la derni\u00e8re partie de ce compl\u00e9ment qui est de niveau avanc\u00e9e."
     ]
    },
    {
     "cell_type": "heading",
     "level": 3,
     "metadata": {},
     "source": [
      "Un attribut de donn\u00e9e d\u00e9fini sur la classe"
     ]
    },
    {
     "cell_type": "markdown",
     "metadata": {},
     "source": [
      "Voyons, pour commencer, un exemple de classe avec un attribut de donn\u00e9es qui est en fait un attribut qui r\u00e9f\u00e9rence un objet `builtin` contenant des donn\u00e9es, comme par exemple `int`, `list` ou `str`."
     ]
    },
    {
     "cell_type": "code",
     "collapsed": false,
     "input": [
      "class Spam:\n",
      "    attribut = \"attribut de classe\""
     ],
     "language": "python",
     "metadata": {},
     "outputs": []
    },
    {
     "cell_type": "markdown",
     "metadata": {},
     "source": [
      "Naturellement, on aurait pu aussi d\u00e9finir des m\u00e9thodes dans cette classe, mais nous avons choisi de montrer un exemple tr\u00e8s simple."
     ]
    },
    {
     "cell_type": "markdown",
     "metadata": {},
     "source": [
      "La classe `Spam` poss\u00e8de donc maintenant l'attribut `attribut` qui vaut"
     ]
    },
    {
     "cell_type": "code",
     "collapsed": false,
     "input": [
      "Spam.attribut"
     ],
     "language": "python",
     "metadata": {},
     "outputs": []
    },
    {
     "cell_type": "markdown",
     "metadata": {},
     "source": [
      "Cr\u00e9ons \u00e0 pr\u00e9sent une instance de cette classe :"
     ]
    },
    {
     "cell_type": "code",
     "collapsed": false,
     "input": [
      "# une instance sp\u00e9ciale de Spam - on va lui attacher un attribut\n",
      "special = Spam()"
     ],
     "language": "python",
     "metadata": {},
     "outputs": []
    },
    {
     "cell_type": "markdown",
     "metadata": {},
     "source": [
      "On peut naturellement attacher \u00e0 cette instance un attribut `attribut`, comme on l'a d\u00e9j\u00e0 vu :"
     ]
    },
    {
     "cell_type": "code",
     "collapsed": false,
     "input": [
      "# on affecte l'attribut de l'instance\n",
      "special.attribut = \"attribut de l'instance\"\n",
      "\n",
      "# naturellement on retrouve cette valeur quand\n",
      "# on cherche l'attribut \u00e0 partir de l'instance\n",
      "print 'special:', special.attribut"
     ],
     "language": "python",
     "metadata": {},
     "outputs": []
    },
    {
     "cell_type": "markdown",
     "metadata": {},
     "source": [
      "Le point important de ce compl\u00e9ment, c'est qu'une **instance** \u00e0 laquelle on n'a pourtant pas attach\u00e9 d'attribut `attribut` peut tout de m\u00eame **r\u00e9f\u00e9rencer** cet attribut et **trouver celui de la classe** comme si c'\u00e9tait le sien:"
     ]
    },
    {
     "cell_type": "code",
     "collapsed": false,
     "input": [
      "# une autre instance de Spam\n",
      "defaut = Spam()\n",
      "\n",
      "# par contre on ne lui affecte *pas* d'attribut d'instance\n",
      "# mais on peut *tout de m\u00eame* chercher l'attribut\n",
      "print 'defaut:', defaut.attribut"
     ],
     "language": "python",
     "metadata": {},
     "outputs": []
    },
    {
     "cell_type": "heading",
     "level": 3,
     "metadata": {},
     "source": [
      "Discussion"
     ]
    },
    {
     "cell_type": "markdown",
     "metadata": {},
     "source": [
      "En fait, on a d\u00e9j\u00e0 vu ce m\u00e9canisme en action; c'est exactement la m\u00eame chose qui se passe lorsqu'on a :\n",
      " * une classe qui d\u00e9finit la m\u00e9thode `foo`\n",
      " * et une instance `obj` de la classe sur laquelle on appelle la m\u00e9thode en faisant\n",
      " \n",
      "    obj.foo()\n",
      "\n",
      "Le m\u00e9canisme de recherche d'un attribut sur une instance est le m\u00eame, que cet attribut repr\u00e9sente une m\u00e9thode ou une donn\u00e9e. En effet, en python tout est un objet et un attribut peut r\u00e9f\u00e9rencer n'importer quel objet. \u00c7a n'est que lorsque l'interpr\u00e9teur python acc\u00e8de \u00e0 l'objet qu'il peut finalement conna\u00eetre son type. "
     ]
    },
    {
     "cell_type": "heading",
     "level": 3,
     "metadata": {},
     "source": [
      "Conclusion"
     ]
    },
    {
     "cell_type": "markdown",
     "metadata": {},
     "source": [
      "Comme on l'a vu, le m\u00e9canisme d'attributs, bien qu'extr\u00eamement simple, est tr\u00e8s souple et tr\u00e8s puissant. Le langage ne fait pas de diff\u00e9rence entre attributs de donn\u00e9es et de m\u00e9thodes puisqu'un attribut r\u00e9f\u00e9rence n'importe quel objet et qu'en python tout est en objet. On peut attacher, au choix, **\u00e0 une instance ou \u00e0 une classe**, des attributs repr\u00e9sentant **n'importe quel objet**, et la recherche de ces attributs se fait dans l'ordre **instance** puis **classe**.\n",
      "\n",
      "Nous verrons dans la prochaine vid\u00e9o que les m\u00e9canismes d'h\u00e9ritage ne font que prolonger ce m\u00e9canisme de recherche d'attributs."
     ]
    },
    {
     "cell_type": "heading",
     "level": 2,
     "metadata": {},
     "source": [
      "Compl\u00e9ment - niveau avanc\u00e9"
     ]
    },
    {
     "cell_type": "heading",
     "level": 3,
     "metadata": {},
     "source": [
      "Un attribut de m\u00e9thode d\u00e9fini sur une instance"
     ]
    },
    {
     "cell_type": "markdown",
     "metadata": {},
     "source": [
      "D\u00e9finir un attribut de donn\u00e9es dans une classe, comme on vient de le voir, pr\u00e9sente un int\u00e9r\u00eat pratique; il est parfois commode de d\u00e9finir une constante, ou une valeur par d\u00e9faut, au niveau de la classe, qui s'applique alors \u00e0 tous les objets.\n",
      "\n",
      "Nous allons \u00e0 pr\u00e9sent illustrer la possibilit\u00e9 de d\u00e9finir une m\u00e9thode au niveau d'une instance. Comme ceci est rare en pratique, il s'agit ici de bien comprendre les m\u00e9canismes du langage plut\u00f4t que de d\u00e9couvrir une technique de programmation. Pour cela nous prenons \u00e0 nouveau une classe jouet."
     ]
    },
    {
     "cell_type": "code",
     "collapsed": false,
     "input": [
      "class Eggs:\n",
      "    def __init__(self, name):\n",
      "        self.name = name"
     ],
     "language": "python",
     "metadata": {},
     "outputs": []
    },
    {
     "cell_type": "markdown",
     "metadata": {},
     "source": [
      "Et nous cr\u00e9ons \u00e0 nouveau deux instances, une qui va se comporter comme la classe, et une qui aura un comportement sp\u00e9cial"
     ]
    },
    {
     "cell_type": "code",
     "collapsed": false,
     "input": [
      "defaut = Eggs('defaut')\n",
      "special = Eggs('special')\n",
      "\n",
      "print 'defaut', defaut, 'special', special"
     ],
     "language": "python",
     "metadata": {},
     "outputs": []
    },
    {
     "cell_type": "markdown",
     "metadata": {},
     "source": [
      "On va maintenant attacher \u00e0 la classe une m\u00e9thode `__repr__` pour red\u00e9finir comment imprimer les objets de la classe `Eggs`"
     ]
    },
    {
     "cell_type": "code",
     "collapsed": false,
     "input": [
      "# on red\u00e9finit la m\u00e9thode __repr__ sur la classe `Eggs`\n",
      "def repr_eggs(self):\n",
      "    return \"<<Eggs instance, name={}>>\".format(self.name)\n",
      "Eggs.__repr__ = repr_eggs\n",
      "\n",
      "# \u00e0 pr\u00e9sent les deux instances s'impriment selon ce format\n",
      "print 'defaut', defaut, 'special', special"
     ],
     "language": "python",
     "metadata": {},
     "outputs": []
    },
    {
     "cell_type": "markdown",
     "metadata": {},
     "source": [
      "Jusqu'ici rien de nouveau. \n",
      "\n",
      "Nous allons maintenant attacher une m\u00e9thode `__repr__` **\u00e0 une instance** en propre. C'est ici que les choses se compliquent un tout petit peu. Nous avons deux choix pour cela. "
     ]
    },
    {
     "cell_type": "heading",
     "level": 5,
     "metadata": {},
     "source": [
      "Premi\u00e8re technique"
     ]
    },
    {
     "cell_type": "markdown",
     "metadata": {},
     "source": [
      "La premi\u00e8re technique consiste \u00e0 d\u00e9finir une fonction **sans argument**. C'est surprenant car nous avons vu jusqu'ici que `__repr__` s'attend \u00e0 recevoir **un argument**.\n",
      " \n",
      "Voyons d'abord le code "
     ]
    },
    {
     "cell_type": "code",
     "collapsed": false,
     "input": [
      "# on d\u00e9finit une fonction, sans argument donc\n",
      "def repr_special_sans_argument():\n",
      "    return \"<<SPECIAL (technique sans argument)>>\"\n",
      "\n",
      "# et on l'attache \u00e0 l'instance\n",
      "special.__repr__ = repr_special_sans_argument\n",
      "\n",
      "# \u00e0 pr\u00e9sent on a chang\u00e9 le format d'impression de special\n",
      "print 'defaut', defaut, 'special', special"
     ],
     "language": "python",
     "metadata": {},
     "outputs": []
    },
    {
     "cell_type": "markdown",
     "metadata": {},
     "source": [
      "Avant d'aller plus loin, souvenez-vous qu'avant de parler de classes on a parl\u00e9 de fonctions; on pourrait tr\u00e8s bien avoir envie de ranger dans un attribut une vraie fonction et de pouvoir l'appeler comme une fonction, mais pas comme une m\u00e9thode, c'est-\u00e0-dire sans mettre en \u0153uvre la *magie* qui consiste \u00e0 mettre l'instance elle-m\u00eame comme premier argument.\n",
      "\n",
      "Il faut donc pouvoir diff\u00e9rencier entre le cas d'une fonction simple et le cas d'une m\u00e9thode \u00e0 laquelle l'interpr\u00e9teur passe automatiquement une r\u00e9f\u00e9rence de l'instance comme premier argument.\n",
      "\n",
      "C'est exactement ce que l'on fait ici&nbsp;: la fonction que nous avons attach\u00e9e \u00e0 l'instance n'est pas de m\u00eame nature que celle attach\u00e9e \u00e0 la classe; voyons ces deux objets&nbsp;:"
     ]
    },
    {
     "cell_type": "code",
     "collapsed": false,
     "input": [
      "print \"sur la classe\", Eggs.__repr__\n",
      "print \"sur l'instance\", special.__repr__"
     ],
     "language": "python",
     "metadata": {},
     "outputs": []
    },
    {
     "cell_type": "markdown",
     "metadata": {},
     "source": [
      "On voit que sur la classe, l'attribut `__repr__` est un objet de type `unbound method`, alors que sur l'instance c'est un objet de type `function` tout b\u00eate.\n",
      "\n",
      "Et c'est sur cette diff\u00e9rence que se base l'interpr\u00e9teur pour ajouter, ou non, l'objet en premier argument de l'appel."
     ]
    },
    {
     "cell_type": "heading",
     "level": 5,
     "metadata": {},
     "source": [
      "Deuxi\u00e8me technique"
     ]
    },
    {
     "cell_type": "markdown",
     "metadata": {},
     "source": [
      "Si on veut se mettre dans un cadre plus conforme \u00e0 ce qui est habituel, il faut dire explicitement que la fonction est en fait une m\u00e9thode de l'instance. On commence par \u00e9crire une fonction qui prend bien **un argument** :"
     ]
    },
    {
     "cell_type": "code",
     "collapsed": false,
     "input": [
      "# on d\u00e9finit la m\u00e9tode d'impression sur l'instance 'special'\n",
      "def repr_special_avec_argument(self):\n",
      "    return \"<<SPECIAL {} (technique avec argument)\".format(self.name)"
     ],
     "language": "python",
     "metadata": {},
     "outputs": []
    },
    {
     "cell_type": "markdown",
     "metadata": {},
     "source": [
      "Mais au lieu de l'attacher telle quelle on la convertit en m\u00e9thode en d\u00e9finissant un nouvel objet de type `MethodType` :"
     ]
    },
    {
     "cell_type": "code",
     "collapsed": false,
     "input": [
      "import types\n",
      "special.__repr__ = types.MethodType(repr_special_avec_argument, special)"
     ],
     "language": "python",
     "metadata": {},
     "outputs": []
    },
    {
     "cell_type": "markdown",
     "metadata": {},
     "source": [
      "apr\u00e8s quoi on verra cet objet s'afficher diff\u00e9remment des autres"
     ]
    },
    {
     "cell_type": "code",
     "collapsed": false,
     "input": [
      "special"
     ],
     "language": "python",
     "metadata": {},
     "outputs": []
    },
    {
     "cell_type": "markdown",
     "metadata": {},
     "source": [
      "Et la valeur de l'attribut `__repr__` est bien maintenant vue comme une m\u00e9thode et non comme une fonction :"
     ]
    },
    {
     "cell_type": "code",
     "collapsed": false,
     "input": [
      "print \"sur l'instance\", special.__repr__"
     ],
     "language": "python",
     "metadata": {},
     "outputs": []
    },
    {
     "cell_type": "heading",
     "level": 5,
     "metadata": {},
     "source": [
      "Pour en savoir plus"
     ]
    },
    {
     "cell_type": "markdown",
     "metadata": {},
     "source": [
      "Ce sujet est discut\u00e9 plus en profondeur dans [cet article de stackoverflow](http://stackoverflow.com/questions/972/adding-a-method-to-an-existing-object)"
     ]
    }
   ],
   "metadata": {}
  }
 ]
}