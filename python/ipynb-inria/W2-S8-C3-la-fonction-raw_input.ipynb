{
 "metadata": {
  "kernelspec": {
   "display_name": "Python 2",
   "language": "python",
   "name": "python2"
  },
  "notebookname": "La fonction raw_input",
  "signature": "sha256:3c84c5bf1f00fb795d373b96207f01b11e97f9772326ddc4ee4392c8cf95ab98",
  "version": "2.0"
 },
 "nbformat": 3,
 "nbformat_minor": 0,
 "worksheets": [
  {
   "cells": [
    {
     "cell_type": "markdown",
     "metadata": {},
     "source": [
      "<span style=\"float:left;\">Licence CC BY-NC-ND</span><span style=\"float:right;\">Thierry Parmentelat &amp; Arnaud Legout,<img src=\"media/inria-25.png\" style=\"display:inline\"></span><br/>"
     ]
    },
    {
     "cell_type": "heading",
     "level": 1,
     "metadata": {},
     "source": [
      "Obtenir une r\u00e9ponse de l'utilisateur"
     ]
    },
    {
     "cell_type": "heading",
     "level": 2,
     "metadata": {},
     "source": [
      "Compl\u00e9ment - niveau basique"
     ]
    },
    {
     "cell_type": "markdown",
     "metadata": {},
     "source": [
      "Occasionnellement, il peut \u00eatre utile de poser une question \u00e0 l'utilisateur."
     ]
    },
    {
     "cell_type": "heading",
     "level": 3,
     "metadata": {},
     "source": [
      "La fonction raw_input()"
     ]
    },
    {
     "cell_type": "markdown",
     "metadata": {},
     "source": [
      "C'est le propos de la fonction `raw_input`. Par exemple:"
     ]
    },
    {
     "cell_type": "code",
     "collapsed": false,
     "input": [
      "nom_ville = raw_input(\"entrez le nom de la ville : \")\n",
      "print \"nom_ville\", nom_ville"
     ],
     "language": "python",
     "metadata": {},
     "outputs": []
    },
    {
     "cell_type": "markdown",
     "metadata": {},
     "source": [
      "Vous pouvez voir ici comment cette fonction est impl\u00e9ment\u00e9e dans un notebook."
     ]
    },
    {
     "cell_type": "heading",
     "level": 3,
     "metadata": {},
     "source": [
      "Utilitaire `readline`"
     ]
    },
    {
     "cell_type": "markdown",
     "metadata": {},
     "source": [
      "Nous vous conseillons d'essayer \u00e9galement cette fonction dans un terminal avec l'interpr\u00e9teur python."
     ]
    },
    {
     "cell_type": "markdown",
     "metadata": {},
     "source": [
      "Lorsqu'elle est utilis\u00e9e dans un terminal, il est utile d'associer \u00e0 `raw_input` le module `readline`, ainsi l'utilisateur peut utiliser les fl\u00eaches pour \u00e9diter sa r\u00e9ponse, pour revenir en arri\u00e8re ou remonter dans l'historique de ses r\u00e9ponses, comme ceci"
     ]
    },
    {
     "cell_type": "code",
     "collapsed": false,
     "input": [
      "# utile seulement dans un terminal\n",
      "import readline\n",
      "\n",
      "entree = range(3)\n",
      "for i in range(3):\n",
      "    entree[i] = int(raw_input(\"entrez le nombre num\u00e9ro {} \".format(i)))\n",
      "print \"entree\", entree"
     ],
     "language": "python",
     "metadata": {},
     "outputs": []
    },
    {
     "cell_type": "heading",
     "level": 3,
     "metadata": {},
     "source": [
      "Attention \u00e0 bien v\u00e9rifier/convertir"
     ]
    },
    {
     "cell_type": "markdown",
     "metadata": {},
     "source": [
      "Notez bien que `raw_input` renvoie **une cha\u00eene**; c'est assez \u00e9vident, mais il est tr\u00e8s facile de l'oublier et de passer cette cha\u00eene directement \u00e0 une fonction qui s'attend \u00e0 recevoir, par exemple, un nombre entier, auquel cas les choses se passent mal:"
     ]
    },
    {
     "cell_type": "markdown",
     "metadata": {},
     "source": [
      "    >>> range(raw_input(\"nombre de lignes: \"))\n",
      "    nombre de lignes: 4\n",
      "    Traceback (most recent call last):\n",
      "      File \"<stdin>\", line 1, in <module>\n",
      "    TypeError: range() integer end argument expected, got str."
     ]
    },
    {
     "cell_type": "markdown",
     "metadata": {},
     "source": [
      "Dans ce cas il faut appeler la fonction `int` pour convertir le r\u00e9sultat en un entier:"
     ]
    },
    {
     "cell_type": "code",
     "collapsed": false,
     "input": [
      "range(int(raw_input( \"nombre de lignes: \" )))"
     ],
     "language": "python",
     "metadata": {},
     "outputs": []
    },
    {
     "cell_type": "heading",
     "level": 3,
     "metadata": {},
     "source": [
      "Limitations"
     ]
    },
    {
     "cell_type": "markdown",
     "metadata": {},
     "source": [
      "Cette fonction nous sera utile pour nos premiers pas en python.\n",
      "\n",
      "En pratique toutefois, on utilise assez peu cette fonction, car les applications \"r\u00e9elles\" viennent avec leur propre interface utilisateur, souvent graphique, et disposent donc d'autres moyens que celui-ci pour interagir avec l'utilisateur.\n",
      "\n",
      "Les applications destin\u00e9es \u00e0 fonctionner dans un terminal, quant \u00e0 elle, re\u00e7oivent traditionnellement leurs donn\u00e9es de la ligne de commande. C'est le propos du module `argparse` que nous verrons ult\u00e9rieurement."
     ]
    }
   ],
   "metadata": {}
  }
 ]
}