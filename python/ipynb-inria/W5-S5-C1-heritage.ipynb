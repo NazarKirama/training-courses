{
 "metadata": {
  "kernelspec": {
   "display_name": "Python 2",
   "language": "python",
   "name": "python2"
  },
  "notebookname": "H\u00e9ritage",
  "signature": "sha256:e6a03543b1492984734bcea08b74b1e4cf0a6202ce9a06be66d5e85dcdf35beb",
  "version": "2.0"
 },
 "nbformat": 3,
 "nbformat_minor": 0,
 "worksheets": [
  {
   "cells": [
    {
     "cell_type": "markdown",
     "metadata": {},
     "source": [
      "<span style=\"float:left;\">Licence CC BY-NC-ND</span><span style=\"float:right;\">Thierry Parmentelat &amp; Arnaud Legout,<img src=\"media/inria-25.png\" style=\"display:inline\"></span><br/>"
     ]
    },
    {
     "cell_type": "heading",
     "level": 1,
     "metadata": {},
     "source": [
      "H\u00e9ritage"
     ]
    },
    {
     "cell_type": "heading",
     "level": 2,
     "metadata": {},
     "source": [
      "Compl\u00e9ment - niveau basique"
     ]
    },
    {
     "cell_type": "markdown",
     "metadata": {},
     "source": [
      "La notion d'h\u00e9ritage, qui fait partie int\u00e9grante de la Programmation Orient\u00e9e Objet, permet principalement de maximiser la **r\u00e9utilisabilit\u00e9**. \n",
      "\n",
      "Nous avons vu dans la vid\u00e9o les m\u00e9canismes d'h\u00e9ritage *in abstracto*. Pour r\u00e9sumer tr\u00e8s bri\u00e8vement, on recherche un attribut (souvent une m\u00e9thode) \u00e0 partir d'une instance en cherchant :\n",
      " * d'abord dans l'instance elle-m\u00eame,\n",
      " * puis dans la classe de l'instance,\n",
      " * puis dans les super-classes de la classe."
     ]
    },
    {
     "cell_type": "markdown",
     "metadata": {},
     "source": [
      "L'objet de ce compl\u00e9ment est de vous donner, d'un point de vue plus appliqu\u00e9, des id\u00e9es de ce qu'on peut faire ou non avec ce m\u00e9canisme. Le sujet \u00e9tant assez rab\u00e2ch\u00e9 par ailleurs, nous nous concentrerons sur deux points&nbsp;:\n",
      "\n",
      " * les pratiques de base utilis\u00e9es pour la conception de classes, et notamment pour bien distinguer **h\u00e9ritage** et **composition**;\n",
      " * nous verrons ensuite, sur des **exemples extraits de code r\u00e9el**, comment ces m\u00e9canismes permettent en effet de contribuer \u00e0 la r\u00e9utilisabilit\u00e9 du code."
     ]
    },
    {
     "cell_type": "heading",
     "level": 3,
     "metadata": {},
     "source": [
      "Plusieurs formes d'h\u00e9ritage"
     ]
    },
    {
     "cell_type": "markdown",
     "metadata": {},
     "source": [
      "Une m\u00e9thode h\u00e9rit\u00e9e peut \u00eatre rang\u00e9e dans une de ces trois cat\u00e9gories&nbsp;:\n",
      " * *implicite* : si la classe fille ne d\u00e9finit pas du tout la m\u00e9thode,\n",
      " * *red\u00e9finie* : si on r\u00e9crit la m\u00e9thode enti\u00e8rement,\n",
      " * *modifi\u00e9e* : si on r\u00e9crit la m\u00e9thode dans la classe fille, mais en utilisant le code de la classe m\u00e8re."
     ]
    },
    {
     "cell_type": "markdown",
     "metadata": {},
     "source": [
      "Commen\u00e7ons par illustrer tout ceci sur un petit exemple&nbsp;:"
     ]
    },
    {
     "cell_type": "code",
     "collapsed": false,
     "input": [
      "# Une classe m\u00e8re\n",
      "class Fleur(object):\n",
      "    def implicite(self):\n",
      "        print 'Fleur.implicite'\n",
      "    def redefinie(self):\n",
      "        print 'Fleur.redefinie'\n",
      "    def modifiee(self):\n",
      "        print 'Fleur.modifiee'\n",
      "\n",
      "# Une classe fille\n",
      "class Rose(Fleur):\n",
      "    # on ne definit pas implicite\n",
      "    # on redefinit complement redefinie\n",
      "    def redefinie(self):\n",
      "        print 'Rose.redefinie'\n",
      "    def modifiee(self):\n",
      "        Fleur.modifiee(self)\n",
      "        print 'Rose.modifiee apres Fleur'    "
     ],
     "language": "python",
     "metadata": {},
     "outputs": []
    },
    {
     "cell_type": "markdown",
     "metadata": {},
     "source": [
      "Nous avons fait h\u00e9riter la classe `Fleur` de la classe `object`, qui est la pratique recommand\u00e9e; cela fait de toutes nos classes des *classes new-style*, un concept que nous allons \u00e9tudier dans un tout prochain compl\u00e9ment.\n",
      "\n",
      "On peut \u00e0 pr\u00e9sent cr\u00e9er une instance de Rose et appeler sur cette instance les trois m\u00e9thodes."
     ]
    },
    {
     "cell_type": "code",
     "collapsed": false,
     "input": [
      "# fille est une instance de Rose\n",
      "fille = Rose()\n",
      "\n",
      "fille.implicite()"
     ],
     "language": "python",
     "metadata": {},
     "outputs": []
    },
    {
     "cell_type": "code",
     "collapsed": false,
     "input": [
      "fille.redefinie()"
     ],
     "language": "python",
     "metadata": {},
     "outputs": []
    },
    {
     "cell_type": "markdown",
     "metadata": {},
     "source": [
      "S'agissant des deux premi\u00e8res m\u00e9thodes, le comportement qu'on observe est simplement la cons\u00e9quence de l'algorithme de recherche d'attributs&nbsp;: `implicite` est trouv\u00e9e dans la classe Fleur et `redefinie` est trouv\u00e9e dans la classe Rose."
     ]
    },
    {
     "cell_type": "code",
     "collapsed": false,
     "input": [
      "fille.modifiee()"
     ],
     "language": "python",
     "metadata": {},
     "outputs": []
    },
    {
     "cell_type": "markdown",
     "metadata": {},
     "source": [
      "Pour la troisi\u00e8me m\u00e9thode, attardons nous un peu car on voit ici comment *combiner* facilement le code de la classe m\u00e8re avec du code sp\u00e9cifique \u00e0 la classe fille, en appelant explicitement la m\u00e9thode de la classe m\u00e8re lorsqu'on fait&nbsp;:\n",
      "\n",
      "    Fleur.modifiee(self)"
     ]
    },
    {
     "cell_type": "heading",
     "level": 5,
     "metadata": {},
     "source": [
      "La fonction *builtin* `super()`\n"
     ]
    },
    {
     "cell_type": "markdown",
     "metadata": {},
     "source": [
      "Signalons \u00e0 ce sujet, pour \u00eatre exhaustif, l'existence de la [fonction *builtin* `super()`](https://docs.python.org/2/library/functions.html#super) qui permettrait de r\u00e9aliser la m\u00eame chose sans nommer explicitement la classe m\u00e8re, comme on le fait ici&nbsp;:"
     ]
    },
    {
     "cell_type": "code",
     "collapsed": false,
     "input": [
      "# Une version all\u00e9g\u00e9e de la classe fille, qui utilise super()\n",
      "class Rose(Fleur):\n",
      "    def modifiee(self):\n",
      "        super(Rose, self).modifiee()\n",
      "        print 'Rose.modifiee apres Fleur'    "
     ],
     "language": "python",
     "metadata": {},
     "outputs": []
    },
    {
     "cell_type": "code",
     "collapsed": false,
     "input": [
      "fille = Rose()\n",
      "\n",
      "fille.modifiee()"
     ],
     "language": "python",
     "metadata": {},
     "outputs": []
    },
    {
     "cell_type": "markdown",
     "metadata": {},
     "source": [
      "On peut envisager d'utiliser `super()` dans du code tr\u00e8s abstrait o\u00f9 on ne sait pas d\u00e9terminer statiquement le nom de la classe dont il est question. Mais, c'est une question de go\u00fbt \u00e9videmment, je recommande personnellement la premi\u00e8re forme, o\u00f9 on qualifie la m\u00e9thode avec le nom de la classe m\u00e8re qu'on souhaite utiliser. En effet dans la grande majorit\u00e9 des cas&nbsp;:\n",
      " * on sait d\u00e9terminer le nom de la classe dont il est question, \n",
      " * ou alors on veut m\u00e9langer plusieurs m\u00e9thodes h\u00e9rit\u00e9es (via l'h\u00e9ritage multiple, dont on va parler dans un prochain compl\u00e9ment) et dans ce cas `super()` ne peut rien pour nous.\n"
     ]
    },
    {
     "cell_type": "heading",
     "level": 3,
     "metadata": {},
     "source": [
      "H\u00e9ritage *vs* Composition"
     ]
    },
    {
     "cell_type": "markdown",
     "metadata": {},
     "source": [
      "Dans le domaine de la conception orient\u00e9e objet, on fait la diff\u00e9rence entre deux constructions, l'h\u00e9ritage et la composition, qui \u00e0 une analyse superficielle peuvent para\u00eetre procurer des r\u00e9sultats similaires, mais qu'il est important de bien distinguer. \n",
      "\n",
      "Voyons d'abord en quoi consiste la composition et pourquoi le r\u00e9sultat est voisin&nbsp;:"
     ]
    },
    {
     "cell_type": "code",
     "collapsed": false,
     "input": [
      "# Une classe avec qui on n'aura pas de relation d'h\u00e9ritage\n",
      "class Tige(object):\n",
      "    def implicite(self):\n",
      "        print 'Tige.implicite'\n",
      "    def redefinie(self):\n",
      "        print 'Tige.redefinie'\n",
      "    def modifiee(self):\n",
      "        print 'Tige.modifiee'\n",
      "\n",
      "# on n'h\u00e9rite pas\n",
      "# mais on fait ce qu'on appelle un composition\n",
      "# avec la classe Tige\n",
      "class Rose(object):\n",
      "    # mais pour chaque objet de la classe Rose\n",
      "    # on va cr\u00e9er un objet de la classe Tige\n",
      "    # et le conserver dans un champ\n",
      "    def __init__(self):\n",
      "        self.externe = Tige()\n",
      "\n",
      "    # le reste est presque comme tout \u00e0 l'heure\n",
      "    # sauf qu'il faut definir implicite\n",
      "    def implicite(self):\n",
      "        self.externe.implicite()\n",
      "        \n",
      "    # on redefinit complement redefinie\n",
      "    def redefinie(self):\n",
      "        print 'Rose.redefinie'\n",
      "        \n",
      "    def modifiee(self):\n",
      "        self.externe.modifiee()\n",
      "        print 'Rose.modifiee apres Tige'        "
     ],
     "language": "python",
     "metadata": {},
     "outputs": []
    },
    {
     "cell_type": "code",
     "collapsed": false,
     "input": [
      "# on obtient ici exactement le m\u00eame comportement pour les trois sortes de m\u00e9thodes\n",
      "fille = Rose()\n",
      "\n",
      "fille.implicite()\n",
      "fille.redefinie()\n",
      "fille.modifiee()"
     ],
     "language": "python",
     "metadata": {},
     "outputs": []
    },
    {
     "cell_type": "heading",
     "level": 5,
     "metadata": {},
     "source": [
      "Comment choisir ?"
     ]
    },
    {
     "cell_type": "markdown",
     "metadata": {},
     "source": [
      "Alors, quand faut-il utiliser l'h\u00e9ritage et quand faut-il utiliser la composition ?\n",
      "On arrive ici \u00e0 la limite de notre cours, il s'agit plus de conception que de codage \u00e0 proprement parler, mais pour donner une r\u00e9ponse tr\u00e8s courte \u00e0 cette question&nbsp;:\n",
      " * on utilise l'h\u00e9ritage lorsqu'un objet de la sous-classe **est aussi un** objet de la super-classe (une rose est aussi une fleur), et\n",
      " * on utilise la composition lorsqu'un objet de la sous-classe **a une relation avec** un objet de la super-classe (une rose poss\u00e8de une tige, mais c'est un autre objet)."
     ]
    },
    {
     "cell_type": "heading",
     "level": 2,
     "metadata": {},
     "source": [
      "Compl\u00e9ment - niveau interm\u00e9diaire"
     ]
    },
    {
     "cell_type": "heading",
     "level": 3,
     "metadata": {},
     "source": [
      "Des exemples de code"
     ]
    },
    {
     "cell_type": "markdown",
     "metadata": {},
     "source": [
      "Sans transition, dans cette section un peu plus prospective, nous vous avons signal\u00e9 quelques morceaux de code de la librairie standard qui utilisent l'h\u00e9ritage. Sans aller n\u00e9cessairement jusqu'\u00e0 la lecture de ces codes, il nous a sembl\u00e9 int\u00e9ressant de commenter sp\u00e9cifiquement l'usage qui est fait de l'h\u00e9ritage dans ces biblioth\u00e8ques."
     ]
    },
    {
     "cell_type": "heading",
     "level": 5,
     "metadata": {},
     "source": [
      "Le module `calendar`"
     ]
    },
    {
     "cell_type": "markdown",
     "metadata": {},
     "source": [
      "On trouve dans la librairie standard [le module `calendar`](https://docs.python.org/2/library/calendar.html). \n",
      "Ce module expose deux classes `TextCalendar` et `HTMLCalendar`. Sans entrer du tout dans le d\u00e9tail, ces deux classes permettent d'imprimer dans des formats diff\u00e9rents le m\u00eame type d'informations du type rendez-vous.\n",
      "\n",
      "Le point ici est que les concepteurs ont choisi un graphe d'h\u00e9ritage comme ceci&nbsp;:\n",
      "\n",
      "    Calendar\n",
      "    |-- TextCalendar\n",
      "    |-- HTMLCalendar\n",
      "    \n",
      "qui permet de grouper le code concernant la logique dans la classe `Calendar`, puis dans les deux sous-classes d'impl\u00e9menter le type de sortie qui va bien. \n",
      "\n",
      "De cette mani\u00e8re, le maximum de code est partag\u00e9 entre les deux classes; et de plus si vous avez besoin d'une sortie au format, disons PDF, vous pouvez envisager d'h\u00e9riter de `Calendar` et n'impl\u00e9menter que la partie sp\u00e9cifique au format PDF.\n",
      "\n",
      "C'est un peu le niveau \u00e9l\u00e9mentaire de l'h\u00e9ritage. "
     ]
    },
    {
     "cell_type": "heading",
     "level": 5,
     "metadata": {},
     "source": [
      "Le module `SocketServer`"
     ]
    },
    {
     "cell_type": "markdown",
     "metadata": {},
     "source": [
      "Toujours dans la librairie standard, le [module `SocketServer`](https://docs.python.org/2/library/socketserver.html) - qui, incidemment est \u00e9crit en C - fait un usage beaucoup plus sophistiqu\u00e9 de l'h\u00e9ritage.\n",
      "\n",
      "Le module propose une hi\u00e9rarchie de classes comme ceci:"
     ]
    },
    {
     "cell_type": "markdown",
     "metadata": {},
     "source": [
      "    +------------+\n",
      "    | BaseServer |\n",
      "    +------------+\n",
      "          |\n",
      "          v\n",
      "    +-----------+        +------------------+\n",
      "    | TCPServer |------->| UnixStreamServer |\n",
      "    +-----------+        +------------------+\n",
      "          |\n",
      "          v\n",
      "    +-----------+        +--------------------+\n",
      "    | UDPServer |------->| UnixDatagramServer |\n",
      "    +-----------+        +--------------------+"
     ]
    },
    {
     "cell_type": "markdown",
     "metadata": {},
     "source": [
      "Ici encore notre propos n'est pas d'entrer dans les d\u00e9tails, mais d'observer le fait que les diff\u00e9rents *niveaux d'intelligence* sont ajout\u00e9s les uns aux les autres au fur et \u00e0 mesure que l'on descend le graphe d'h\u00e9ritage.\n",
      "\n",
      "Cette hi\u00e9rarchie est par ailleurs \u00e9tendue par le [module `BaseHTTPServer`](https://docs.python.org/2/library/basehttpserver.html) et notamment au travers de la classe [`HTTPServer`](https://docs.python.org/2/library/basehttpserver.html#BaseHTTPServer.HTTPServer) qui h\u00e9rite de `TCPServer`.\n",
      "\n",
      "Pour revenir au module `SocketServer`, j'attire votre attention dans [la page d'exemples](https://docs.python.org/2/library/socketserver.html#examples) sur [cet exemple en particuler](\n",
      "https://docs.python.org/2/library/socketserver.html#asynchronous-mixins), o\u00f9 on cr\u00e9e une classe de serveurs multi-threads (la classe `ThreadedTCPServer`) par simple h\u00e9ritage multiple entre `Threading Mixin` et `TCPServer`. La notion de `Mixin` est [d\u00e9crite dans cette page wikip\u00e9dia](http://en.wikipedia.org/wiki/Mixin) dans laquelle vous pouvez acc\u00e9der directement [\u00e0 la section consacr\u00e9e \u00e0 python](http://en.wikipedia.org/wiki/Mixin#In_Python)."
     ]
    }
   ],
   "metadata": {}
  }
 ]
}